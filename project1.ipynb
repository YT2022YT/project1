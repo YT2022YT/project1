{
 "cells": [
  {
   "cell_type": "markdown",
   "metadata": {},
   "source": [
    "Hello Yaniv!\n",
    "\n",
    "My name is Olga. I'm happy to review your project today. \n",
    "\n",
    "When I will see mistake at the first time, I will just point it out. I let you find it and fix it by yourself. I'm trying to prepare you to work as an Data Analyst. SO, at a real job, your team lead will do the same. But if you can't handle this task yet, I will give you a more accurate hint at the next iteration.\n",
    "\n",
    "Below you will find my comments - **please do not move, modify or delete them**.\n",
    "\n",
    "You can find my comments in green, yellow or red boxes like this:\n",
    "\n",
    "\n",
    "<div class=\"alert alert-block alert-success\">\n",
    "<b>Reviewer's comment</b> <a class=\"tocSkip\"></a>\n",
    "    \n",
    "Success. Everything is done succesfully.\n",
    "</div>\n",
    "\n",
    "\n",
    "<div class=\"alert alert-block alert-warning\">\n",
    "<b>Reviewer's comment</b> <a class=\"tocSkip\"></a>\n",
    "    \n",
    "Remarks. Some recommendations.\n",
    "</div>\n",
    "\n",
    "\n",
    "<div class=\"alert alert-block alert-danger\">\n",
    "    \n",
    "<b>Reviewer's comment</b> <a class=\"tocSkip\"></a>\n",
    "    \n",
    "    \n",
    "Needs fixing. The block requires some corrections. Work can't be accepted with the red comments.\n",
    "</div>\n",
    "\n",
    "\n",
    "You can answer me by using this: \n",
    "\n",
    "<div class=\"alert alert-block alert-info\">\n",
    "<b>Student answer.</b> <a class=\"tocSkip\"></a>\n",
    "</div>"
   ]
  },
  {
   "cell_type": "markdown",
   "metadata": {},
   "source": [
    "<div class=\"alert alert-block alert-success\">\n",
    "<b>Overallv reviewer's comment</b> <a class=\"tocSkip\"></a>\n",
    "    \n",
    "Yaniv, thank you for sending your project. You've done a really good job on it!\n",
    "\n",
    "While there's room for improvement, on the whole, your project is impressive good. You did a great job! \n",
    "\n",
    "<span class=\"text-danger\">There are one little thing that need to be corrected in your project. Could you check my comment? </span>\n",
    "    \n",
    "Every issue with our code is a chance for us to learn something new.\n",
    "\n",
    "Good luck! :)\n",
    "    \n",
    "</div>\n",
    "\n",
    "<div class=\"alert alert-block alert-warning\">\n",
    "<b>For your future projects</b> <a class=\"tocSkip\"></a>\n",
    "        \n",
    "- It would be better to import all libraries in a first cell. It help us to set up of working environment.\n",
    "\n",
    "- It is very good that you use Markdown! Please, use it more clearly. We can use #, ##, ###. etc for title, heading, subtitle, steps, etc. It helps to make our contents more structured\n",
    "\n",
    "</div>\n"
   ]
  },
  {
   "cell_type": "markdown",
   "metadata": {},
   "source": [
    "<div class=\"alert alert-block alert-info\">\n",
    "<b>First time I worked with Jupiter, before the next project I will learn how to use # ## ## and etc.</b> <a class=\"tocSkip\"></a>\n",
    "</div>"
   ]
  },
  {
   "cell_type": "markdown",
   "metadata": {},
   "source": [
    "<div class=\"alert alert-block alert-success\">\n",
    "<b>Overallv reviewer's comment. V.2.</b> <a class=\"tocSkip\"></a>\n",
    "    \n",
    "Hello Yaniv!  Your corrections look great, you've improved your work significantly!\n",
    "    \n",
    "I'm glad to say that your project has been accepted.\n",
    "    \n",
    "Keep up the good work, and good luck on the next sprint! :) \n",
    "    \n",
    "</div>"
   ]
  },
  {
   "cell_type": "markdown",
   "metadata": {},
   "source": [
    "# Analyzing borrowers’ risk of defaulting\n",
    "\n",
    "Your project is to prepare a report for a bank’s loan division. You’ll need to find out if a customer’s marital status and number of children has an impact on whether they will default on a loan. The bank already has some data on customers’ credit worthiness.\n",
    "\n",
    "Your report will be considered when building the **credit score** of a potential customer. The **credit score** is used to evaluate the ability of a potential borrower to repay their loan.\n",
    "\n"
   ]
  },
  {
   "cell_type": "markdown",
   "metadata": {},
   "source": [
    "**Before Im going to load the data and start my analyzing work Im adding the project description & main Q I been ask to answer and fill the report on, on the TOP of my project notebook, so I can always look in to them and make sure that Im working only on the problems I been ask to solve, and keep in maind the stracture of the work I need to do in the process of finding answers to the Q.** \n",
    "\n",
    "**Project description:**\n",
    "\n",
    "Your project is to prepare a report for a bank’s loan division. You’ll need to find out if a customer’s marital status and number of children have an impact on whether they will default on a loan. The bank already has some data on customers’ credit worthiness.\n",
    "Your report will be considered when building a credit score for a potential customer. A credit score is used to evaluate the ability of a potential borrower to repay their loan.\n",
    "\n",
    "**Answer these questions:**\n",
    "\n",
    "1. Is there a connection between having **kids** and repaying a loan on time?\n",
    "2. Is there a connection between **marital status** and repaying a loan on time?\n",
    "3. Is there a connection between **income level** and repaying a loan on time?\n",
    "4. How do different loan **purposes** affect on-time loan repayment?\n",
    "\n",
    "**plan of work**\n",
    "\n",
    "1. Read the DATA & learn the general information.\n",
    "2. Data preprocessing.\n",
    "3. Categorizion data\n",
    "4. Study & check for conclusion in the process DATA and the Q I been asked.\n",
    "5. Final conclusion. "
   ]
  },
  {
   "cell_type": "markdown",
   "metadata": {},
   "source": [
    "<div class=\"alert alert-block alert-success\">\n",
    "<b>Reviewer's comment</b> <a class=\"tocSkip\"></a>\n",
    "    \n",
    "Great start with detailed introduction! :) </div>"
   ]
  },
  {
   "cell_type": "code",
   "execution_count": 1,
   "metadata": {},
   "outputs": [],
   "source": [
    "# Loading all the libraries\n",
    "import pandas as pd\n",
    "import nltk\n",
    "from nltk.stem import WordNetLemmatizer\n",
    "from nltk.stem import SnowballStemmer\n",
    "english_stemmer = SnowballStemmer('english')\n",
    "from collections import Counter\n",
    "\n",
    "\n"
   ]
  },
  {
   "cell_type": "code",
   "execution_count": 2,
   "metadata": {
    "scrolled": true
   },
   "outputs": [],
   "source": [
    "# Load the data\n",
    "credit_score = pd.read_csv('/datasets/credit_scoring_eng.csv')"
   ]
  },
  {
   "cell_type": "markdown",
   "metadata": {},
   "source": [
    "**Im reading the file, and save it to credit_score (NAME) which I took from the Task main GOAL** "
   ]
  },
  {
   "cell_type": "markdown",
   "metadata": {},
   "source": [
    "<div class=\"alert alert-block alert-warning\">\n",
    "<b>Reviewer's comment</b> <a class=\"tocSkip\"></a>\n",
    "    \n",
    "It would be better to import libraries in a first cell and read datasets in the second. Imagine we need to add a library. It will be easier to restart one cell than whole project.\n",
    "\n",
    "</div>"
   ]
  },
  {
   "cell_type": "markdown",
   "metadata": {},
   "source": [
    "<div class=\"alert alert-block alert-info\">\n",
    "<b>Fix.</b> <a class=\"tocSkip\"></a>\n",
    "</div>"
   ]
  },
  {
   "cell_type": "markdown",
   "metadata": {},
   "source": [
    "# 1 Data exploration\n",
    "\n",
    "**Description of the data**\n",
    "- `children` - the number of children in the family\n",
    "- `days_employed` - work experience in days\n",
    "- `dob_years` - client's age in years\n",
    "- `education` - client's education\n",
    "- `education_id` - education identifier\n",
    "- `family_status` - marital status\n",
    "- `family_status_id` - marital status identifier\n",
    "- `gender` - gender of the client\n",
    "- `income_type` - type of employment\n",
    "- `debt` - was there any debt on loan repayment\n",
    "- `total_income` - monthly income\n",
    "- `purpose` - the purpose of obtaining a loan\n",
    "\n"
   ]
  },
  {
   "cell_type": "code",
   "execution_count": 3,
   "metadata": {
    "scrolled": true
   },
   "outputs": [
    {
     "name": "stdout",
     "output_type": "stream",
     "text": [
      "<class 'pandas.core.frame.DataFrame'>\n",
      "RangeIndex: 21525 entries, 0 to 21524\n",
      "Data columns (total 12 columns):\n",
      "children            21525 non-null int64\n",
      "days_employed       19351 non-null float64\n",
      "dob_years           21525 non-null int64\n",
      "education           21525 non-null object\n",
      "education_id        21525 non-null int64\n",
      "family_status       21525 non-null object\n",
      "family_status_id    21525 non-null int64\n",
      "gender              21525 non-null object\n",
      "income_type         21525 non-null object\n",
      "debt                21525 non-null int64\n",
      "total_income        19351 non-null float64\n",
      "purpose             21525 non-null object\n",
      "dtypes: float64(2), int64(5), object(5)\n",
      "memory usage: 2.0+ MB\n"
     ]
    }
   ],
   "source": [
    "\n",
    "credit_score.info()"
   ]
  },
  {
   "cell_type": "markdown",
   "metadata": {},
   "source": [
    "**Conclusions**\n",
    "\n",
    "1. From calling the (.info) I can learn that this dataset have 21525 rows in 12 diffrent columns.\n",
    "2. I can also notice that before any changes the data in the columns have multipile types\n",
    "_**[float64(2), int64(5), object(5)].**_\n",
    "3. I can already learn that there is missing values/ missing info in 2 diffrent columns **(days_employed , total_income)**, & The missing values in both of the columns is the some - indicate that the issue maybe related in both.*\n",
    "4. From the name of the column (days_employed) we can assum the type seposed to be int and not float, I will need to look\n",
    "into that and see if there is some type of problem in the data (maybe nagative values??).\n",
    "5. The name in the column **[dob_years]** probably related to the costumer **AGE** and therfor I will probably change the name of the column so it will be easier to look and study.*\n",
    "    "
   ]
  },
  {
   "cell_type": "code",
   "execution_count": 4,
   "metadata": {},
   "outputs": [
    {
     "data": {
      "text/html": [
       "<div>\n",
       "<style scoped>\n",
       "    .dataframe tbody tr th:only-of-type {\n",
       "        vertical-align: middle;\n",
       "    }\n",
       "\n",
       "    .dataframe tbody tr th {\n",
       "        vertical-align: top;\n",
       "    }\n",
       "\n",
       "    .dataframe thead th {\n",
       "        text-align: right;\n",
       "    }\n",
       "</style>\n",
       "<table border=\"1\" class=\"dataframe\">\n",
       "  <thead>\n",
       "    <tr style=\"text-align: right;\">\n",
       "      <th></th>\n",
       "      <th>children</th>\n",
       "      <th>days_employed</th>\n",
       "      <th>dob_years</th>\n",
       "      <th>education</th>\n",
       "      <th>education_id</th>\n",
       "      <th>family_status</th>\n",
       "      <th>family_status_id</th>\n",
       "      <th>gender</th>\n",
       "      <th>income_type</th>\n",
       "      <th>debt</th>\n",
       "      <th>total_income</th>\n",
       "      <th>purpose</th>\n",
       "    </tr>\n",
       "  </thead>\n",
       "  <tbody>\n",
       "    <tr>\n",
       "      <td>0</td>\n",
       "      <td>1</td>\n",
       "      <td>-8437.673028</td>\n",
       "      <td>42</td>\n",
       "      <td>bachelor's degree</td>\n",
       "      <td>0</td>\n",
       "      <td>married</td>\n",
       "      <td>0</td>\n",
       "      <td>F</td>\n",
       "      <td>employee</td>\n",
       "      <td>0</td>\n",
       "      <td>40620.102</td>\n",
       "      <td>purchase of the house</td>\n",
       "    </tr>\n",
       "    <tr>\n",
       "      <td>1</td>\n",
       "      <td>1</td>\n",
       "      <td>-4024.803754</td>\n",
       "      <td>36</td>\n",
       "      <td>secondary education</td>\n",
       "      <td>1</td>\n",
       "      <td>married</td>\n",
       "      <td>0</td>\n",
       "      <td>F</td>\n",
       "      <td>employee</td>\n",
       "      <td>0</td>\n",
       "      <td>17932.802</td>\n",
       "      <td>car purchase</td>\n",
       "    </tr>\n",
       "    <tr>\n",
       "      <td>2</td>\n",
       "      <td>0</td>\n",
       "      <td>-5623.422610</td>\n",
       "      <td>33</td>\n",
       "      <td>Secondary Education</td>\n",
       "      <td>1</td>\n",
       "      <td>married</td>\n",
       "      <td>0</td>\n",
       "      <td>M</td>\n",
       "      <td>employee</td>\n",
       "      <td>0</td>\n",
       "      <td>23341.752</td>\n",
       "      <td>purchase of the house</td>\n",
       "    </tr>\n",
       "    <tr>\n",
       "      <td>3</td>\n",
       "      <td>3</td>\n",
       "      <td>-4124.747207</td>\n",
       "      <td>32</td>\n",
       "      <td>secondary education</td>\n",
       "      <td>1</td>\n",
       "      <td>married</td>\n",
       "      <td>0</td>\n",
       "      <td>M</td>\n",
       "      <td>employee</td>\n",
       "      <td>0</td>\n",
       "      <td>42820.568</td>\n",
       "      <td>supplementary education</td>\n",
       "    </tr>\n",
       "    <tr>\n",
       "      <td>4</td>\n",
       "      <td>0</td>\n",
       "      <td>340266.072047</td>\n",
       "      <td>53</td>\n",
       "      <td>secondary education</td>\n",
       "      <td>1</td>\n",
       "      <td>civil partnership</td>\n",
       "      <td>1</td>\n",
       "      <td>F</td>\n",
       "      <td>retiree</td>\n",
       "      <td>0</td>\n",
       "      <td>25378.572</td>\n",
       "      <td>to have a wedding</td>\n",
       "    </tr>\n",
       "  </tbody>\n",
       "</table>\n",
       "</div>"
      ],
      "text/plain": [
       "   children  days_employed  dob_years            education  education_id  \\\n",
       "0         1   -8437.673028         42    bachelor's degree             0   \n",
       "1         1   -4024.803754         36  secondary education             1   \n",
       "2         0   -5623.422610         33  Secondary Education             1   \n",
       "3         3   -4124.747207         32  secondary education             1   \n",
       "4         0  340266.072047         53  secondary education             1   \n",
       "\n",
       "       family_status  family_status_id gender income_type  debt  total_income  \\\n",
       "0            married                 0      F    employee     0     40620.102   \n",
       "1            married                 0      F    employee     0     17932.802   \n",
       "2            married                 0      M    employee     0     23341.752   \n",
       "3            married                 0      M    employee     0     42820.568   \n",
       "4  civil partnership                 1      F     retiree     0     25378.572   \n",
       "\n",
       "                   purpose  \n",
       "0    purchase of the house  \n",
       "1             car purchase  \n",
       "2    purchase of the house  \n",
       "3  supplementary education  \n",
       "4        to have a wedding  "
      ]
     },
     "execution_count": 4,
     "metadata": {},
     "output_type": "execute_result"
    }
   ],
   "source": [
    "credit_score.head(5)"
   ]
  },
  {
   "cell_type": "code",
   "execution_count": 5,
   "metadata": {},
   "outputs": [
    {
     "data": {
      "text/html": [
       "<div>\n",
       "<style scoped>\n",
       "    .dataframe tbody tr th:only-of-type {\n",
       "        vertical-align: middle;\n",
       "    }\n",
       "\n",
       "    .dataframe tbody tr th {\n",
       "        vertical-align: top;\n",
       "    }\n",
       "\n",
       "    .dataframe thead th {\n",
       "        text-align: right;\n",
       "    }\n",
       "</style>\n",
       "<table border=\"1\" class=\"dataframe\">\n",
       "  <thead>\n",
       "    <tr style=\"text-align: right;\">\n",
       "      <th></th>\n",
       "      <th>children</th>\n",
       "      <th>days_employed</th>\n",
       "      <th>dob_years</th>\n",
       "      <th>education</th>\n",
       "      <th>education_id</th>\n",
       "      <th>family_status</th>\n",
       "      <th>family_status_id</th>\n",
       "      <th>gender</th>\n",
       "      <th>income_type</th>\n",
       "      <th>debt</th>\n",
       "      <th>total_income</th>\n",
       "      <th>purpose</th>\n",
       "    </tr>\n",
       "  </thead>\n",
       "  <tbody>\n",
       "    <tr>\n",
       "      <td>21520</td>\n",
       "      <td>1</td>\n",
       "      <td>-4529.316663</td>\n",
       "      <td>43</td>\n",
       "      <td>secondary education</td>\n",
       "      <td>1</td>\n",
       "      <td>civil partnership</td>\n",
       "      <td>1</td>\n",
       "      <td>F</td>\n",
       "      <td>business</td>\n",
       "      <td>0</td>\n",
       "      <td>35966.698</td>\n",
       "      <td>housing transactions</td>\n",
       "    </tr>\n",
       "    <tr>\n",
       "      <td>21521</td>\n",
       "      <td>0</td>\n",
       "      <td>343937.404131</td>\n",
       "      <td>67</td>\n",
       "      <td>secondary education</td>\n",
       "      <td>1</td>\n",
       "      <td>married</td>\n",
       "      <td>0</td>\n",
       "      <td>F</td>\n",
       "      <td>retiree</td>\n",
       "      <td>0</td>\n",
       "      <td>24959.969</td>\n",
       "      <td>purchase of a car</td>\n",
       "    </tr>\n",
       "    <tr>\n",
       "      <td>21522</td>\n",
       "      <td>1</td>\n",
       "      <td>-2113.346888</td>\n",
       "      <td>38</td>\n",
       "      <td>secondary education</td>\n",
       "      <td>1</td>\n",
       "      <td>civil partnership</td>\n",
       "      <td>1</td>\n",
       "      <td>M</td>\n",
       "      <td>employee</td>\n",
       "      <td>1</td>\n",
       "      <td>14347.610</td>\n",
       "      <td>property</td>\n",
       "    </tr>\n",
       "    <tr>\n",
       "      <td>21523</td>\n",
       "      <td>3</td>\n",
       "      <td>-3112.481705</td>\n",
       "      <td>38</td>\n",
       "      <td>secondary education</td>\n",
       "      <td>1</td>\n",
       "      <td>married</td>\n",
       "      <td>0</td>\n",
       "      <td>M</td>\n",
       "      <td>employee</td>\n",
       "      <td>1</td>\n",
       "      <td>39054.888</td>\n",
       "      <td>buying my own car</td>\n",
       "    </tr>\n",
       "    <tr>\n",
       "      <td>21524</td>\n",
       "      <td>2</td>\n",
       "      <td>-1984.507589</td>\n",
       "      <td>40</td>\n",
       "      <td>secondary education</td>\n",
       "      <td>1</td>\n",
       "      <td>married</td>\n",
       "      <td>0</td>\n",
       "      <td>F</td>\n",
       "      <td>employee</td>\n",
       "      <td>0</td>\n",
       "      <td>13127.587</td>\n",
       "      <td>to buy a car</td>\n",
       "    </tr>\n",
       "  </tbody>\n",
       "</table>\n",
       "</div>"
      ],
      "text/plain": [
       "       children  days_employed  dob_years            education  education_id  \\\n",
       "21520         1   -4529.316663         43  secondary education             1   \n",
       "21521         0  343937.404131         67  secondary education             1   \n",
       "21522         1   -2113.346888         38  secondary education             1   \n",
       "21523         3   -3112.481705         38  secondary education             1   \n",
       "21524         2   -1984.507589         40  secondary education             1   \n",
       "\n",
       "           family_status  family_status_id gender income_type  debt  \\\n",
       "21520  civil partnership                 1      F    business     0   \n",
       "21521            married                 0      F     retiree     0   \n",
       "21522  civil partnership                 1      M    employee     1   \n",
       "21523            married                 0      M    employee     1   \n",
       "21524            married                 0      F    employee     0   \n",
       "\n",
       "       total_income               purpose  \n",
       "21520     35966.698  housing transactions  \n",
       "21521     24959.969     purchase of a car  \n",
       "21522     14347.610              property  \n",
       "21523     39054.888     buying my own car  \n",
       "21524     13127.587          to buy a car  "
      ]
     },
     "execution_count": 5,
     "metadata": {},
     "output_type": "execute_result"
    }
   ],
   "source": [
    "credit_score.tail(5)"
   ]
  },
  {
   "cell_type": "code",
   "execution_count": 6,
   "metadata": {},
   "outputs": [
    {
     "data": {
      "text/html": [
       "<div>\n",
       "<style scoped>\n",
       "    .dataframe tbody tr th:only-of-type {\n",
       "        vertical-align: middle;\n",
       "    }\n",
       "\n",
       "    .dataframe tbody tr th {\n",
       "        vertical-align: top;\n",
       "    }\n",
       "\n",
       "    .dataframe thead th {\n",
       "        text-align: right;\n",
       "    }\n",
       "</style>\n",
       "<table border=\"1\" class=\"dataframe\">\n",
       "  <thead>\n",
       "    <tr style=\"text-align: right;\">\n",
       "      <th></th>\n",
       "      <th>children</th>\n",
       "      <th>days_employed</th>\n",
       "      <th>dob_years</th>\n",
       "      <th>education</th>\n",
       "      <th>education_id</th>\n",
       "      <th>family_status</th>\n",
       "      <th>family_status_id</th>\n",
       "      <th>gender</th>\n",
       "      <th>income_type</th>\n",
       "      <th>debt</th>\n",
       "      <th>total_income</th>\n",
       "      <th>purpose</th>\n",
       "    </tr>\n",
       "  </thead>\n",
       "  <tbody>\n",
       "    <tr>\n",
       "      <td>16880</td>\n",
       "      <td>0</td>\n",
       "      <td>-3168.852713</td>\n",
       "      <td>41</td>\n",
       "      <td>Bachelor's Degree</td>\n",
       "      <td>0</td>\n",
       "      <td>married</td>\n",
       "      <td>0</td>\n",
       "      <td>M</td>\n",
       "      <td>employee</td>\n",
       "      <td>0</td>\n",
       "      <td>22903.600</td>\n",
       "      <td>purchase of my own house</td>\n",
       "    </tr>\n",
       "    <tr>\n",
       "      <td>13745</td>\n",
       "      <td>0</td>\n",
       "      <td>-527.266053</td>\n",
       "      <td>48</td>\n",
       "      <td>secondary education</td>\n",
       "      <td>1</td>\n",
       "      <td>divorced</td>\n",
       "      <td>3</td>\n",
       "      <td>F</td>\n",
       "      <td>employee</td>\n",
       "      <td>0</td>\n",
       "      <td>34796.566</td>\n",
       "      <td>real estate transactions</td>\n",
       "    </tr>\n",
       "    <tr>\n",
       "      <td>11916</td>\n",
       "      <td>0</td>\n",
       "      <td>NaN</td>\n",
       "      <td>28</td>\n",
       "      <td>secondary education</td>\n",
       "      <td>1</td>\n",
       "      <td>married</td>\n",
       "      <td>0</td>\n",
       "      <td>M</td>\n",
       "      <td>employee</td>\n",
       "      <td>0</td>\n",
       "      <td>NaN</td>\n",
       "      <td>construction of own property</td>\n",
       "    </tr>\n",
       "    <tr>\n",
       "      <td>11584</td>\n",
       "      <td>1</td>\n",
       "      <td>NaN</td>\n",
       "      <td>53</td>\n",
       "      <td>Secondary Education</td>\n",
       "      <td>1</td>\n",
       "      <td>married</td>\n",
       "      <td>0</td>\n",
       "      <td>F</td>\n",
       "      <td>employee</td>\n",
       "      <td>0</td>\n",
       "      <td>NaN</td>\n",
       "      <td>property</td>\n",
       "    </tr>\n",
       "    <tr>\n",
       "      <td>3171</td>\n",
       "      <td>1</td>\n",
       "      <td>-5399.597660</td>\n",
       "      <td>35</td>\n",
       "      <td>bachelor's degree</td>\n",
       "      <td>0</td>\n",
       "      <td>married</td>\n",
       "      <td>0</td>\n",
       "      <td>M</td>\n",
       "      <td>employee</td>\n",
       "      <td>0</td>\n",
       "      <td>19541.958</td>\n",
       "      <td>building a property</td>\n",
       "    </tr>\n",
       "  </tbody>\n",
       "</table>\n",
       "</div>"
      ],
      "text/plain": [
       "       children  days_employed  dob_years            education  education_id  \\\n",
       "16880         0   -3168.852713         41    Bachelor's Degree             0   \n",
       "13745         0    -527.266053         48  secondary education             1   \n",
       "11916         0            NaN         28  secondary education             1   \n",
       "11584         1            NaN         53  Secondary Education             1   \n",
       "3171          1   -5399.597660         35    bachelor's degree             0   \n",
       "\n",
       "      family_status  family_status_id gender income_type  debt  total_income  \\\n",
       "16880       married                 0      M    employee     0     22903.600   \n",
       "13745      divorced                 3      F    employee     0     34796.566   \n",
       "11916       married                 0      M    employee     0           NaN   \n",
       "11584       married                 0      F    employee     0           NaN   \n",
       "3171        married                 0      M    employee     0     19541.958   \n",
       "\n",
       "                            purpose  \n",
       "16880      purchase of my own house  \n",
       "13745      real estate transactions  \n",
       "11916  construction of own property  \n",
       "11584                      property  \n",
       "3171            building a property  "
      ]
     },
     "execution_count": 6,
     "metadata": {},
     "output_type": "execute_result"
    }
   ],
   "source": [
    "credit_score.sample(5)"
   ]
  },
  {
   "cell_type": "markdown",
   "metadata": {},
   "source": [
    "**Conclusions**\n",
    "\n",
    "1. I printed 3 diffrent sections in the table to obbserve the information it containe. After printing **(.head() , .tail() and .sample()** from my data set I can learn some more issues:\n",
    "2. In the column (days_employed) I have negative values, which not seposed to be.\n",
    "3. I will need to furthere investegate in to the data and the issues I found till now.\n"
   ]
  },
  {
   "cell_type": "code",
   "execution_count": 7,
   "metadata": {
    "scrolled": false
   },
   "outputs": [
    {
     "data": {
      "text/plain": [
       "children               0\n",
       "days_employed       2174\n",
       "dob_years              0\n",
       "education              0\n",
       "education_id           0\n",
       "family_status          0\n",
       "family_status_id       0\n",
       "gender                 0\n",
       "income_type            0\n",
       "debt                   0\n",
       "total_income        2174\n",
       "purpose                0\n",
       "dtype: int64"
      ]
     },
     "execution_count": 7,
     "metadata": {},
     "output_type": "execute_result"
    }
   ],
   "source": [
    "credit_score.isnull().sum()"
   ]
  },
  {
   "cell_type": "markdown",
   "metadata": {},
   "source": [
    "**Conclusions**\n",
    "\n",
    "As I could learn from the .info table, I can confirm that the missing values are only in 2 column and they have the exect sum of missing value. I can assum thay connected and maybe there was a problem with reading excel file or maybe thay been left in peurpse. I will need to keep my investegation before delete/fill them and that becuse atleast _[total_income]_ columns is in the heart of the reserch I need to do in this Task, and I cant just change it before learning the meaning of the data."
   ]
  },
  {
   "cell_type": "code",
   "execution_count": 8,
   "metadata": {
    "scrolled": false
   },
   "outputs": [
    {
     "data": {
      "text/html": [
       "<div>\n",
       "<style scoped>\n",
       "    .dataframe tbody tr th:only-of-type {\n",
       "        vertical-align: middle;\n",
       "    }\n",
       "\n",
       "    .dataframe tbody tr th {\n",
       "        vertical-align: top;\n",
       "    }\n",
       "\n",
       "    .dataframe thead th {\n",
       "        text-align: right;\n",
       "    }\n",
       "</style>\n",
       "<table border=\"1\" class=\"dataframe\">\n",
       "  <thead>\n",
       "    <tr style=\"text-align: right;\">\n",
       "      <th></th>\n",
       "      <th>children</th>\n",
       "      <th>days_employed</th>\n",
       "      <th>dob_years</th>\n",
       "      <th>education</th>\n",
       "      <th>education_id</th>\n",
       "      <th>family_status</th>\n",
       "      <th>family_status_id</th>\n",
       "      <th>gender</th>\n",
       "      <th>income_type</th>\n",
       "      <th>debt</th>\n",
       "      <th>total_income</th>\n",
       "      <th>purpose</th>\n",
       "    </tr>\n",
       "  </thead>\n",
       "  <tbody>\n",
       "    <tr>\n",
       "      <td>count</td>\n",
       "      <td>21525.000000</td>\n",
       "      <td>19351.000000</td>\n",
       "      <td>21525.000000</td>\n",
       "      <td>21525</td>\n",
       "      <td>21525.000000</td>\n",
       "      <td>21525</td>\n",
       "      <td>21525.000000</td>\n",
       "      <td>21525</td>\n",
       "      <td>21525</td>\n",
       "      <td>21525.000000</td>\n",
       "      <td>19351.000000</td>\n",
       "      <td>21525</td>\n",
       "    </tr>\n",
       "    <tr>\n",
       "      <td>unique</td>\n",
       "      <td>NaN</td>\n",
       "      <td>NaN</td>\n",
       "      <td>NaN</td>\n",
       "      <td>15</td>\n",
       "      <td>NaN</td>\n",
       "      <td>5</td>\n",
       "      <td>NaN</td>\n",
       "      <td>3</td>\n",
       "      <td>8</td>\n",
       "      <td>NaN</td>\n",
       "      <td>NaN</td>\n",
       "      <td>38</td>\n",
       "    </tr>\n",
       "    <tr>\n",
       "      <td>top</td>\n",
       "      <td>NaN</td>\n",
       "      <td>NaN</td>\n",
       "      <td>NaN</td>\n",
       "      <td>secondary education</td>\n",
       "      <td>NaN</td>\n",
       "      <td>married</td>\n",
       "      <td>NaN</td>\n",
       "      <td>F</td>\n",
       "      <td>employee</td>\n",
       "      <td>NaN</td>\n",
       "      <td>NaN</td>\n",
       "      <td>wedding ceremony</td>\n",
       "    </tr>\n",
       "    <tr>\n",
       "      <td>freq</td>\n",
       "      <td>NaN</td>\n",
       "      <td>NaN</td>\n",
       "      <td>NaN</td>\n",
       "      <td>13750</td>\n",
       "      <td>NaN</td>\n",
       "      <td>12380</td>\n",
       "      <td>NaN</td>\n",
       "      <td>14236</td>\n",
       "      <td>11119</td>\n",
       "      <td>NaN</td>\n",
       "      <td>NaN</td>\n",
       "      <td>797</td>\n",
       "    </tr>\n",
       "    <tr>\n",
       "      <td>mean</td>\n",
       "      <td>0.538908</td>\n",
       "      <td>63046.497661</td>\n",
       "      <td>43.293380</td>\n",
       "      <td>NaN</td>\n",
       "      <td>0.817236</td>\n",
       "      <td>NaN</td>\n",
       "      <td>0.972544</td>\n",
       "      <td>NaN</td>\n",
       "      <td>NaN</td>\n",
       "      <td>0.080883</td>\n",
       "      <td>26787.568355</td>\n",
       "      <td>NaN</td>\n",
       "    </tr>\n",
       "    <tr>\n",
       "      <td>std</td>\n",
       "      <td>1.381587</td>\n",
       "      <td>140827.311974</td>\n",
       "      <td>12.574584</td>\n",
       "      <td>NaN</td>\n",
       "      <td>0.548138</td>\n",
       "      <td>NaN</td>\n",
       "      <td>1.420324</td>\n",
       "      <td>NaN</td>\n",
       "      <td>NaN</td>\n",
       "      <td>0.272661</td>\n",
       "      <td>16475.450632</td>\n",
       "      <td>NaN</td>\n",
       "    </tr>\n",
       "    <tr>\n",
       "      <td>min</td>\n",
       "      <td>-1.000000</td>\n",
       "      <td>-18388.949901</td>\n",
       "      <td>0.000000</td>\n",
       "      <td>NaN</td>\n",
       "      <td>0.000000</td>\n",
       "      <td>NaN</td>\n",
       "      <td>0.000000</td>\n",
       "      <td>NaN</td>\n",
       "      <td>NaN</td>\n",
       "      <td>0.000000</td>\n",
       "      <td>3306.762000</td>\n",
       "      <td>NaN</td>\n",
       "    </tr>\n",
       "    <tr>\n",
       "      <td>25%</td>\n",
       "      <td>0.000000</td>\n",
       "      <td>-2747.423625</td>\n",
       "      <td>33.000000</td>\n",
       "      <td>NaN</td>\n",
       "      <td>1.000000</td>\n",
       "      <td>NaN</td>\n",
       "      <td>0.000000</td>\n",
       "      <td>NaN</td>\n",
       "      <td>NaN</td>\n",
       "      <td>0.000000</td>\n",
       "      <td>16488.504500</td>\n",
       "      <td>NaN</td>\n",
       "    </tr>\n",
       "    <tr>\n",
       "      <td>50%</td>\n",
       "      <td>0.000000</td>\n",
       "      <td>-1203.369529</td>\n",
       "      <td>42.000000</td>\n",
       "      <td>NaN</td>\n",
       "      <td>1.000000</td>\n",
       "      <td>NaN</td>\n",
       "      <td>0.000000</td>\n",
       "      <td>NaN</td>\n",
       "      <td>NaN</td>\n",
       "      <td>0.000000</td>\n",
       "      <td>23202.870000</td>\n",
       "      <td>NaN</td>\n",
       "    </tr>\n",
       "    <tr>\n",
       "      <td>75%</td>\n",
       "      <td>1.000000</td>\n",
       "      <td>-291.095954</td>\n",
       "      <td>53.000000</td>\n",
       "      <td>NaN</td>\n",
       "      <td>1.000000</td>\n",
       "      <td>NaN</td>\n",
       "      <td>1.000000</td>\n",
       "      <td>NaN</td>\n",
       "      <td>NaN</td>\n",
       "      <td>0.000000</td>\n",
       "      <td>32549.611000</td>\n",
       "      <td>NaN</td>\n",
       "    </tr>\n",
       "    <tr>\n",
       "      <td>max</td>\n",
       "      <td>20.000000</td>\n",
       "      <td>401755.400475</td>\n",
       "      <td>75.000000</td>\n",
       "      <td>NaN</td>\n",
       "      <td>4.000000</td>\n",
       "      <td>NaN</td>\n",
       "      <td>4.000000</td>\n",
       "      <td>NaN</td>\n",
       "      <td>NaN</td>\n",
       "      <td>1.000000</td>\n",
       "      <td>362496.645000</td>\n",
       "      <td>NaN</td>\n",
       "    </tr>\n",
       "  </tbody>\n",
       "</table>\n",
       "</div>"
      ],
      "text/plain": [
       "            children  days_employed     dob_years            education  \\\n",
       "count   21525.000000   19351.000000  21525.000000                21525   \n",
       "unique           NaN            NaN           NaN                   15   \n",
       "top              NaN            NaN           NaN  secondary education   \n",
       "freq             NaN            NaN           NaN                13750   \n",
       "mean        0.538908   63046.497661     43.293380                  NaN   \n",
       "std         1.381587  140827.311974     12.574584                  NaN   \n",
       "min        -1.000000  -18388.949901      0.000000                  NaN   \n",
       "25%         0.000000   -2747.423625     33.000000                  NaN   \n",
       "50%         0.000000   -1203.369529     42.000000                  NaN   \n",
       "75%         1.000000    -291.095954     53.000000                  NaN   \n",
       "max        20.000000  401755.400475     75.000000                  NaN   \n",
       "\n",
       "        education_id family_status  family_status_id gender income_type  \\\n",
       "count   21525.000000         21525      21525.000000  21525       21525   \n",
       "unique           NaN             5               NaN      3           8   \n",
       "top              NaN       married               NaN      F    employee   \n",
       "freq             NaN         12380               NaN  14236       11119   \n",
       "mean        0.817236           NaN          0.972544    NaN         NaN   \n",
       "std         0.548138           NaN          1.420324    NaN         NaN   \n",
       "min         0.000000           NaN          0.000000    NaN         NaN   \n",
       "25%         1.000000           NaN          0.000000    NaN         NaN   \n",
       "50%         1.000000           NaN          0.000000    NaN         NaN   \n",
       "75%         1.000000           NaN          1.000000    NaN         NaN   \n",
       "max         4.000000           NaN          4.000000    NaN         NaN   \n",
       "\n",
       "                debt   total_income           purpose  \n",
       "count   21525.000000   19351.000000             21525  \n",
       "unique           NaN            NaN                38  \n",
       "top              NaN            NaN  wedding ceremony  \n",
       "freq             NaN            NaN               797  \n",
       "mean        0.080883   26787.568355               NaN  \n",
       "std         0.272661   16475.450632               NaN  \n",
       "min         0.000000    3306.762000               NaN  \n",
       "25%         0.000000   16488.504500               NaN  \n",
       "50%         0.000000   23202.870000               NaN  \n",
       "75%         0.000000   32549.611000               NaN  \n",
       "max         1.000000  362496.645000               NaN  "
      ]
     },
     "execution_count": 8,
     "metadata": {},
     "output_type": "execute_result"
    }
   ],
   "source": [
    "credit_score.describe(include = 'all')"
   ]
  },
  {
   "cell_type": "code",
   "execution_count": 9,
   "metadata": {
    "scrolled": true
   },
   "outputs": [
    {
     "data": {
      "text/plain": [
       "children               0\n",
       "days_employed       2174\n",
       "dob_years              0\n",
       "education              0\n",
       "education_id           0\n",
       "family_status          0\n",
       "family_status_id       0\n",
       "gender                 0\n",
       "income_type            0\n",
       "debt                   0\n",
       "total_income        2174\n",
       "purpose                0\n",
       "dtype: int64"
      ]
     },
     "execution_count": 9,
     "metadata": {},
     "output_type": "execute_result"
    }
   ],
   "source": [
    "credit_score.isnull().sum()"
   ]
  },
  {
   "cell_type": "code",
   "execution_count": 10,
   "metadata": {},
   "outputs": [
    {
     "data": {
      "text/plain": [
       "children            0.000000\n",
       "days_employed       0.100999\n",
       "dob_years           0.000000\n",
       "education           0.000000\n",
       "education_id        0.000000\n",
       "family_status       0.000000\n",
       "family_status_id    0.000000\n",
       "gender              0.000000\n",
       "income_type         0.000000\n",
       "debt                0.000000\n",
       "total_income        0.100999\n",
       "purpose             0.000000\n",
       "dtype: float64"
      ]
     },
     "execution_count": 10,
     "metadata": {},
     "output_type": "execute_result"
    }
   ],
   "source": [
    "credit_score.isnull().sum() / len(credit_score)"
   ]
  },
  {
   "cell_type": "code",
   "execution_count": 11,
   "metadata": {
    "scrolled": true
   },
   "outputs": [
    {
     "name": "stdout",
     "output_type": "stream",
     "text": [
      "days_employed\n",
      "total_income\n"
     ]
    }
   ],
   "source": [
    "for i in credit_score:\n",
    "    if credit_score[i].isnull().sum()>0:\n",
    "        print(i)\n"
   ]
  },
  {
   "cell_type": "markdown",
   "metadata": {},
   "source": [
    "**Conclusions**\n",
    "\n",
    "From my research so far I can learn that there is 2 coulmns with missing values & that around 10% of _(days_employed & total_income )_ are missing. also I can learn that they seem symmetric.\n",
    "Days_employed look like a complete damage data, that maybe come from damaged excel sheets, or maybe manual typo _(missing values, negative age values and co)_.\n",
    "Its look like it going to be a impossible task to restore all the values in the days_employed coulmn.\n",
    "Alto days employed is not part of the Q I need to focus on, I can't just delete the missing value raws or replace them with 0 for exemple, becuse I do have to foucus on total income in this task and there may be a connection between days_employed and total_income. I will do some more investagating on the _days_employed_ column and only then I will start changing the Values in the column. Also I will look in to the _(children,family_status,income level,purpose)_ from the _(describe)_table becuse those are the most segnificent columns for my research. and then I could write my conclusions from this part of my work."
   ]
  },
  {
   "cell_type": "code",
   "execution_count": 12,
   "metadata": {
    "scrolled": true
   },
   "outputs": [
    {
     "data": {
      "text/plain": [
       "-986.927316     1\n",
       "-7026.359174    1\n",
       "-4236.274243    1\n",
       "-6620.396473    1\n",
       "-1238.560080    1\n",
       "               ..\n",
       "-2849.351119    1\n",
       "-5619.328204    1\n",
       "-448.829898     1\n",
       "-1687.038672    1\n",
       "-582.538413     1\n",
       "Name: days_employed, Length: 19351, dtype: int64"
      ]
     },
     "execution_count": 12,
     "metadata": {},
     "output_type": "execute_result"
    }
   ],
   "source": [
    "credit_score['days_employed'].value_counts()"
   ]
  },
  {
   "cell_type": "code",
   "execution_count": 13,
   "metadata": {},
   "outputs": [
    {
     "data": {
      "text/plain": [
       "wedding ceremony                            797\n",
       "having a wedding                            777\n",
       "to have a wedding                           774\n",
       "real estate transactions                    676\n",
       "buy commercial real estate                  664\n",
       "housing transactions                        653\n",
       "buying property for renting out             653\n",
       "transactions with commercial real estate    651\n",
       "purchase of the house                       647\n",
       "housing                                     647\n",
       "purchase of the house for my family         641\n",
       "construction of own property                635\n",
       "property                                    634\n",
       "transactions with my real estate            630\n",
       "building a real estate                      626\n",
       "buy real estate                             624\n",
       "building a property                         620\n",
       "purchase of my own house                    620\n",
       "housing renovation                          612\n",
       "buy residential real estate                 607\n",
       "buying my own car                           505\n",
       "going to university                         496\n",
       "car                                         495\n",
       "second-hand car purchase                    489\n",
       "to own a car                                480\n",
       "buying a second-hand car                    479\n",
       "cars                                        478\n",
       "to buy a car                                472\n",
       "car purchase                                462\n",
       "supplementary education                     462\n",
       "purchase of a car                           455\n",
       "university education                        453\n",
       "education                                   447\n",
       "to get a supplementary education            447\n",
       "getting an education                        443\n",
       "profile education                           436\n",
       "getting higher education                    426\n",
       "to become educated                          412\n",
       "Name: purpose, dtype: int64"
      ]
     },
     "execution_count": 13,
     "metadata": {},
     "output_type": "execute_result"
    }
   ],
   "source": [
    "credit_score['purpose'].value_counts()"
   ]
  },
  {
   "cell_type": "code",
   "execution_count": 14,
   "metadata": {},
   "outputs": [
    {
     "data": {
      "text/plain": [
       "married              12380\n",
       "civil partnership     4177\n",
       "unmarried             2813\n",
       "divorced              1195\n",
       "widow / widower        960\n",
       "Name: family_status, dtype: int64"
      ]
     },
     "execution_count": 14,
     "metadata": {},
     "output_type": "execute_result"
    }
   ],
   "source": [
    "credit_score['family_status'].value_counts()"
   ]
  },
  {
   "cell_type": "code",
   "execution_count": 15,
   "metadata": {},
   "outputs": [
    {
     "data": {
      "text/plain": [
       " 0     14149\n",
       " 1      4818\n",
       " 2      2055\n",
       " 3       330\n",
       " 20       76\n",
       "-1        47\n",
       " 4        41\n",
       " 5         9\n",
       "Name: children, dtype: int64"
      ]
     },
     "execution_count": 15,
     "metadata": {},
     "output_type": "execute_result"
    }
   ],
   "source": [
    "credit_score['children'].value_counts()"
   ]
  },
  {
   "cell_type": "code",
   "execution_count": 16,
   "metadata": {},
   "outputs": [
    {
     "data": {
      "text/plain": [
       "17312.717    2\n",
       "31791.384    2\n",
       "42413.096    2\n",
       "54857.666    1\n",
       "26935.722    1\n",
       "            ..\n",
       "48796.341    1\n",
       "34774.610    1\n",
       "15710.698    1\n",
       "19232.334    1\n",
       "9591.824     1\n",
       "Name: total_income, Length: 19348, dtype: int64"
      ]
     },
     "execution_count": 16,
     "metadata": {},
     "output_type": "execute_result"
    }
   ],
   "source": [
    "credit_score['total_income'].value_counts()"
   ]
  },
  {
   "cell_type": "markdown",
   "metadata": {},
   "source": [
    "**Conclusions**\n",
    "\n",
    "1. approx 10% of data in columns **[\"days_employed\", \"income_type\"]** is missing.\n",
    "2. I need to change type of **[days_employed]** from floth to Int.\n",
    "3. I need transform the strings(object) in the columns to : lower.\n",
    "4. I need to categorize data and lemmatize **[purpose]**.\n",
    "5. 2174 records are missing information in columns **[‘days_employed’, ’total_income’]** I did not find a pattern according to which these values could have been missed.\n",
    "6. some information has the same meaning like family_status and family_status_id.\n",
    "7. **[children]** column have negative values - min=-1  and also very high values  max=20.\n",
    "8. **[days_employed]** column, max is 401755, impossible value.\n",
    "9. **[dob_years]**- min=0 impossible value."
   ]
  },
  {
   "cell_type": "markdown",
   "metadata": {},
   "source": [
    "<div class=\"alert alert-block alert-success\">\n",
    "<b>Reviewer's comment</b> <a class=\"tocSkip\"></a>\n",
    "    \n",
    "So, we have basic information about our dataset. Let's start!</div>"
   ]
  },
  {
   "cell_type": "markdown",
   "metadata": {},
   "source": [
    "# 2 Data Transformation\n",
    "\n",
    "1. **Data preprocessing**\n",
    "2. **Removing duplicates**\n",
    "3. **Fixing information**"
   ]
  },
  {
   "cell_type": "code",
   "execution_count": 17,
   "metadata": {},
   "outputs": [],
   "source": [
    "credit_score.rename(columns={'dob_years':'age'}, inplace = True)"
   ]
  },
  {
   "cell_type": "code",
   "execution_count": 18,
   "metadata": {
    "scrolled": true
   },
   "outputs": [
    {
     "data": {
      "text/html": [
       "<div>\n",
       "<style scoped>\n",
       "    .dataframe tbody tr th:only-of-type {\n",
       "        vertical-align: middle;\n",
       "    }\n",
       "\n",
       "    .dataframe tbody tr th {\n",
       "        vertical-align: top;\n",
       "    }\n",
       "\n",
       "    .dataframe thead th {\n",
       "        text-align: right;\n",
       "    }\n",
       "</style>\n",
       "<table border=\"1\" class=\"dataframe\">\n",
       "  <thead>\n",
       "    <tr style=\"text-align: right;\">\n",
       "      <th></th>\n",
       "      <th>children</th>\n",
       "      <th>days_employed</th>\n",
       "      <th>age</th>\n",
       "      <th>education</th>\n",
       "      <th>education_id</th>\n",
       "      <th>family_status</th>\n",
       "      <th>family_status_id</th>\n",
       "      <th>gender</th>\n",
       "      <th>income_type</th>\n",
       "      <th>debt</th>\n",
       "      <th>total_income</th>\n",
       "      <th>purpose</th>\n",
       "    </tr>\n",
       "  </thead>\n",
       "  <tbody>\n",
       "    <tr>\n",
       "      <td>0</td>\n",
       "      <td>1</td>\n",
       "      <td>-8437.673028</td>\n",
       "      <td>42</td>\n",
       "      <td>bachelor's degree</td>\n",
       "      <td>0</td>\n",
       "      <td>married</td>\n",
       "      <td>0</td>\n",
       "      <td>F</td>\n",
       "      <td>employee</td>\n",
       "      <td>0</td>\n",
       "      <td>40620.102</td>\n",
       "      <td>purchase of the house</td>\n",
       "    </tr>\n",
       "    <tr>\n",
       "      <td>1</td>\n",
       "      <td>1</td>\n",
       "      <td>-4024.803754</td>\n",
       "      <td>36</td>\n",
       "      <td>secondary education</td>\n",
       "      <td>1</td>\n",
       "      <td>married</td>\n",
       "      <td>0</td>\n",
       "      <td>F</td>\n",
       "      <td>employee</td>\n",
       "      <td>0</td>\n",
       "      <td>17932.802</td>\n",
       "      <td>car purchase</td>\n",
       "    </tr>\n",
       "    <tr>\n",
       "      <td>2</td>\n",
       "      <td>0</td>\n",
       "      <td>-5623.422610</td>\n",
       "      <td>33</td>\n",
       "      <td>Secondary Education</td>\n",
       "      <td>1</td>\n",
       "      <td>married</td>\n",
       "      <td>0</td>\n",
       "      <td>M</td>\n",
       "      <td>employee</td>\n",
       "      <td>0</td>\n",
       "      <td>23341.752</td>\n",
       "      <td>purchase of the house</td>\n",
       "    </tr>\n",
       "    <tr>\n",
       "      <td>3</td>\n",
       "      <td>3</td>\n",
       "      <td>-4124.747207</td>\n",
       "      <td>32</td>\n",
       "      <td>secondary education</td>\n",
       "      <td>1</td>\n",
       "      <td>married</td>\n",
       "      <td>0</td>\n",
       "      <td>M</td>\n",
       "      <td>employee</td>\n",
       "      <td>0</td>\n",
       "      <td>42820.568</td>\n",
       "      <td>supplementary education</td>\n",
       "    </tr>\n",
       "    <tr>\n",
       "      <td>4</td>\n",
       "      <td>0</td>\n",
       "      <td>340266.072047</td>\n",
       "      <td>53</td>\n",
       "      <td>secondary education</td>\n",
       "      <td>1</td>\n",
       "      <td>civil partnership</td>\n",
       "      <td>1</td>\n",
       "      <td>F</td>\n",
       "      <td>retiree</td>\n",
       "      <td>0</td>\n",
       "      <td>25378.572</td>\n",
       "      <td>to have a wedding</td>\n",
       "    </tr>\n",
       "  </tbody>\n",
       "</table>\n",
       "</div>"
      ],
      "text/plain": [
       "   children  days_employed  age            education  education_id  \\\n",
       "0         1   -8437.673028   42    bachelor's degree             0   \n",
       "1         1   -4024.803754   36  secondary education             1   \n",
       "2         0   -5623.422610   33  Secondary Education             1   \n",
       "3         3   -4124.747207   32  secondary education             1   \n",
       "4         0  340266.072047   53  secondary education             1   \n",
       "\n",
       "       family_status  family_status_id gender income_type  debt  total_income  \\\n",
       "0            married                 0      F    employee     0     40620.102   \n",
       "1            married                 0      F    employee     0     17932.802   \n",
       "2            married                 0      M    employee     0     23341.752   \n",
       "3            married                 0      M    employee     0     42820.568   \n",
       "4  civil partnership                 1      F     retiree     0     25378.572   \n",
       "\n",
       "                   purpose  \n",
       "0    purchase of the house  \n",
       "1             car purchase  \n",
       "2    purchase of the house  \n",
       "3  supplementary education  \n",
       "4        to have a wedding  "
      ]
     },
     "execution_count": 18,
     "metadata": {},
     "output_type": "execute_result"
    }
   ],
   "source": [
    "credit_score.head()"
   ]
  },
  {
   "cell_type": "code",
   "execution_count": 19,
   "metadata": {
    "scrolled": false
   },
   "outputs": [
    {
     "data": {
      "text/html": [
       "<div>\n",
       "<style scoped>\n",
       "    .dataframe tbody tr th:only-of-type {\n",
       "        vertical-align: middle;\n",
       "    }\n",
       "\n",
       "    .dataframe tbody tr th {\n",
       "        vertical-align: top;\n",
       "    }\n",
       "\n",
       "    .dataframe thead th {\n",
       "        text-align: right;\n",
       "    }\n",
       "</style>\n",
       "<table border=\"1\" class=\"dataframe\">\n",
       "  <thead>\n",
       "    <tr style=\"text-align: right;\">\n",
       "      <th></th>\n",
       "      <th>count</th>\n",
       "      <th>min</th>\n",
       "      <th>median</th>\n",
       "      <th>mean</th>\n",
       "      <th>max</th>\n",
       "    </tr>\n",
       "    <tr>\n",
       "      <th>income_type</th>\n",
       "      <th></th>\n",
       "      <th></th>\n",
       "      <th></th>\n",
       "      <th></th>\n",
       "      <th></th>\n",
       "    </tr>\n",
       "  </thead>\n",
       "  <tbody>\n",
       "    <tr>\n",
       "      <td>business</td>\n",
       "      <td>4577</td>\n",
       "      <td>4592.450</td>\n",
       "      <td>27577.2720</td>\n",
       "      <td>32386.793835</td>\n",
       "      <td>362496.645</td>\n",
       "    </tr>\n",
       "    <tr>\n",
       "      <td>civil servant</td>\n",
       "      <td>1312</td>\n",
       "      <td>4672.012</td>\n",
       "      <td>24071.6695</td>\n",
       "      <td>27343.729582</td>\n",
       "      <td>145672.235</td>\n",
       "    </tr>\n",
       "    <tr>\n",
       "      <td>employee</td>\n",
       "      <td>10014</td>\n",
       "      <td>3418.824</td>\n",
       "      <td>22815.1035</td>\n",
       "      <td>25820.841683</td>\n",
       "      <td>276204.162</td>\n",
       "    </tr>\n",
       "    <tr>\n",
       "      <td>entrepreneur</td>\n",
       "      <td>1</td>\n",
       "      <td>79866.103</td>\n",
       "      <td>79866.1030</td>\n",
       "      <td>79866.103000</td>\n",
       "      <td>79866.103</td>\n",
       "    </tr>\n",
       "    <tr>\n",
       "      <td>paternity / maternity leave</td>\n",
       "      <td>1</td>\n",
       "      <td>8612.661</td>\n",
       "      <td>8612.6610</td>\n",
       "      <td>8612.661000</td>\n",
       "      <td>8612.661</td>\n",
       "    </tr>\n",
       "    <tr>\n",
       "      <td>retiree</td>\n",
       "      <td>3443</td>\n",
       "      <td>3306.762</td>\n",
       "      <td>18962.3180</td>\n",
       "      <td>21940.394503</td>\n",
       "      <td>117616.523</td>\n",
       "    </tr>\n",
       "    <tr>\n",
       "      <td>student</td>\n",
       "      <td>1</td>\n",
       "      <td>15712.260</td>\n",
       "      <td>15712.2600</td>\n",
       "      <td>15712.260000</td>\n",
       "      <td>15712.260</td>\n",
       "    </tr>\n",
       "    <tr>\n",
       "      <td>unemployed</td>\n",
       "      <td>2</td>\n",
       "      <td>9593.119</td>\n",
       "      <td>21014.3605</td>\n",
       "      <td>21014.360500</td>\n",
       "      <td>32435.602</td>\n",
       "    </tr>\n",
       "  </tbody>\n",
       "</table>\n",
       "</div>"
      ],
      "text/plain": [
       "                             count        min      median          mean  \\\n",
       "income_type                                                               \n",
       "business                      4577   4592.450  27577.2720  32386.793835   \n",
       "civil servant                 1312   4672.012  24071.6695  27343.729582   \n",
       "employee                     10014   3418.824  22815.1035  25820.841683   \n",
       "entrepreneur                     1  79866.103  79866.1030  79866.103000   \n",
       "paternity / maternity leave      1   8612.661   8612.6610   8612.661000   \n",
       "retiree                       3443   3306.762  18962.3180  21940.394503   \n",
       "student                          1  15712.260  15712.2600  15712.260000   \n",
       "unemployed                       2   9593.119  21014.3605  21014.360500   \n",
       "\n",
       "                                    max  \n",
       "income_type                              \n",
       "business                     362496.645  \n",
       "civil servant                145672.235  \n",
       "employee                     276204.162  \n",
       "entrepreneur                  79866.103  \n",
       "paternity / maternity leave    8612.661  \n",
       "retiree                      117616.523  \n",
       "student                       15712.260  \n",
       "unemployed                    32435.602  "
      ]
     },
     "execution_count": 19,
     "metadata": {},
     "output_type": "execute_result"
    }
   ],
   "source": [
    "credit_score.groupby('income_type').total_income.agg(['count','min', 'median', 'mean', 'max'])"
   ]
  },
  {
   "cell_type": "code",
   "execution_count": 20,
   "metadata": {
    "scrolled": false
   },
   "outputs": [
    {
     "data": {
      "text/html": [
       "<div>\n",
       "<style scoped>\n",
       "    .dataframe tbody tr th:only-of-type {\n",
       "        vertical-align: middle;\n",
       "    }\n",
       "\n",
       "    .dataframe tbody tr th {\n",
       "        vertical-align: top;\n",
       "    }\n",
       "\n",
       "    .dataframe thead th {\n",
       "        text-align: right;\n",
       "    }\n",
       "</style>\n",
       "<table border=\"1\" class=\"dataframe\">\n",
       "  <thead>\n",
       "    <tr style=\"text-align: right;\">\n",
       "      <th></th>\n",
       "      <th>median</th>\n",
       "    </tr>\n",
       "    <tr>\n",
       "      <th>income_type</th>\n",
       "      <th></th>\n",
       "    </tr>\n",
       "  </thead>\n",
       "  <tbody>\n",
       "    <tr>\n",
       "      <td>business</td>\n",
       "      <td>27577.2720</td>\n",
       "    </tr>\n",
       "    <tr>\n",
       "      <td>civil servant</td>\n",
       "      <td>24071.6695</td>\n",
       "    </tr>\n",
       "    <tr>\n",
       "      <td>employee</td>\n",
       "      <td>22815.1035</td>\n",
       "    </tr>\n",
       "    <tr>\n",
       "      <td>entrepreneur</td>\n",
       "      <td>79866.1030</td>\n",
       "    </tr>\n",
       "    <tr>\n",
       "      <td>paternity / maternity leave</td>\n",
       "      <td>8612.6610</td>\n",
       "    </tr>\n",
       "    <tr>\n",
       "      <td>retiree</td>\n",
       "      <td>18962.3180</td>\n",
       "    </tr>\n",
       "    <tr>\n",
       "      <td>student</td>\n",
       "      <td>15712.2600</td>\n",
       "    </tr>\n",
       "    <tr>\n",
       "      <td>unemployed</td>\n",
       "      <td>21014.3605</td>\n",
       "    </tr>\n",
       "  </tbody>\n",
       "</table>\n",
       "</div>"
      ],
      "text/plain": [
       "                                 median\n",
       "income_type                            \n",
       "business                     27577.2720\n",
       "civil servant                24071.6695\n",
       "employee                     22815.1035\n",
       "entrepreneur                 79866.1030\n",
       "paternity / maternity leave   8612.6610\n",
       "retiree                      18962.3180\n",
       "student                      15712.2600\n",
       "unemployed                   21014.3605"
      ]
     },
     "execution_count": 20,
     "metadata": {},
     "output_type": "execute_result"
    }
   ],
   "source": [
    "credit_score.groupby('income_type').total_income.agg(['median'])"
   ]
  },
  {
   "cell_type": "code",
   "execution_count": 21,
   "metadata": {},
   "outputs": [],
   "source": [
    "credit_score.loc[((credit_score.total_income.isnull())&\n",
    "                 (credit_score.income_type == 'retiree')),'total_income']=18962.3180\n",
    "credit_score.loc[((credit_score.total_income.isnull())&\n",
    "                 (credit_score.income_type == 'employee')),'total_income']=22815.1035\n",
    "credit_score.loc[((credit_score.total_income.isnull())&\n",
    "                 (credit_score.income_type == 'civil servant')),'total_income']=24071.6695\n",
    "credit_score.loc[((credit_score.total_income.isnull())&\n",
    "                 (credit_score.income_type == 'business')),'total_income']=27577.2720\n",
    "credit_score.loc[((credit_score.total_income.isnull())&\n",
    "                 (credit_score.income_type == 'entrepreneur')),'total_income']=79866.1030\n",
    "credit_score.loc[((credit_score.total_income.isnull())&\n",
    "                 (credit_score.income_type == 'paternity / maternity leave')),'total_income']=8612.6610\n",
    "credit_score.loc[((credit_score.total_income.isnull())&\n",
    "                 (credit_score.income_type == 'student')),'total_income']=15712.2600\n",
    "credit_score.loc[((credit_score.total_income.isnull())&\n",
    "                 (credit_score.income_type == 'unemployed')),'total_income']=21014.3605"
   ]
  },
  {
   "cell_type": "code",
   "execution_count": 22,
   "metadata": {},
   "outputs": [
    {
     "data": {
      "text/plain": [
       "count     21525.000000\n",
       "mean      26436.051922\n",
       "std       15686.986477\n",
       "min        3306.762000\n",
       "25%       17247.708000\n",
       "50%       22815.103500\n",
       "75%       31287.991000\n",
       "max      362496.645000\n",
       "Name: total_income, dtype: float64"
      ]
     },
     "execution_count": 22,
     "metadata": {},
     "output_type": "execute_result"
    }
   ],
   "source": [
    "credit_score['total_income'].describe()"
   ]
  },
  {
   "cell_type": "markdown",
   "metadata": {},
   "source": [
    "<div class=\"alert alert-block alert-danger\">\n",
    "<s><b>Reviewer's comment</b> <a class=\"tocSkip\"></a>\n",
    "    \n",
    "Look, we have many professions here. And each of them have a different median income. Could fill missing values by grouping and median? </div>"
   ]
  },
  {
   "cell_type": "markdown",
   "metadata": {},
   "source": [
    "<div class=\"alert alert-block alert-info\">\n",
    "<b>Fix.</b> <a class=\"tocSkip\"></a>\n",
    "</div>"
   ]
  },
  {
   "cell_type": "markdown",
   "metadata": {},
   "source": [
    "<div class=\"alert alert-block alert-success\">\n",
    "<b>Reviewer's comment.V.2.</b> <a class=\"tocSkip\"></a>\n",
    "    \n",
    "Now we have more real values! :)  </div>\n",
    "\n",
    "<div class=\"alert alert-block alert-warning\">\n",
    "<b>Reviewer's comment.V.2.</b> <a class=\"tocSkip\"></a>\n",
    "    \n",
    "Also we can say:\n",
    "    \n",
    "    credit_score['total_income'] = credit_score['total_income'].fillna(credit_score.groupby('income_type'])['total_income'].transform('median'))\n",
    "</div>\n"
   ]
  },
  {
   "cell_type": "code",
   "execution_count": 23,
   "metadata": {},
   "outputs": [
    {
     "data": {
      "text/plain": [
       "count    19351.000000\n",
       "mean       183.328024\n",
       "std        380.906522\n",
       "min          0.066141\n",
       "25%          2.539751\n",
       "50%          6.011563\n",
       "75%         15.172281\n",
       "max       1100.699727\n",
       "Name: days_employed, dtype: float64"
      ]
     },
     "execution_count": 23,
     "metadata": {},
     "output_type": "execute_result"
    }
   ],
   "source": [
    "(abs(credit_score['days_employed'])/365).describe()"
   ]
  },
  {
   "cell_type": "code",
   "execution_count": 24,
   "metadata": {},
   "outputs": [
    {
     "data": {
      "text/plain": [
       "15906"
      ]
     },
     "execution_count": 24,
     "metadata": {},
     "output_type": "execute_result"
    }
   ],
   "source": [
    "credit_score[credit_score['days_employed'] <0] ['days_employed'].count()"
   ]
  },
  {
   "cell_type": "code",
   "execution_count": 25,
   "metadata": {},
   "outputs": [
    {
     "data": {
      "text/plain": [
       "count    3445.000000\n",
       "mean     1000.011808\n",
       "std        57.739771\n",
       "min       900.626632\n",
       "25%       949.697024\n",
       "50%      1000.584401\n",
       "75%      1049.990258\n",
       "max      1100.699727\n",
       "Name: days_employed, dtype: float64"
      ]
     },
     "execution_count": 25,
     "metadata": {},
     "output_type": "execute_result"
    }
   ],
   "source": [
    "credit_score[credit_score['days_employed'] >=0] ['days_employed'].apply(lambda x: x / 365).describe()"
   ]
  },
  {
   "cell_type": "markdown",
   "metadata": {},
   "source": [
    "<div class=\"alert alert-block alert-danger\">\n",
    "<b>Reviewer's comment</b> <a class=\"tocSkip\"></a>\n",
    "    \n",
    "~We should make days positive. :)~ </div>"
   ]
  },
  {
   "cell_type": "markdown",
   "metadata": {},
   "source": [
    "<div class=\"alert alert-block alert-info\">\n",
    "<b>Fix.</b> <a class=\"tocSkip\"></a>\n",
    "</div>"
   ]
  },
  {
   "cell_type": "markdown",
   "metadata": {},
   "source": [
    "<div class=\"alert alert-block alert-success\">\n",
    "<b>Reviewer's comment.V.2.</b> <a class=\"tocSkip\"></a>\n",
    "    \n",
    "Well done! Also we can use abs() method.  </div>"
   ]
  },
  {
   "cell_type": "code",
   "execution_count": 26,
   "metadata": {},
   "outputs": [
    {
     "data": {
      "text/plain": [
       " 0     14149\n",
       " 1      4818\n",
       " 2      2055\n",
       " 3       330\n",
       " 20       76\n",
       "-1        47\n",
       " 4        41\n",
       " 5         9\n",
       "Name: children, dtype: int64"
      ]
     },
     "execution_count": 26,
     "metadata": {},
     "output_type": "execute_result"
    }
   ],
   "source": [
    "credit_score['children'].value_counts()"
   ]
  },
  {
   "cell_type": "code",
   "execution_count": 27,
   "metadata": {},
   "outputs": [],
   "source": [
    "credit_score['children']=credit_score['children'].replace(20, 2)"
   ]
  },
  {
   "cell_type": "code",
   "execution_count": 28,
   "metadata": {},
   "outputs": [],
   "source": [
    "credit_score['children']=credit_score['children'].replace(-1, 1)"
   ]
  },
  {
   "cell_type": "code",
   "execution_count": 29,
   "metadata": {
    "scrolled": true
   },
   "outputs": [
    {
     "data": {
      "text/plain": [
       "0    14149\n",
       "1     4865\n",
       "2     2131\n",
       "3      330\n",
       "4       41\n",
       "5        9\n",
       "Name: children, dtype: int64"
      ]
     },
     "execution_count": 29,
     "metadata": {},
     "output_type": "execute_result"
    }
   ],
   "source": [
    "credit_score['children'].value_counts()"
   ]
  },
  {
   "cell_type": "markdown",
   "metadata": {},
   "source": [
    "<div class=\"alert alert-block alert-success\">\n",
    "<b>Reviewer's comment</b> <a class=\"tocSkip\"></a>\n",
    "    \n",
    "Well done! </div>\n"
   ]
  },
  {
   "cell_type": "code",
   "execution_count": 30,
   "metadata": {},
   "outputs": [],
   "source": [
    "credit_score=credit_score.astype({ 'total_income':'int'})"
   ]
  },
  {
   "cell_type": "code",
   "execution_count": 31,
   "metadata": {},
   "outputs": [
    {
     "name": "stdout",
     "output_type": "stream",
     "text": [
      "<class 'pandas.core.frame.DataFrame'>\n",
      "RangeIndex: 21525 entries, 0 to 21524\n",
      "Data columns (total 12 columns):\n",
      "children            21525 non-null int64\n",
      "days_employed       19351 non-null float64\n",
      "age                 21525 non-null int64\n",
      "education           21525 non-null object\n",
      "education_id        21525 non-null int64\n",
      "family_status       21525 non-null object\n",
      "family_status_id    21525 non-null int64\n",
      "gender              21525 non-null object\n",
      "income_type         21525 non-null object\n",
      "debt                21525 non-null int64\n",
      "total_income        21525 non-null int64\n",
      "purpose             21525 non-null object\n",
      "dtypes: float64(1), int64(6), object(5)\n",
      "memory usage: 2.0+ MB\n"
     ]
    }
   ],
   "source": [
    "credit_score.info()"
   ]
  },
  {
   "cell_type": "code",
   "execution_count": 32,
   "metadata": {},
   "outputs": [],
   "source": [
    "credit_score['purpose'] = credit_score['purpose'].str.lower()"
   ]
  },
  {
   "cell_type": "code",
   "execution_count": 33,
   "metadata": {},
   "outputs": [],
   "source": [
    "credit_score['education'] = credit_score['education'].str.lower()"
   ]
  },
  {
   "cell_type": "code",
   "execution_count": 34,
   "metadata": {},
   "outputs": [],
   "source": [
    "credit_score['income_type'] = credit_score['income_type'].str.lower()"
   ]
  },
  {
   "cell_type": "code",
   "execution_count": 35,
   "metadata": {},
   "outputs": [],
   "source": [
    "credit_score['gender'] = credit_score['gender'].str.lower()"
   ]
  },
  {
   "cell_type": "code",
   "execution_count": 36,
   "metadata": {},
   "outputs": [
    {
     "data": {
      "text/plain": [
       "35    617\n",
       "40    609\n",
       "41    607\n",
       "34    603\n",
       "38    598\n",
       "42    597\n",
       "33    581\n",
       "39    573\n",
       "31    560\n",
       "36    555\n",
       "44    547\n",
       "29    545\n",
       "30    540\n",
       "48    538\n",
       "37    537\n",
       "50    514\n",
       "43    513\n",
       "32    510\n",
       "49    508\n",
       "28    503\n",
       "45    497\n",
       "27    493\n",
       "56    487\n",
       "52    484\n",
       "47    480\n",
       "54    479\n",
       "46    475\n",
       "58    461\n",
       "57    460\n",
       "53    459\n",
       "51    448\n",
       "59    444\n",
       "55    443\n",
       "26    408\n",
       "60    377\n",
       "25    357\n",
       "61    355\n",
       "62    352\n",
       "63    269\n",
       "64    265\n",
       "24    264\n",
       "23    254\n",
       "65    194\n",
       "66    183\n",
       "22    183\n",
       "67    167\n",
       "21    111\n",
       "0     101\n",
       "68     99\n",
       "69     85\n",
       "70     65\n",
       "71     58\n",
       "20     51\n",
       "72     33\n",
       "19     14\n",
       "73      8\n",
       "74      6\n",
       "75      1\n",
       "Name: age, dtype: int64"
      ]
     },
     "execution_count": 36,
     "metadata": {},
     "output_type": "execute_result"
    }
   ],
   "source": [
    "credit_score['age'].value_counts()"
   ]
  },
  {
   "cell_type": "code",
   "execution_count": 37,
   "metadata": {},
   "outputs": [],
   "source": [
    "age_avg = credit_score['age'].loc[(credit_score['age'] > 0)].median()"
   ]
  },
  {
   "cell_type": "code",
   "execution_count": 38,
   "metadata": {},
   "outputs": [],
   "source": [
    "credit_score['age'] = credit_score['age'].replace(0, age_avg)"
   ]
  },
  {
   "cell_type": "code",
   "execution_count": 39,
   "metadata": {
    "scrolled": true
   },
   "outputs": [
    {
     "data": {
      "text/plain": [
       "35    617\n",
       "43    614\n",
       "40    609\n",
       "41    607\n",
       "34    603\n",
       "38    598\n",
       "42    597\n",
       "33    581\n",
       "39    573\n",
       "31    560\n",
       "36    555\n",
       "44    547\n",
       "29    545\n",
       "30    540\n",
       "48    538\n",
       "37    537\n",
       "50    514\n",
       "32    510\n",
       "49    508\n",
       "28    503\n",
       "45    497\n",
       "27    493\n",
       "56    487\n",
       "52    484\n",
       "47    480\n",
       "54    479\n",
       "46    475\n",
       "58    461\n",
       "57    460\n",
       "53    459\n",
       "51    448\n",
       "59    444\n",
       "55    443\n",
       "26    408\n",
       "60    377\n",
       "25    357\n",
       "61    355\n",
       "62    352\n",
       "63    269\n",
       "64    265\n",
       "24    264\n",
       "23    254\n",
       "65    194\n",
       "66    183\n",
       "22    183\n",
       "67    167\n",
       "21    111\n",
       "68     99\n",
       "69     85\n",
       "70     65\n",
       "71     58\n",
       "20     51\n",
       "72     33\n",
       "19     14\n",
       "73      8\n",
       "74      6\n",
       "75      1\n",
       "Name: age, dtype: int64"
      ]
     },
     "execution_count": 39,
     "metadata": {},
     "output_type": "execute_result"
    }
   ],
   "source": [
    "credit_score['age'].value_counts()"
   ]
  },
  {
   "cell_type": "code",
   "execution_count": 40,
   "metadata": {
    "scrolled": false
   },
   "outputs": [
    {
     "data": {
      "text/plain": [
       "f      14236\n",
       "m       7288\n",
       "xna        1\n",
       "Name: gender, dtype: int64"
      ]
     },
     "execution_count": 40,
     "metadata": {},
     "output_type": "execute_result"
    }
   ],
   "source": [
    "credit_score['gender'].value_counts()"
   ]
  },
  {
   "cell_type": "code",
   "execution_count": 41,
   "metadata": {},
   "outputs": [],
   "source": [
    "credit_score.loc[credit_score['gender'] == 'xna', 'gender'] = 'f'"
   ]
  },
  {
   "cell_type": "code",
   "execution_count": 42,
   "metadata": {
    "scrolled": true
   },
   "outputs": [
    {
     "data": {
      "text/plain": [
       "f    14237\n",
       "m     7288\n",
       "Name: gender, dtype: int64"
      ]
     },
     "execution_count": 42,
     "metadata": {},
     "output_type": "execute_result"
    }
   ],
   "source": [
    "credit_score['gender'].value_counts()"
   ]
  },
  {
   "cell_type": "markdown",
   "metadata": {},
   "source": [
    "<div class=\"alert alert-block alert-danger\">\n",
    "<s><b>Reviewer's comment</b> <a class=\"tocSkip\"></a>\n",
    "    \n",
    "We should fill by f, because we havelower case in a columns. Could you change you code a little?  </div>"
   ]
  },
  {
   "cell_type": "markdown",
   "metadata": {},
   "source": [
    "<div class=\"alert alert-block alert-info\">\n",
    "<b>Fix.</b> <a class=\"tocSkip\"></a>\n",
    "</div>"
   ]
  },
  {
   "cell_type": "markdown",
   "metadata": {},
   "source": [
    "<div class=\"alert alert-block alert-success\">\n",
    "<b>Reviewer's comment.V.2.</b> <a class=\"tocSkip\"></a>\n",
    "    \n",
    "Yep! </div>"
   ]
  },
  {
   "cell_type": "code",
   "execution_count": 43,
   "metadata": {},
   "outputs": [
    {
     "data": {
      "text/plain": [
       "children               0\n",
       "days_employed       2174\n",
       "age                    0\n",
       "education              0\n",
       "education_id           0\n",
       "family_status          0\n",
       "family_status_id       0\n",
       "gender                 0\n",
       "income_type            0\n",
       "debt                   0\n",
       "total_income           0\n",
       "purpose                0\n",
       "dtype: int64"
      ]
     },
     "execution_count": 43,
     "metadata": {},
     "output_type": "execute_result"
    }
   ],
   "source": [
    "credit_score.isnull().sum()\n"
   ]
  },
  {
   "cell_type": "markdown",
   "metadata": {},
   "source": [
    "**Conclusions**\n",
    "\n",
    "1. **There is no missing values left.**\n",
    "2. **My next work will be dealing with duplicate DATA.**"
   ]
  },
  {
   "cell_type": "code",
   "execution_count": 44,
   "metadata": {},
   "outputs": [
    {
     "data": {
      "text/plain": [
       "secondary education    15233\n",
       "bachelor's degree       5260\n",
       "some college             744\n",
       "primary education        282\n",
       "graduate degree            6\n",
       "Name: education, dtype: int64"
      ]
     },
     "execution_count": 44,
     "metadata": {},
     "output_type": "execute_result"
    }
   ],
   "source": [
    "credit_score['education'].value_counts()"
   ]
  },
  {
   "cell_type": "code",
   "execution_count": 45,
   "metadata": {},
   "outputs": [
    {
     "data": {
      "text/plain": [
       "5"
      ]
     },
     "execution_count": 45,
     "metadata": {},
     "output_type": "execute_result"
    }
   ],
   "source": [
    "credit_score['education'].nunique()"
   ]
  },
  {
   "cell_type": "code",
   "execution_count": 46,
   "metadata": {},
   "outputs": [
    {
     "data": {
      "text/plain": [
       "(21525, 12)"
      ]
     },
     "execution_count": 46,
     "metadata": {},
     "output_type": "execute_result"
    }
   ],
   "source": [
    "credit_score.shape"
   ]
  },
  {
   "cell_type": "code",
   "execution_count": 47,
   "metadata": {},
   "outputs": [
    {
     "data": {
      "text/plain": [
       "71"
      ]
     },
     "execution_count": 47,
     "metadata": {},
     "output_type": "execute_result"
    }
   ],
   "source": [
    "credit_score.duplicated().sum()"
   ]
  },
  {
   "cell_type": "code",
   "execution_count": 48,
   "metadata": {},
   "outputs": [
    {
     "data": {
      "text/plain": [
       "0.0032984901277584204"
      ]
     },
     "execution_count": 48,
     "metadata": {},
     "output_type": "execute_result"
    }
   ],
   "source": [
    "credit_score.duplicated().sum()/len(credit_score*100)"
   ]
  },
  {
   "cell_type": "code",
   "execution_count": 49,
   "metadata": {},
   "outputs": [],
   "source": [
    "credit_score = credit_score.drop_duplicates().reset_index(drop=True)"
   ]
  },
  {
   "cell_type": "markdown",
   "metadata": {},
   "source": [
    "<div class=\"alert alert-block alert-success\">\n",
    "<b>Reviewer's comment</b> <a class=\"tocSkip\"></a>\n",
    "    \n",
    "Right decision! </div>"
   ]
  },
  {
   "cell_type": "code",
   "execution_count": 50,
   "metadata": {},
   "outputs": [
    {
     "data": {
      "text/plain": [
       "(21454, 12)"
      ]
     },
     "execution_count": 50,
     "metadata": {},
     "output_type": "execute_result"
    }
   ],
   "source": [
    "credit_score.shape"
   ]
  },
  {
   "cell_type": "code",
   "execution_count": 51,
   "metadata": {},
   "outputs": [
    {
     "data": {
      "text/plain": [
       "38"
      ]
     },
     "execution_count": 51,
     "metadata": {},
     "output_type": "execute_result"
    }
   ],
   "source": [
    "credit_score['purpose'].value_counts().count()"
   ]
  },
  {
   "cell_type": "code",
   "execution_count": 52,
   "metadata": {
    "scrolled": false
   },
   "outputs": [
    {
     "data": {
      "text/plain": [
       "0          purchase of the house\n",
       "1                   car purchase\n",
       "2          purchase of the house\n",
       "3        supplementary education\n",
       "4              to have a wedding\n",
       "                  ...           \n",
       "21449       housing transactions\n",
       "21450          purchase of a car\n",
       "21451                   property\n",
       "21452          buying my own car\n",
       "21453               to buy a car\n",
       "Name: purpose, Length: 21454, dtype: object"
      ]
     },
     "execution_count": 52,
     "metadata": {},
     "output_type": "execute_result"
    }
   ],
   "source": [
    "credit_score['purpose']"
   ]
  },
  {
   "cell_type": "code",
   "execution_count": 53,
   "metadata": {},
   "outputs": [],
   "source": [
    "def type_purpose(purpose):\n",
    "    for word in purpose.split(' '):\n",
    "        if 'car' == english_stemmer.stem(word):\n",
    "           return 'buy a car'\n",
    "        if ('educ' == english_stemmer.stem(word) or 'univers' == english_stemmer.stem(word)):   \n",
    "           return 'education'\n",
    "        if ('hous' == english_stemmer.stem(word) or 'properti' == english_stemmer.stem(word) or 'estat' == english_stemmer.stem(word)):\n",
    "           return 'real estate'\n",
    "        if 'wed' == english_stemmer.stem(word):      \n",
    "           return 'wedding'\n",
    "    \n",
    "    return purpose\n",
    "\n",
    "credit_score['purpose'] = credit_score['purpose'].apply(type_purpose)\n"
   ]
  },
  {
   "cell_type": "code",
   "execution_count": 54,
   "metadata": {
    "scrolled": true
   },
   "outputs": [
    {
     "data": {
      "text/plain": [
       "real estate    10811\n",
       "buy a car       4306\n",
       "education       4013\n",
       "wedding         2324\n",
       "Name: purpose, dtype: int64"
      ]
     },
     "execution_count": 54,
     "metadata": {},
     "output_type": "execute_result"
    }
   ],
   "source": [
    "credit_score['purpose'].value_counts()"
   ]
  },
  {
   "cell_type": "markdown",
   "metadata": {},
   "source": [
    "**Conclusions**\n",
    "\n",
    "1. **There where duplicate in ['purpose','education'].**\n",
    "2. **I ysed drop_duplictes & stemming method to process them.**"
   ]
  },
  {
   "cell_type": "markdown",
   "metadata": {},
   "source": [
    "<div class=\"alert alert-block alert-success\">\n",
    "<b>Reviewer's comment</b> <a class=\"tocSkip\"></a>\n",
    "    \n",
    "Great work with purposes! </div>"
   ]
  },
  {
   "cell_type": "markdown",
   "metadata": {},
   "source": [
    "\n",
    "\n",
    "# 3 Categorization of data\n",
    "\n",
    "1. **purpose - Categorical**\n",
    "2. **income_type - Categorical**\n",
    "3. **family_status Categorical**\n",
    "4. **education Categorical**\n"
   ]
  },
  {
   "cell_type": "code",
   "execution_count": 55,
   "metadata": {
    "scrolled": true
   },
   "outputs": [
    {
     "data": {
      "text/plain": [
       "No children    1\n",
       "2 KIDS         1\n",
       "4 KIDS         1\n",
       "1 KID          1\n",
       "+4 KIDS        1\n",
       "3 KIDS         1\n",
       "Name: is_children, dtype: int64"
      ]
     },
     "execution_count": 55,
     "metadata": {},
     "output_type": "execute_result"
    }
   ],
   "source": [
    "children_cat = credit_score[['children']]\n",
    "children_cat = children_cat.drop_duplicates().reset_index(drop=True)\n",
    "\n",
    "def is_children(children):\n",
    "    if children == 0 :\n",
    "        return 'No children'\n",
    "    if children == 1 :\n",
    "        return '1 KID'\n",
    "    if children == 2 :\n",
    "        return '2 KIDS'\n",
    "    if children == 3 :\n",
    "        return '3 KIDS'\n",
    "    if children == 4 :\n",
    "        return '4 KIDS'\n",
    "    if children > 4 :\n",
    "        return '+4 KIDS'\n",
    "    return 'Have children'\n",
    "\n",
    "# adding the string field 'is_children'\n",
    "children_cat['is_children'] = children_cat['children'].apply(is_children)\n",
    "children_cat['is_children'].value_counts()"
   ]
  },
  {
   "cell_type": "markdown",
   "metadata": {},
   "source": [
    "<div class=\"alert alert-block alert-danger\">\n",
    "<s><b>Reviewer's comment</b> <a class=\"tocSkip\"></a>\n",
    "    \n",
    "We should check each number of children. Clients with 1 child have one value of debts, clients with 2 children have another value, etc  </div>"
   ]
  },
  {
   "cell_type": "markdown",
   "metadata": {},
   "source": [
    "<div class=\"alert alert-block alert-info\">\n",
    "<b>Fix.</b> <a class=\"tocSkip\"></a>\n",
    "</div>"
   ]
  },
  {
   "cell_type": "markdown",
   "metadata": {},
   "source": [
    "<div class=\"alert alert-block alert-success\">\n",
    "<b>Reviewer's comment.V.2.</b> <a class=\"tocSkip\"></a>\n",
    "    \n",
    "Very good! </div>"
   ]
  },
  {
   "cell_type": "code",
   "execution_count": 56,
   "metadata": {},
   "outputs": [
    {
     "data": {
      "text/plain": [
       "no debt            1\n",
       "there is a debt    1\n",
       "Name: is_debt, dtype: int64"
      ]
     },
     "execution_count": 56,
     "metadata": {},
     "output_type": "execute_result"
    }
   ],
   "source": [
    "debt_cat = credit_score[['debt']]\n",
    "debt_cat = debt_cat.drop_duplicates().reset_index(drop=True)\n",
    "\n",
    "def is_debt(debt):\n",
    "    if debt == 0 :\n",
    "        return 'no debt'\n",
    "    return 'there is a debt'\n",
    "\n",
    "debt_cat['is_debt'] = debt_cat['debt'].apply(is_debt)\n",
    "debt_cat['is_debt'].value_counts()"
   ]
  },
  {
   "cell_type": "code",
   "execution_count": 57,
   "metadata": {},
   "outputs": [],
   "source": [
    "def group_income (total_income):\n",
    "    if total_income <15000 :\n",
    "        return 0\n",
    "    if total_income <20000 :\n",
    "        return 1\n",
    "    if total_income <25000 :\n",
    "        return 2\n",
    "    if total_income <30000 :\n",
    "        return 3\n",
    "    if total_income <40000 :\n",
    "        return 4\n",
    "    return 5\n",
    "\n",
    "credit_score['group_income'] = credit_score['total_income'].apply(group_income)"
   ]
  },
  {
   "cell_type": "code",
   "execution_count": 58,
   "metadata": {},
   "outputs": [],
   "source": [
    "total_income_dict = credit_score[['group_income']]\n",
    "total_income_dict = total_income_dict.drop_duplicates().reset_index(drop=True)"
   ]
  },
  {
   "cell_type": "code",
   "execution_count": 59,
   "metadata": {},
   "outputs": [],
   "source": [
    "def name_group_income (group_income):\n",
    "    if group_income == 0 :\n",
    "        return 'LOW <15000'\n",
    "    if group_income == 1 :\n",
    "        return 'MEDIUM_LOW 15000 - 20000'\n",
    "    if group_income == 2 :\n",
    "        return 'MEDIUM 20000 - 25000'\n",
    "    if group_income == 3 :\n",
    "        return 'MEDIUM_HIGH 25000 - 30000'\n",
    "    if group_income == 4 :\n",
    "        return 'HIGH 30000 - 40000'\n",
    "    return 'VERY_HIGH >40000'\n",
    "       \n",
    "total_income_dict['name_group_income'] = total_income_dict['group_income'].apply(name_group_income)"
   ]
  },
  {
   "cell_type": "code",
   "execution_count": 60,
   "metadata": {},
   "outputs": [
    {
     "data": {
      "text/html": [
       "<div>\n",
       "<style scoped>\n",
       "    .dataframe tbody tr th:only-of-type {\n",
       "        vertical-align: middle;\n",
       "    }\n",
       "\n",
       "    .dataframe tbody tr th {\n",
       "        vertical-align: top;\n",
       "    }\n",
       "\n",
       "    .dataframe thead th {\n",
       "        text-align: right;\n",
       "    }\n",
       "</style>\n",
       "<table border=\"1\" class=\"dataframe\">\n",
       "  <thead>\n",
       "    <tr style=\"text-align: right;\">\n",
       "      <th></th>\n",
       "      <th>group_income</th>\n",
       "      <th>name_group_income</th>\n",
       "    </tr>\n",
       "  </thead>\n",
       "  <tbody>\n",
       "    <tr>\n",
       "      <td>5</td>\n",
       "      <td>0</td>\n",
       "      <td>LOW &lt;15000</td>\n",
       "    </tr>\n",
       "    <tr>\n",
       "      <td>1</td>\n",
       "      <td>1</td>\n",
       "      <td>MEDIUM_LOW 15000 - 20000</td>\n",
       "    </tr>\n",
       "    <tr>\n",
       "      <td>2</td>\n",
       "      <td>2</td>\n",
       "      <td>MEDIUM 20000 - 25000</td>\n",
       "    </tr>\n",
       "    <tr>\n",
       "      <td>3</td>\n",
       "      <td>3</td>\n",
       "      <td>MEDIUM_HIGH 25000 - 30000</td>\n",
       "    </tr>\n",
       "    <tr>\n",
       "      <td>4</td>\n",
       "      <td>4</td>\n",
       "      <td>HIGH 30000 - 40000</td>\n",
       "    </tr>\n",
       "    <tr>\n",
       "      <td>0</td>\n",
       "      <td>5</td>\n",
       "      <td>VERY_HIGH &gt;40000</td>\n",
       "    </tr>\n",
       "  </tbody>\n",
       "</table>\n",
       "</div>"
      ],
      "text/plain": [
       "   group_income          name_group_income\n",
       "5             0                 LOW <15000\n",
       "1             1   MEDIUM_LOW 15000 - 20000\n",
       "2             2       MEDIUM 20000 - 25000\n",
       "3             3  MEDIUM_HIGH 25000 - 30000\n",
       "4             4         HIGH 30000 - 40000\n",
       "0             5           VERY_HIGH >40000"
      ]
     },
     "execution_count": 60,
     "metadata": {},
     "output_type": "execute_result"
    }
   ],
   "source": [
    "\n",
    "total_income_dict.sort_values(by='group_income', ascending = True)"
   ]
  },
  {
   "cell_type": "markdown",
   "metadata": {},
   "source": [
    "**Conclusions**\n",
    "\n",
    "After categorization There where 3 new dictionaries ['children_dict', 'debt_cat' and 'total_income_dict'] created"
   ]
  },
  {
   "cell_type": "markdown",
   "metadata": {},
   "source": [
    "<div class=\"alert alert-block alert-success\">\n",
    "<b>Reviewer's comment</b> <a class=\"tocSkip\"></a>\n",
    "    \n",
    "Well done! </div>"
   ]
  },
  {
   "cell_type": "markdown",
   "metadata": {},
   "source": [
    "# 4 Ansering Q\n"
   ]
  },
  {
   "cell_type": "markdown",
   "metadata": {},
   "source": [
    "**Is there a correlation between having kids and paying back on time?**"
   ]
  },
  {
   "cell_type": "code",
   "execution_count": 61,
   "metadata": {},
   "outputs": [
    {
     "data": {
      "text/html": [
       "<div>\n",
       "<style scoped>\n",
       "    .dataframe tbody tr th:only-of-type {\n",
       "        vertical-align: middle;\n",
       "    }\n",
       "\n",
       "    .dataframe tbody tr th {\n",
       "        vertical-align: top;\n",
       "    }\n",
       "\n",
       "    .dataframe thead tr th {\n",
       "        text-align: left;\n",
       "    }\n",
       "\n",
       "    .dataframe thead tr:last-of-type th {\n",
       "        text-align: right;\n",
       "    }\n",
       "</style>\n",
       "<table border=\"1\" class=\"dataframe\">\n",
       "  <thead>\n",
       "    <tr>\n",
       "      <th></th>\n",
       "      <th colspan=\"6\" halign=\"left\">debt</th>\n",
       "    </tr>\n",
       "    <tr>\n",
       "      <th></th>\n",
       "      <th colspan=\"6\" halign=\"left\">count</th>\n",
       "    </tr>\n",
       "    <tr>\n",
       "      <th>children</th>\n",
       "      <th>0</th>\n",
       "      <th>1</th>\n",
       "      <th>2</th>\n",
       "      <th>3</th>\n",
       "      <th>4</th>\n",
       "      <th>5</th>\n",
       "    </tr>\n",
       "    <tr>\n",
       "      <th>debt</th>\n",
       "      <th></th>\n",
       "      <th></th>\n",
       "      <th></th>\n",
       "      <th></th>\n",
       "      <th></th>\n",
       "      <th></th>\n",
       "    </tr>\n",
       "  </thead>\n",
       "  <tbody>\n",
       "    <tr>\n",
       "      <td>0</td>\n",
       "      <td>13028.0</td>\n",
       "      <td>4410.0</td>\n",
       "      <td>1926.0</td>\n",
       "      <td>303.0</td>\n",
       "      <td>37.0</td>\n",
       "      <td>9.0</td>\n",
       "    </tr>\n",
       "    <tr>\n",
       "      <td>1</td>\n",
       "      <td>1063.0</td>\n",
       "      <td>445.0</td>\n",
       "      <td>202.0</td>\n",
       "      <td>27.0</td>\n",
       "      <td>4.0</td>\n",
       "      <td>NaN</td>\n",
       "    </tr>\n",
       "  </tbody>\n",
       "</table>\n",
       "</div>"
      ],
      "text/plain": [
       "             debt                                  \n",
       "            count                                  \n",
       "children        0       1       2      3     4    5\n",
       "debt                                               \n",
       "0         13028.0  4410.0  1926.0  303.0  37.0  9.0\n",
       "1          1063.0   445.0   202.0   27.0   4.0  NaN"
      ]
     },
     "execution_count": 61,
     "metadata": {},
     "output_type": "execute_result"
    }
   ],
   "source": [
    "pivot_table_childrens = credit_score.pivot_table(\n",
    "    index='debt', columns='children', aggfunc={'debt':['count']})\n",
    "pivot_table_childrens"
   ]
  },
  {
   "cell_type": "code",
   "execution_count": 62,
   "metadata": {},
   "outputs": [
    {
     "data": {
      "text/html": [
       "<div>\n",
       "<style scoped>\n",
       "    .dataframe tbody tr th:only-of-type {\n",
       "        vertical-align: middle;\n",
       "    }\n",
       "\n",
       "    .dataframe tbody tr th {\n",
       "        vertical-align: top;\n",
       "    }\n",
       "\n",
       "    .dataframe thead tr th {\n",
       "        text-align: left;\n",
       "    }\n",
       "\n",
       "    .dataframe thead tr:last-of-type th {\n",
       "        text-align: right;\n",
       "    }\n",
       "</style>\n",
       "<table border=\"1\" class=\"dataframe\">\n",
       "  <thead>\n",
       "    <tr>\n",
       "      <th></th>\n",
       "      <th colspan=\"6\" halign=\"left\">debt</th>\n",
       "    </tr>\n",
       "    <tr>\n",
       "      <th></th>\n",
       "      <th colspan=\"6\" halign=\"left\">count</th>\n",
       "    </tr>\n",
       "    <tr>\n",
       "      <th>children</th>\n",
       "      <th>0</th>\n",
       "      <th>1</th>\n",
       "      <th>2</th>\n",
       "      <th>3</th>\n",
       "      <th>4</th>\n",
       "      <th>5</th>\n",
       "    </tr>\n",
       "    <tr>\n",
       "      <th>debt</th>\n",
       "      <th></th>\n",
       "      <th></th>\n",
       "      <th></th>\n",
       "      <th></th>\n",
       "      <th></th>\n",
       "      <th></th>\n",
       "    </tr>\n",
       "  </thead>\n",
       "  <tbody>\n",
       "    <tr>\n",
       "      <td>0</td>\n",
       "      <td>13028.000000</td>\n",
       "      <td>4410.000000</td>\n",
       "      <td>1926.000000</td>\n",
       "      <td>303.000000</td>\n",
       "      <td>37.000000</td>\n",
       "      <td>9.0</td>\n",
       "    </tr>\n",
       "    <tr>\n",
       "      <td>1</td>\n",
       "      <td>1063.000000</td>\n",
       "      <td>445.000000</td>\n",
       "      <td>202.000000</td>\n",
       "      <td>27.000000</td>\n",
       "      <td>4.000000</td>\n",
       "      <td>NaN</td>\n",
       "    </tr>\n",
       "    <tr>\n",
       "      <td>defaulted %</td>\n",
       "      <td>7.543822</td>\n",
       "      <td>9.165808</td>\n",
       "      <td>9.492481</td>\n",
       "      <td>8.181818</td>\n",
       "      <td>9.756098</td>\n",
       "      <td>NaN</td>\n",
       "    </tr>\n",
       "  </tbody>\n",
       "</table>\n",
       "</div>"
      ],
      "text/plain": [
       "                     debt                                                   \\\n",
       "                    count                                                    \n",
       "children                0            1            2           3          4   \n",
       "debt                                                                         \n",
       "0            13028.000000  4410.000000  1926.000000  303.000000  37.000000   \n",
       "1             1063.000000   445.000000   202.000000   27.000000   4.000000   \n",
       "defaulted %      7.543822     9.165808     9.492481    8.181818   9.756098   \n",
       "\n",
       "                  \n",
       "                  \n",
       "children       5  \n",
       "debt              \n",
       "0            9.0  \n",
       "1            NaN  \n",
       "defaulted %  NaN  "
      ]
     },
     "execution_count": 62,
     "metadata": {},
     "output_type": "execute_result"
    }
   ],
   "source": [
    "pivot_table_childrens.loc['defaulted %'] = pivot_table_childrens.loc[1]*100/(pivot_table_childrens.loc[0] + pivot_table_childrens.loc[1])\n",
    "pivot_table_childrens"
   ]
  },
  {
   "cell_type": "markdown",
   "metadata": {},
   "source": [
    "**Conclusion**\n",
    "\n",
    "**After reviewing the DATA and analze it I can come to A conclusion that having no kids at all will most lakely increase the propability of paying the loan on time, and on the atoher Hand having kids change the ability of paying the loan on time by MAX 2%.**"
   ]
  },
  {
   "cell_type": "markdown",
   "metadata": {},
   "source": [
    "<div class=\"alert alert-block alert-danger\">\n",
    "<s><b>Reviewer's comment</b> <a class=\"tocSkip\"></a>\n",
    "    \n",
    "Waiting all children here. :) </div>"
   ]
  },
  {
   "cell_type": "markdown",
   "metadata": {},
   "source": [
    "<div class=\"alert alert-block alert-info\">\n",
    "<b>Fix.</b> <a class=\"tocSkip\"></a>\n",
    "</div>"
   ]
  },
  {
   "cell_type": "markdown",
   "metadata": {},
   "source": [
    "<div class=\"alert alert-block alert-success\">\n",
    "<b>Reviewer's comment.V.2.</b> <a class=\"tocSkip\"></a>\n",
    "    \n",
    "It was expected. :)  </div>"
   ]
  },
  {
   "cell_type": "markdown",
   "metadata": {},
   "source": [
    "**Is there a correlation between family status and paying back on time?**"
   ]
  },
  {
   "cell_type": "code",
   "execution_count": 63,
   "metadata": {},
   "outputs": [],
   "source": [
    "marital_debt = credit_score[['family_status','debt','purpose']]\n",
    "marital_debt = debt_cat.merge(marital_debt, on='debt', how='right')"
   ]
  },
  {
   "cell_type": "code",
   "execution_count": 64,
   "metadata": {},
   "outputs": [
    {
     "data": {
      "text/html": [
       "<div>\n",
       "<style scoped>\n",
       "    .dataframe tbody tr th:only-of-type {\n",
       "        vertical-align: middle;\n",
       "    }\n",
       "\n",
       "    .dataframe tbody tr th {\n",
       "        vertical-align: top;\n",
       "    }\n",
       "\n",
       "    .dataframe thead th {\n",
       "        text-align: right;\n",
       "    }\n",
       "</style>\n",
       "<table border=\"1\" class=\"dataframe\">\n",
       "  <thead>\n",
       "    <tr style=\"text-align: right;\">\n",
       "      <th>is_debt</th>\n",
       "      <th>no debt</th>\n",
       "      <th>there is a debt</th>\n",
       "      <th>ratio</th>\n",
       "    </tr>\n",
       "    <tr>\n",
       "      <th>family_status</th>\n",
       "      <th></th>\n",
       "      <th></th>\n",
       "      <th></th>\n",
       "    </tr>\n",
       "  </thead>\n",
       "  <tbody>\n",
       "    <tr>\n",
       "      <td>widow / widower</td>\n",
       "      <td>896</td>\n",
       "      <td>63</td>\n",
       "      <td>0.065693</td>\n",
       "    </tr>\n",
       "    <tr>\n",
       "      <td>divorced</td>\n",
       "      <td>1110</td>\n",
       "      <td>85</td>\n",
       "      <td>0.071130</td>\n",
       "    </tr>\n",
       "    <tr>\n",
       "      <td>married</td>\n",
       "      <td>11408</td>\n",
       "      <td>931</td>\n",
       "      <td>0.075452</td>\n",
       "    </tr>\n",
       "    <tr>\n",
       "      <td>civil partnership</td>\n",
       "      <td>3763</td>\n",
       "      <td>388</td>\n",
       "      <td>0.093471</td>\n",
       "    </tr>\n",
       "    <tr>\n",
       "      <td>unmarried</td>\n",
       "      <td>2536</td>\n",
       "      <td>274</td>\n",
       "      <td>0.097509</td>\n",
       "    </tr>\n",
       "  </tbody>\n",
       "</table>\n",
       "</div>"
      ],
      "text/plain": [
       "is_debt            no debt  there is a debt     ratio\n",
       "family_status                                        \n",
       "widow / widower        896               63  0.065693\n",
       "divorced              1110               85  0.071130\n",
       "married              11408              931  0.075452\n",
       "civil partnership     3763              388  0.093471\n",
       "unmarried             2536              274  0.097509"
      ]
     },
     "execution_count": 64,
     "metadata": {},
     "output_type": "execute_result"
    }
   ],
   "source": [
    "md_pivot = marital_debt.pivot_table(index='family_status', columns='is_debt', values='purpose', aggfunc='count')\n",
    "md_pivot['ratio'] = md_pivot.loc[:,'there is a debt']/( md_pivot.loc[:,'no debt'] + md_pivot.loc[:,'there is a debt'])\n",
    "md_pivot.sort_values(by='ratio', ascending = True)"
   ]
  },
  {
   "cell_type": "markdown",
   "metadata": {},
   "source": [
    "**Conclusion**\n",
    "\n",
    "**After reviewing the DATA and analze it I can come to A conclusion that 'widow / widower' & 'divorced' have less overdue loans, and the 'unmarried' group has the worst loan repayment.** "
   ]
  },
  {
   "cell_type": "markdown",
   "metadata": {},
   "source": [
    "<div class=\"alert alert-block alert-success\">\n",
    "<b>Reviewer's comment</b> <a class=\"tocSkip\"></a>\n",
    "    \n",
    "Intresting information! :) </div>"
   ]
  },
  {
   "cell_type": "markdown",
   "metadata": {},
   "source": [
    "**Is there a correlation between income level and paying back on time?**"
   ]
  },
  {
   "cell_type": "code",
   "execution_count": 65,
   "metadata": {
    "scrolled": true
   },
   "outputs": [
    {
     "data": {
      "text/html": [
       "<div>\n",
       "<style scoped>\n",
       "    .dataframe tbody tr th:only-of-type {\n",
       "        vertical-align: middle;\n",
       "    }\n",
       "\n",
       "    .dataframe tbody tr th {\n",
       "        vertical-align: top;\n",
       "    }\n",
       "\n",
       "    .dataframe thead th {\n",
       "        text-align: right;\n",
       "    }\n",
       "</style>\n",
       "<table border=\"1\" class=\"dataframe\">\n",
       "  <thead>\n",
       "    <tr style=\"text-align: right;\">\n",
       "      <th></th>\n",
       "      <th>debt</th>\n",
       "      <th>is_debt</th>\n",
       "      <th>group_income</th>\n",
       "      <th>name_group_income</th>\n",
       "      <th>purpose</th>\n",
       "    </tr>\n",
       "  </thead>\n",
       "  <tbody>\n",
       "    <tr>\n",
       "      <td>0</td>\n",
       "      <td>0</td>\n",
       "      <td>no debt</td>\n",
       "      <td>5</td>\n",
       "      <td>VERY_HIGH &gt;40000</td>\n",
       "      <td>real estate</td>\n",
       "    </tr>\n",
       "    <tr>\n",
       "      <td>1</td>\n",
       "      <td>0</td>\n",
       "      <td>no debt</td>\n",
       "      <td>5</td>\n",
       "      <td>VERY_HIGH &gt;40000</td>\n",
       "      <td>education</td>\n",
       "    </tr>\n",
       "    <tr>\n",
       "      <td>2</td>\n",
       "      <td>0</td>\n",
       "      <td>no debt</td>\n",
       "      <td>5</td>\n",
       "      <td>VERY_HIGH &gt;40000</td>\n",
       "      <td>real estate</td>\n",
       "    </tr>\n",
       "    <tr>\n",
       "      <td>3</td>\n",
       "      <td>0</td>\n",
       "      <td>no debt</td>\n",
       "      <td>5</td>\n",
       "      <td>VERY_HIGH &gt;40000</td>\n",
       "      <td>real estate</td>\n",
       "    </tr>\n",
       "    <tr>\n",
       "      <td>4</td>\n",
       "      <td>0</td>\n",
       "      <td>no debt</td>\n",
       "      <td>5</td>\n",
       "      <td>VERY_HIGH &gt;40000</td>\n",
       "      <td>real estate</td>\n",
       "    </tr>\n",
       "    <tr>\n",
       "      <td>...</td>\n",
       "      <td>...</td>\n",
       "      <td>...</td>\n",
       "      <td>...</td>\n",
       "      <td>...</td>\n",
       "      <td>...</td>\n",
       "    </tr>\n",
       "    <tr>\n",
       "      <td>21449</td>\n",
       "      <td>1</td>\n",
       "      <td>there is a debt</td>\n",
       "      <td>0</td>\n",
       "      <td>LOW &lt;15000</td>\n",
       "      <td>real estate</td>\n",
       "    </tr>\n",
       "    <tr>\n",
       "      <td>21450</td>\n",
       "      <td>1</td>\n",
       "      <td>there is a debt</td>\n",
       "      <td>0</td>\n",
       "      <td>LOW &lt;15000</td>\n",
       "      <td>buy a car</td>\n",
       "    </tr>\n",
       "    <tr>\n",
       "      <td>21451</td>\n",
       "      <td>1</td>\n",
       "      <td>there is a debt</td>\n",
       "      <td>0</td>\n",
       "      <td>LOW &lt;15000</td>\n",
       "      <td>real estate</td>\n",
       "    </tr>\n",
       "    <tr>\n",
       "      <td>21452</td>\n",
       "      <td>1</td>\n",
       "      <td>there is a debt</td>\n",
       "      <td>0</td>\n",
       "      <td>LOW &lt;15000</td>\n",
       "      <td>buy a car</td>\n",
       "    </tr>\n",
       "    <tr>\n",
       "      <td>21453</td>\n",
       "      <td>1</td>\n",
       "      <td>there is a debt</td>\n",
       "      <td>0</td>\n",
       "      <td>LOW &lt;15000</td>\n",
       "      <td>real estate</td>\n",
       "    </tr>\n",
       "  </tbody>\n",
       "</table>\n",
       "<p>21454 rows × 5 columns</p>\n",
       "</div>"
      ],
      "text/plain": [
       "       debt          is_debt  group_income name_group_income      purpose\n",
       "0         0          no debt             5  VERY_HIGH >40000  real estate\n",
       "1         0          no debt             5  VERY_HIGH >40000    education\n",
       "2         0          no debt             5  VERY_HIGH >40000  real estate\n",
       "3         0          no debt             5  VERY_HIGH >40000  real estate\n",
       "4         0          no debt             5  VERY_HIGH >40000  real estate\n",
       "...     ...              ...           ...               ...          ...\n",
       "21449     1  there is a debt             0        LOW <15000  real estate\n",
       "21450     1  there is a debt             0        LOW <15000    buy a car\n",
       "21451     1  there is a debt             0        LOW <15000  real estate\n",
       "21452     1  there is a debt             0        LOW <15000    buy a car\n",
       "21453     1  there is a debt             0        LOW <15000  real estate\n",
       "\n",
       "[21454 rows x 5 columns]"
      ]
     },
     "execution_count": 65,
     "metadata": {},
     "output_type": "execute_result"
    }
   ],
   "source": [
    "total_income_debt = credit_score[['group_income','debt','purpose']]\n",
    "total_income_debt = total_income_dict.merge(total_income_debt, on='group_income', how='right')\n",
    "total_income_debt = debt_cat.merge(total_income_debt, on='debt', how='right')\n",
    "total_income_debt"
   ]
  },
  {
   "cell_type": "code",
   "execution_count": 66,
   "metadata": {},
   "outputs": [
    {
     "data": {
      "text/html": [
       "<div>\n",
       "<style scoped>\n",
       "    .dataframe tbody tr th:only-of-type {\n",
       "        vertical-align: middle;\n",
       "    }\n",
       "\n",
       "    .dataframe tbody tr th {\n",
       "        vertical-align: top;\n",
       "    }\n",
       "\n",
       "    .dataframe thead th {\n",
       "        text-align: right;\n",
       "    }\n",
       "</style>\n",
       "<table border=\"1\" class=\"dataframe\">\n",
       "  <thead>\n",
       "    <tr style=\"text-align: right;\">\n",
       "      <th>is_debt</th>\n",
       "      <th>no debt</th>\n",
       "      <th>there is a debt</th>\n",
       "      <th>ratio</th>\n",
       "    </tr>\n",
       "    <tr>\n",
       "      <th>name_group_income</th>\n",
       "      <th></th>\n",
       "      <th></th>\n",
       "      <th></th>\n",
       "    </tr>\n",
       "  </thead>\n",
       "  <tbody>\n",
       "    <tr>\n",
       "      <td>VERY_HIGH &gt;40000</td>\n",
       "      <td>2619</td>\n",
       "      <td>194</td>\n",
       "      <td>0.068966</td>\n",
       "    </tr>\n",
       "    <tr>\n",
       "      <td>HIGH 30000 - 40000</td>\n",
       "      <td>2865</td>\n",
       "      <td>242</td>\n",
       "      <td>0.077889</td>\n",
       "    </tr>\n",
       "    <tr>\n",
       "      <td>LOW &lt;15000</td>\n",
       "      <td>3445</td>\n",
       "      <td>298</td>\n",
       "      <td>0.079615</td>\n",
       "    </tr>\n",
       "    <tr>\n",
       "      <td>MEDIUM_HIGH 25000 - 30000</td>\n",
       "      <td>2916</td>\n",
       "      <td>269</td>\n",
       "      <td>0.084458</td>\n",
       "    </tr>\n",
       "    <tr>\n",
       "      <td>MEDIUM 20000 - 25000</td>\n",
       "      <td>4201</td>\n",
       "      <td>393</td>\n",
       "      <td>0.085546</td>\n",
       "    </tr>\n",
       "    <tr>\n",
       "      <td>MEDIUM_LOW 15000 - 20000</td>\n",
       "      <td>3667</td>\n",
       "      <td>345</td>\n",
       "      <td>0.085992</td>\n",
       "    </tr>\n",
       "  </tbody>\n",
       "</table>\n",
       "</div>"
      ],
      "text/plain": [
       "is_debt                    no debt  there is a debt     ratio\n",
       "name_group_income                                            \n",
       "VERY_HIGH >40000              2619              194  0.068966\n",
       "HIGH 30000 - 40000            2865              242  0.077889\n",
       "LOW <15000                    3445              298  0.079615\n",
       "MEDIUM_HIGH 25000 - 30000     2916              269  0.084458\n",
       "MEDIUM 20000 - 25000          4201              393  0.085546\n",
       "MEDIUM_LOW 15000 - 20000      3667              345  0.085992"
      ]
     },
     "execution_count": 66,
     "metadata": {},
     "output_type": "execute_result"
    }
   ],
   "source": [
    "income_debt_pivot = total_income_debt.pivot_table(index='name_group_income', columns='is_debt', values='purpose', aggfunc='count')\n",
    "income_debt_pivot['ratio'] = income_debt_pivot.loc[:,'there is a debt']/( income_debt_pivot.loc[:,'no debt'] + income_debt_pivot.loc[:,'there is a debt'])\n",
    "income_debt_pivot.sort_values(by='ratio', ascending = True)"
   ]
  },
  {
   "cell_type": "markdown",
   "metadata": {},
   "source": [
    "**Conclusion**\n",
    "\n",
    "**After analyzing the data, i learn that the best borrowers are clients with an income of 40,000 or more & the most unreliable borrowers are clients with an income of 15,000**"
   ]
  },
  {
   "cell_type": "markdown",
   "metadata": {},
   "source": [
    "<div class=\"alert alert-block alert-success\">\n",
    "<b>Reviewer's comment</b> <a class=\"tocSkip\"></a>\n",
    "    \n",
    "Not so expected.  :) </div>"
   ]
  },
  {
   "cell_type": "markdown",
   "metadata": {},
   "source": [
    "**How does credit purpose affect the default rate?**"
   ]
  },
  {
   "cell_type": "code",
   "execution_count": 67,
   "metadata": {
    "scrolled": true
   },
   "outputs": [
    {
     "name": "stdout",
     "output_type": "stream",
     "text": [
      "92.77% real estate purpose category have paid their loans on time\n",
      "90.64% buy a car purpose category have paid their loans on time\n",
      "90.78% education purpose category have paid their loans on time\n",
      "92.0% wedding purpose category have paid their loans on time\n"
     ]
    }
   ],
   "source": [
    "for cat in credit_score['purpose'].unique():\n",
    "    purpose_category = credit_score['purpose'][(credit_score['purpose']==cat) & (credit_score['debt']==0)].count()\n",
    "    total = credit_score['purpose'][credit_score['purpose']==cat].count()\n",
    "    purpose_percent = round(purpose_category/ total * 100, 2)\n",
    "    print(f\"{purpose_percent}% {cat} purpose category have paid their loans on time\")"
   ]
  },
  {
   "cell_type": "code",
   "execution_count": 68,
   "metadata": {},
   "outputs": [
    {
     "data": {
      "text/html": [
       "<div>\n",
       "<style scoped>\n",
       "    .dataframe tbody tr th:only-of-type {\n",
       "        vertical-align: middle;\n",
       "    }\n",
       "\n",
       "    .dataframe tbody tr th {\n",
       "        vertical-align: top;\n",
       "    }\n",
       "\n",
       "    .dataframe thead tr th {\n",
       "        text-align: left;\n",
       "    }\n",
       "\n",
       "    .dataframe thead tr:last-of-type th {\n",
       "        text-align: right;\n",
       "    }\n",
       "</style>\n",
       "<table border=\"1\" class=\"dataframe\">\n",
       "  <thead>\n",
       "    <tr>\n",
       "      <th></th>\n",
       "      <th>sum</th>\n",
       "      <th>count</th>\n",
       "      <th>ratio</th>\n",
       "    </tr>\n",
       "    <tr>\n",
       "      <th></th>\n",
       "      <th>debt</th>\n",
       "      <th>debt</th>\n",
       "      <th></th>\n",
       "    </tr>\n",
       "    <tr>\n",
       "      <th>purpose</th>\n",
       "      <th></th>\n",
       "      <th></th>\n",
       "      <th></th>\n",
       "    </tr>\n",
       "  </thead>\n",
       "  <tbody>\n",
       "    <tr>\n",
       "      <td>buy a car</td>\n",
       "      <td>403</td>\n",
       "      <td>4306</td>\n",
       "      <td>9.36</td>\n",
       "    </tr>\n",
       "    <tr>\n",
       "      <td>education</td>\n",
       "      <td>370</td>\n",
       "      <td>4013</td>\n",
       "      <td>9.22</td>\n",
       "    </tr>\n",
       "    <tr>\n",
       "      <td>real estate</td>\n",
       "      <td>782</td>\n",
       "      <td>10811</td>\n",
       "      <td>7.23</td>\n",
       "    </tr>\n",
       "    <tr>\n",
       "      <td>wedding</td>\n",
       "      <td>186</td>\n",
       "      <td>2324</td>\n",
       "      <td>8.00</td>\n",
       "    </tr>\n",
       "  </tbody>\n",
       "</table>\n",
       "</div>"
      ],
      "text/plain": [
       "             sum  count ratio\n",
       "            debt   debt      \n",
       "purpose                      \n",
       "buy a car    403   4306  9.36\n",
       "education    370   4013  9.22\n",
       "real estate  782  10811  7.23\n",
       "wedding      186   2324  8.00"
      ]
     },
     "execution_count": 68,
     "metadata": {},
     "output_type": "execute_result"
    }
   ],
   "source": [
    "pivot_purpose = credit_score.pivot_table(index=['purpose'], values=['debt'], aggfunc=['sum', 'count'])\n",
    "pivot_purpose['ratio'] = round(pivot_purpose[('sum', 'debt')]/ pivot_purpose['count', 'debt'] * 100, 2)\n",
    "pivot_purpose"
   ]
  },
  {
   "cell_type": "markdown",
   "metadata": {},
   "source": [
    "**Conclusion**\n",
    "\n",
    "**All purpose category have more than 90% probability to pay their loans on time.**\n",
    "**Car and education have more missing payments than other purpose category.**"
   ]
  },
  {
   "cell_type": "markdown",
   "metadata": {},
   "source": [
    "<div class=\"alert alert-block alert-success\">\n",
    "<b>Reviewer's comment</b> <a class=\"tocSkip\"></a>\n",
    "    \n",
    "So, real estate purpose category has many bank check and it is the best.  :) </div>"
   ]
  },
  {
   "cell_type": "markdown",
   "metadata": {},
   "source": [
    "# General Conclusion \n",
    "\n",
    "1. **Q1 CONCLUSION** = After reviewing the DATA and analze it I can come to A conclusion that having no kids at all will most lakely increase the propability of paying the loan on time, and on the atoher end having no kids dosent really change the ability of paying the loan on time.\n",
    "2. **Q2 CONCLUSION** = After reviewing the DATA and analze it I can come to A conclusion that 'widow / widower' & 'divorced' have less overdue loans, and the 'unmarried' group has the worst loan repayment. \n",
    "3. **Q3 CONCLUSION** = After analyzing the data, i learn that the best borrowers are clients with an income of 40,000 or more & the most unreliable borrowers are clients with an income of 15,000\n",
    "4. **Q4 CONCLUSION** = All purpose category have more than 90% probability to pay their loans on time. Car and education have more missing payments than other purpose category.\n",
    "\n",
    "**The data contained some anomalies, including errors in data insertion and lack of categorization, making analysis difficult.\n",
    "From this data set I wasn't able to discover a relation between on-time loan repayment and their cause. From the 4 analysis that I made the categories show that more than 90% of the members will repay their loan on time.\n",
    "In general, no correlation has been identified. There is a weak correlation between having children, also purposes of loans could impact the picture of the credit score in general speaking. It can be assumed that there is correlation between multiple features at the same time. Also we could describe portrait of good client, - without kids, with total income more than 200000.\n",
    "customers without children have a slightly lower default-rate than customers with 1 or 2 children\n",
    "widows/widowers have a litle bit lower default-rate than all bank's customers in average\n",
    "unmarried customers have a little bit higher default-rate than all customers in average\n",
    "customers with a very high income (1% of customers with the highest income) have a litle bit lower default-rate than all customers in average\n",
    "customers without real estate loan purpose have a slightly lower default-rate than customers with car or education loan purposes.\n",
    "alto I didnt focus on that I could assume from looking in the table DATA that there is more connection by looking on age and income to the ability of returning a loan, but I didnt focus on that in this TASK.**"
   ]
  },
  {
   "cell_type": "markdown",
   "metadata": {},
   "source": [
    "<div class=\"alert alert-block alert-info\">\n",
    "<b>THANK YOU VERY MUCH FOR REVIEWING MY WORK AND GIVING ME INPUTS AND POINTS, Y.T</b> <a class=\"tocSkip\"></a>\n",
    "</div>"
   ]
  },
  {
   "cell_type": "markdown",
   "metadata": {},
   "source": [
    "<div class=\"alert alert-block alert-success\">\n",
    "<b>Reviewer's comment</b> <a class=\"tocSkip\"></a>\n",
    "    \n",
    "Very good final conclusion! Thank you for your work! </div>"
   ]
  }
 ],
 "metadata": {
  "ExecuteTimeLog": [
   {
    "duration": 2741,
    "start_time": "2021-10-21T01:08:49.480Z"
   },
   {
    "duration": 52,
    "start_time": "2021-10-21T01:08:53.315Z"
   },
   {
    "duration": 49,
    "start_time": "2021-10-21T01:08:57.432Z"
   },
   {
    "duration": 70,
    "start_time": "2021-10-21T01:09:07.706Z"
   },
   {
    "duration": 88,
    "start_time": "2022-01-14T10:12:40.176Z"
   },
   {
    "duration": 412,
    "start_time": "2022-01-14T10:13:17.700Z"
   },
   {
    "duration": 1224,
    "start_time": "2022-01-14T10:13:31.884Z"
   },
   {
    "duration": 12,
    "start_time": "2022-01-14T10:13:50.114Z"
   },
   {
    "duration": 8,
    "start_time": "2022-01-14T10:13:50.128Z"
   },
   {
    "duration": 9,
    "start_time": "2022-01-14T10:13:50.138Z"
   },
   {
    "duration": 9,
    "start_time": "2022-01-14T10:13:50.149Z"
   },
   {
    "duration": 360,
    "start_time": "2022-01-14T16:26:56.542Z"
   },
   {
    "duration": 396,
    "start_time": "2022-01-14T16:27:14.877Z"
   },
   {
    "duration": 1117,
    "start_time": "2022-01-14T16:27:22.983Z"
   },
   {
    "duration": 10,
    "start_time": "2022-01-14T16:27:27.584Z"
   },
   {
    "duration": 8,
    "start_time": "2022-01-14T16:27:33.621Z"
   },
   {
    "duration": 7,
    "start_time": "2022-01-14T16:27:38.798Z"
   },
   {
    "duration": 7,
    "start_time": "2022-01-14T16:27:40.911Z"
   },
   {
    "duration": 42,
    "start_time": "2022-01-14T17:02:09.618Z"
   },
   {
    "duration": 9,
    "start_time": "2022-01-14T17:02:09.662Z"
   },
   {
    "duration": 111,
    "start_time": "2022-01-14T17:02:09.673Z"
   },
   {
    "duration": -331,
    "start_time": "2022-01-14T17:02:10.119Z"
   },
   {
    "duration": -340,
    "start_time": "2022-01-14T17:02:10.129Z"
   },
   {
    "duration": -344,
    "start_time": "2022-01-14T17:02:10.133Z"
   },
   {
    "duration": -346,
    "start_time": "2022-01-14T17:02:10.136Z"
   },
   {
    "duration": -349,
    "start_time": "2022-01-14T17:02:10.140Z"
   },
   {
    "duration": -351,
    "start_time": "2022-01-14T17:02:10.143Z"
   },
   {
    "duration": -352,
    "start_time": "2022-01-14T17:02:10.145Z"
   },
   {
    "duration": -355,
    "start_time": "2022-01-14T17:02:10.149Z"
   },
   {
    "duration": -356,
    "start_time": "2022-01-14T17:02:10.151Z"
   },
   {
    "duration": -360,
    "start_time": "2022-01-14T17:02:10.156Z"
   },
   {
    "duration": -363,
    "start_time": "2022-01-14T17:02:10.159Z"
   },
   {
    "duration": -364,
    "start_time": "2022-01-14T17:02:10.161Z"
   },
   {
    "duration": -367,
    "start_time": "2022-01-14T17:02:10.165Z"
   },
   {
    "duration": -370,
    "start_time": "2022-01-14T17:02:10.169Z"
   },
   {
    "duration": -374,
    "start_time": "2022-01-14T17:02:10.173Z"
   },
   {
    "duration": -376,
    "start_time": "2022-01-14T17:02:10.176Z"
   },
   {
    "duration": -378,
    "start_time": "2022-01-14T17:02:10.179Z"
   },
   {
    "duration": -438,
    "start_time": "2022-01-14T17:02:10.240Z"
   },
   {
    "duration": -490,
    "start_time": "2022-01-14T17:02:10.292Z"
   },
   {
    "duration": -522,
    "start_time": "2022-01-14T17:02:10.325Z"
   },
   {
    "duration": -524,
    "start_time": "2022-01-14T17:02:10.328Z"
   },
   {
    "duration": -525,
    "start_time": "2022-01-14T17:02:10.330Z"
   },
   {
    "duration": -528,
    "start_time": "2022-01-14T17:02:10.333Z"
   },
   {
    "duration": -529,
    "start_time": "2022-01-14T17:02:10.335Z"
   },
   {
    "duration": -533,
    "start_time": "2022-01-14T17:02:10.340Z"
   },
   {
    "duration": -535,
    "start_time": "2022-01-14T17:02:10.343Z"
   },
   {
    "duration": -536,
    "start_time": "2022-01-14T17:02:10.345Z"
   },
   {
    "duration": -539,
    "start_time": "2022-01-14T17:02:10.349Z"
   },
   {
    "duration": -540,
    "start_time": "2022-01-14T17:02:10.352Z"
   },
   {
    "duration": -543,
    "start_time": "2022-01-14T17:02:10.356Z"
   },
   {
    "duration": -544,
    "start_time": "2022-01-14T17:02:10.358Z"
   },
   {
    "duration": -547,
    "start_time": "2022-01-14T17:02:10.361Z"
   },
   {
    "duration": -554,
    "start_time": "2022-01-14T17:02:10.370Z"
   },
   {
    "duration": -558,
    "start_time": "2022-01-14T17:02:10.374Z"
   },
   {
    "duration": -559,
    "start_time": "2022-01-14T17:02:10.376Z"
   },
   {
    "duration": -562,
    "start_time": "2022-01-14T17:02:10.380Z"
   },
   {
    "duration": -563,
    "start_time": "2022-01-14T17:02:10.382Z"
   },
   {
    "duration": -565,
    "start_time": "2022-01-14T17:02:10.385Z"
   },
   {
    "duration": -563,
    "start_time": "2022-01-14T17:02:10.389Z"
   },
   {
    "duration": -565,
    "start_time": "2022-01-14T17:02:10.392Z"
   },
   {
    "duration": -568,
    "start_time": "2022-01-14T17:02:10.396Z"
   },
   {
    "duration": -569,
    "start_time": "2022-01-14T17:02:10.398Z"
   },
   {
    "duration": -571,
    "start_time": "2022-01-14T17:02:10.401Z"
   },
   {
    "duration": -575,
    "start_time": "2022-01-14T17:02:10.405Z"
   },
   {
    "duration": -577,
    "start_time": "2022-01-14T17:02:10.408Z"
   },
   {
    "duration": -579,
    "start_time": "2022-01-14T17:02:10.411Z"
   },
   {
    "duration": -580,
    "start_time": "2022-01-14T17:02:10.413Z"
   },
   {
    "duration": -582,
    "start_time": "2022-01-14T17:02:10.416Z"
   },
   {
    "duration": -584,
    "start_time": "2022-01-14T17:02:10.419Z"
   },
   {
    "duration": -586,
    "start_time": "2022-01-14T17:02:10.422Z"
   },
   {
    "duration": -588,
    "start_time": "2022-01-14T17:02:10.425Z"
   },
   {
    "duration": -590,
    "start_time": "2022-01-14T17:02:10.428Z"
   },
   {
    "duration": -593,
    "start_time": "2022-01-14T17:02:10.431Z"
   },
   {
    "duration": -595,
    "start_time": "2022-01-14T17:02:10.434Z"
   },
   {
    "duration": -596,
    "start_time": "2022-01-14T17:02:10.436Z"
   },
   {
    "duration": -600,
    "start_time": "2022-01-14T17:02:10.441Z"
   },
   {
    "duration": -603,
    "start_time": "2022-01-14T17:02:10.444Z"
   },
   {
    "duration": -604,
    "start_time": "2022-01-14T17:02:10.446Z"
   },
   {
    "duration": -606,
    "start_time": "2022-01-14T17:02:10.449Z"
   },
   {
    "duration": -608,
    "start_time": "2022-01-14T17:02:10.452Z"
   },
   {
    "duration": -610,
    "start_time": "2022-01-14T17:02:10.455Z"
   },
   {
    "duration": -612,
    "start_time": "2022-01-14T17:02:10.458Z"
   },
   {
    "duration": -650,
    "start_time": "2022-01-14T17:02:10.497Z"
   },
   {
    "duration": -662,
    "start_time": "2022-01-14T17:02:10.510Z"
   },
   {
    "duration": 2,
    "start_time": "2022-01-14T17:02:09.850Z"
   },
   {
    "duration": 11,
    "start_time": "2022-01-14T17:02:09.854Z"
   },
   {
    "duration": 8,
    "start_time": "2022-01-14T17:02:09.866Z"
   },
   {
    "duration": 53,
    "start_time": "2022-01-14T17:02:09.875Z"
   },
   {
    "duration": 2,
    "start_time": "2022-01-14T17:02:09.929Z"
   },
   {
    "duration": 4,
    "start_time": "2022-01-14T17:02:09.933Z"
   },
   {
    "duration": 5,
    "start_time": "2022-01-14T17:02:09.938Z"
   },
   {
    "duration": 42,
    "start_time": "2022-01-14T17:03:03.564Z"
   },
   {
    "duration": 9,
    "start_time": "2022-01-14T17:03:03.608Z"
   },
   {
    "duration": 10,
    "start_time": "2022-01-14T17:03:03.619Z"
   },
   {
    "duration": 21,
    "start_time": "2022-01-14T17:03:03.631Z"
   },
   {
    "duration": 9,
    "start_time": "2022-01-14T17:03:03.654Z"
   },
   {
    "duration": 10,
    "start_time": "2022-01-14T17:03:03.664Z"
   },
   {
    "duration": 18,
    "start_time": "2022-01-14T17:03:03.675Z"
   },
   {
    "duration": 16,
    "start_time": "2022-01-14T17:03:03.695Z"
   },
   {
    "duration": 13,
    "start_time": "2022-01-14T17:03:03.713Z"
   },
   {
    "duration": 19,
    "start_time": "2022-01-14T17:03:03.727Z"
   },
   {
    "duration": 14,
    "start_time": "2022-01-14T17:03:03.747Z"
   },
   {
    "duration": 19,
    "start_time": "2022-01-14T17:03:03.762Z"
   },
   {
    "duration": 15,
    "start_time": "2022-01-14T17:03:03.782Z"
   },
   {
    "duration": 18,
    "start_time": "2022-01-14T17:03:03.798Z"
   },
   {
    "duration": 11,
    "start_time": "2022-01-14T17:03:03.818Z"
   },
   {
    "duration": 23,
    "start_time": "2022-01-14T17:03:03.830Z"
   },
   {
    "duration": 12,
    "start_time": "2022-01-14T17:03:03.854Z"
   },
   {
    "duration": 18,
    "start_time": "2022-01-14T17:03:03.867Z"
   },
   {
    "duration": 25,
    "start_time": "2022-01-14T17:03:03.886Z"
   },
   {
    "duration": 15,
    "start_time": "2022-01-14T17:03:03.913Z"
   },
   {
    "duration": 21,
    "start_time": "2022-01-14T17:03:03.929Z"
   },
   {
    "duration": 24,
    "start_time": "2022-01-14T17:03:03.952Z"
   },
   {
    "duration": 18,
    "start_time": "2022-01-14T17:03:03.977Z"
   },
   {
    "duration": 20,
    "start_time": "2022-01-14T17:03:03.997Z"
   },
   {
    "duration": 16,
    "start_time": "2022-01-14T17:03:04.018Z"
   },
   {
    "duration": 18,
    "start_time": "2022-01-14T17:03:04.036Z"
   },
   {
    "duration": 12,
    "start_time": "2022-01-14T17:03:04.059Z"
   },
   {
    "duration": 11,
    "start_time": "2022-01-14T17:03:04.073Z"
   },
   {
    "duration": 25,
    "start_time": "2022-01-14T17:03:04.086Z"
   },
   {
    "duration": 9,
    "start_time": "2022-01-14T17:03:04.113Z"
   },
   {
    "duration": 14,
    "start_time": "2022-01-14T17:03:04.123Z"
   },
   {
    "duration": 12,
    "start_time": "2022-01-14T17:03:04.138Z"
   },
   {
    "duration": 13,
    "start_time": "2022-01-14T17:03:04.152Z"
   },
   {
    "duration": 18,
    "start_time": "2022-01-14T17:03:04.167Z"
   },
   {
    "duration": 21,
    "start_time": "2022-01-14T17:03:04.186Z"
   },
   {
    "duration": 24,
    "start_time": "2022-01-14T17:03:04.209Z"
   },
   {
    "duration": 20,
    "start_time": "2022-01-14T17:03:04.234Z"
   },
   {
    "duration": 15,
    "start_time": "2022-01-14T17:03:04.256Z"
   },
   {
    "duration": 18,
    "start_time": "2022-01-14T17:03:04.272Z"
   },
   {
    "duration": 18,
    "start_time": "2022-01-14T17:03:04.292Z"
   },
   {
    "duration": 4,
    "start_time": "2022-01-14T17:03:04.311Z"
   },
   {
    "duration": 4,
    "start_time": "2022-01-14T17:03:04.317Z"
   },
   {
    "duration": 6,
    "start_time": "2022-01-14T17:03:04.323Z"
   },
   {
    "duration": 3,
    "start_time": "2022-01-14T17:03:04.331Z"
   },
   {
    "duration": 4,
    "start_time": "2022-01-14T17:03:04.336Z"
   },
   {
    "duration": 5,
    "start_time": "2022-01-14T17:03:04.341Z"
   },
   {
    "duration": 5,
    "start_time": "2022-01-14T17:03:04.348Z"
   },
   {
    "duration": 7,
    "start_time": "2022-01-14T17:03:04.354Z"
   },
   {
    "duration": 5,
    "start_time": "2022-01-14T17:03:04.362Z"
   },
   {
    "duration": 6,
    "start_time": "2022-01-14T17:03:04.368Z"
   },
   {
    "duration": 4,
    "start_time": "2022-01-14T17:03:04.375Z"
   },
   {
    "duration": 6,
    "start_time": "2022-01-14T17:03:04.380Z"
   },
   {
    "duration": 5,
    "start_time": "2022-01-14T17:03:04.387Z"
   },
   {
    "duration": 5,
    "start_time": "2022-01-14T17:03:04.393Z"
   },
   {
    "duration": 5,
    "start_time": "2022-01-14T17:03:04.399Z"
   },
   {
    "duration": 5,
    "start_time": "2022-01-14T17:03:04.405Z"
   },
   {
    "duration": 6,
    "start_time": "2022-01-14T17:03:04.411Z"
   },
   {
    "duration": 4,
    "start_time": "2022-01-14T17:03:04.418Z"
   },
   {
    "duration": 2,
    "start_time": "2022-01-14T17:03:04.427Z"
   },
   {
    "duration": 6,
    "start_time": "2022-01-14T17:03:04.430Z"
   },
   {
    "duration": 5,
    "start_time": "2022-01-14T17:03:04.437Z"
   },
   {
    "duration": 5,
    "start_time": "2022-01-14T17:03:04.443Z"
   },
   {
    "duration": 5,
    "start_time": "2022-01-14T17:03:04.449Z"
   },
   {
    "duration": 7,
    "start_time": "2022-01-14T17:03:04.456Z"
   },
   {
    "duration": 8,
    "start_time": "2022-01-14T17:03:04.465Z"
   },
   {
    "duration": 5,
    "start_time": "2022-01-14T17:03:04.474Z"
   },
   {
    "duration": 8,
    "start_time": "2022-01-14T17:03:04.480Z"
   },
   {
    "duration": 6,
    "start_time": "2022-01-14T17:03:04.489Z"
   },
   {
    "duration": 8,
    "start_time": "2022-01-14T17:03:04.497Z"
   },
   {
    "duration": 6,
    "start_time": "2022-01-14T17:03:04.506Z"
   },
   {
    "duration": 5,
    "start_time": "2022-01-14T17:03:04.513Z"
   },
   {
    "duration": 8,
    "start_time": "2022-01-14T17:03:04.519Z"
   },
   {
    "duration": 7,
    "start_time": "2022-01-14T17:03:04.528Z"
   },
   {
    "duration": 42,
    "start_time": "2022-01-14T17:12:23.807Z"
   },
   {
    "duration": 11,
    "start_time": "2022-01-14T17:12:23.850Z"
   },
   {
    "duration": 15,
    "start_time": "2022-01-14T17:12:23.864Z"
   },
   {
    "duration": 9,
    "start_time": "2022-01-14T17:12:23.881Z"
   },
   {
    "duration": 42,
    "start_time": "2022-01-14T17:12:23.892Z"
   },
   {
    "duration": 2,
    "start_time": "2022-01-14T17:12:23.936Z"
   },
   {
    "duration": 4,
    "start_time": "2022-01-14T17:12:23.939Z"
   },
   {
    "duration": 3,
    "start_time": "2022-01-14T17:12:23.945Z"
   },
   {
    "duration": 3,
    "start_time": "2022-01-14T17:12:23.951Z"
   },
   {
    "duration": 3,
    "start_time": "2022-01-14T17:12:23.956Z"
   },
   {
    "duration": 4,
    "start_time": "2022-01-14T17:12:23.961Z"
   },
   {
    "duration": 3,
    "start_time": "2022-01-14T17:12:23.967Z"
   },
   {
    "duration": 4,
    "start_time": "2022-01-14T17:12:23.972Z"
   },
   {
    "duration": 5,
    "start_time": "2022-01-14T17:12:23.977Z"
   },
   {
    "duration": 4,
    "start_time": "2022-01-14T17:12:23.984Z"
   },
   {
    "duration": 4,
    "start_time": "2022-01-14T17:12:23.989Z"
   },
   {
    "duration": 32,
    "start_time": "2022-01-14T17:12:23.995Z"
   },
   {
    "duration": 4,
    "start_time": "2022-01-14T17:12:24.029Z"
   },
   {
    "duration": 4,
    "start_time": "2022-01-14T17:12:24.035Z"
   },
   {
    "duration": 5,
    "start_time": "2022-01-14T17:12:24.040Z"
   },
   {
    "duration": 4,
    "start_time": "2022-01-14T17:12:24.046Z"
   },
   {
    "duration": 4,
    "start_time": "2022-01-14T17:12:24.052Z"
   },
   {
    "duration": 4,
    "start_time": "2022-01-14T17:12:24.057Z"
   },
   {
    "duration": 4,
    "start_time": "2022-01-14T17:12:24.063Z"
   },
   {
    "duration": 4,
    "start_time": "2022-01-14T17:12:24.069Z"
   },
   {
    "duration": 9,
    "start_time": "2022-01-14T17:12:24.075Z"
   },
   {
    "duration": 2,
    "start_time": "2022-01-14T17:12:24.088Z"
   },
   {
    "duration": 4,
    "start_time": "2022-01-14T17:12:24.092Z"
   },
   {
    "duration": 4,
    "start_time": "2022-01-14T17:12:24.098Z"
   },
   {
    "duration": 5,
    "start_time": "2022-01-14T17:12:24.103Z"
   },
   {
    "duration": 2,
    "start_time": "2022-01-14T17:12:24.127Z"
   },
   {
    "duration": 4,
    "start_time": "2022-01-14T17:12:24.131Z"
   },
   {
    "duration": 5,
    "start_time": "2022-01-14T17:12:24.136Z"
   },
   {
    "duration": 4,
    "start_time": "2022-01-14T17:12:24.142Z"
   },
   {
    "duration": 5,
    "start_time": "2022-01-14T17:12:24.147Z"
   },
   {
    "duration": 4,
    "start_time": "2022-01-14T17:12:24.153Z"
   },
   {
    "duration": 5,
    "start_time": "2022-01-14T17:12:24.158Z"
   },
   {
    "duration": 5,
    "start_time": "2022-01-14T17:12:24.164Z"
   },
   {
    "duration": 6,
    "start_time": "2022-01-14T17:12:24.170Z"
   },
   {
    "duration": 7,
    "start_time": "2022-01-14T17:12:24.177Z"
   },
   {
    "duration": 7,
    "start_time": "2022-01-14T17:12:24.185Z"
   },
   {
    "duration": 5,
    "start_time": "2022-01-14T17:12:24.194Z"
   },
   {
    "duration": 5,
    "start_time": "2022-01-14T17:12:24.201Z"
   },
   {
    "duration": 5,
    "start_time": "2022-01-14T17:12:24.207Z"
   },
   {
    "duration": 15,
    "start_time": "2022-01-14T17:12:24.213Z"
   },
   {
    "duration": 4,
    "start_time": "2022-01-14T17:12:24.229Z"
   },
   {
    "duration": 5,
    "start_time": "2022-01-14T17:12:24.234Z"
   },
   {
    "duration": 4,
    "start_time": "2022-01-14T17:12:24.241Z"
   },
   {
    "duration": 5,
    "start_time": "2022-01-14T17:12:24.246Z"
   },
   {
    "duration": 6,
    "start_time": "2022-01-14T17:12:24.252Z"
   },
   {
    "duration": 14,
    "start_time": "2022-01-14T17:12:24.260Z"
   },
   {
    "duration": 12,
    "start_time": "2022-01-14T17:12:24.276Z"
   },
   {
    "duration": 8,
    "start_time": "2022-01-14T17:12:24.290Z"
   },
   {
    "duration": 15,
    "start_time": "2022-01-14T17:12:24.300Z"
   },
   {
    "duration": 19,
    "start_time": "2022-01-14T17:12:24.316Z"
   },
   {
    "duration": 5,
    "start_time": "2022-01-14T17:12:24.337Z"
   },
   {
    "duration": 9,
    "start_time": "2022-01-14T17:12:24.344Z"
   },
   {
    "duration": 15,
    "start_time": "2022-01-14T17:12:24.354Z"
   },
   {
    "duration": 8,
    "start_time": "2022-01-14T17:12:24.371Z"
   },
   {
    "duration": 11,
    "start_time": "2022-01-14T17:12:24.381Z"
   },
   {
    "duration": 9,
    "start_time": "2022-01-14T17:12:24.394Z"
   },
   {
    "duration": 17,
    "start_time": "2022-01-14T17:12:24.405Z"
   },
   {
    "duration": 14,
    "start_time": "2022-01-14T17:12:24.423Z"
   },
   {
    "duration": 10,
    "start_time": "2022-01-14T17:12:24.439Z"
   },
   {
    "duration": 7,
    "start_time": "2022-01-14T17:12:24.451Z"
   },
   {
    "duration": 15,
    "start_time": "2022-01-14T17:12:24.459Z"
   },
   {
    "duration": 7,
    "start_time": "2022-01-14T17:12:24.475Z"
   },
   {
    "duration": 10,
    "start_time": "2022-01-14T17:12:24.483Z"
   },
   {
    "duration": 18,
    "start_time": "2022-01-14T17:12:24.494Z"
   },
   {
    "duration": 9,
    "start_time": "2022-01-14T17:12:24.514Z"
   },
   {
    "duration": 18,
    "start_time": "2022-01-14T17:12:24.524Z"
   },
   {
    "duration": 12,
    "start_time": "2022-01-14T17:12:24.543Z"
   },
   {
    "duration": 7,
    "start_time": "2022-01-14T17:12:24.556Z"
   },
   {
    "duration": 100,
    "start_time": "2022-01-14T17:38:38.280Z"
   },
   {
    "duration": 13,
    "start_time": "2022-01-14T17:38:56.054Z"
   },
   {
    "duration": 12,
    "start_time": "2022-01-14T17:39:06.960Z"
   },
   {
    "duration": 13,
    "start_time": "2022-01-14T17:40:07.425Z"
   },
   {
    "duration": 9,
    "start_time": "2022-01-14T17:40:55.650Z"
   },
   {
    "duration": 389,
    "start_time": "2022-01-14T17:49:58.125Z"
   },
   {
    "duration": 342,
    "start_time": "2022-01-14T17:50:22.453Z"
   },
   {
    "duration": 46,
    "start_time": "2022-01-14T17:51:14.679Z"
   },
   {
    "duration": 9,
    "start_time": "2022-01-14T17:57:11.827Z"
   },
   {
    "duration": 13,
    "start_time": "2022-01-14T17:58:28.248Z"
   },
   {
    "duration": 11,
    "start_time": "2022-01-14T18:21:12.462Z"
   },
   {
    "duration": 41,
    "start_time": "2022-01-14T19:49:05.298Z"
   },
   {
    "duration": 9,
    "start_time": "2022-01-14T19:49:05.341Z"
   },
   {
    "duration": 10,
    "start_time": "2022-01-14T19:49:05.352Z"
   },
   {
    "duration": 11,
    "start_time": "2022-01-14T19:49:05.364Z"
   },
   {
    "duration": 11,
    "start_time": "2022-01-14T19:49:05.376Z"
   },
   {
    "duration": 42,
    "start_time": "2022-01-14T19:49:05.389Z"
   },
   {
    "duration": 47,
    "start_time": "2022-01-14T19:49:05.432Z"
   },
   {
    "duration": 8,
    "start_time": "2022-01-14T19:49:05.481Z"
   },
   {
    "duration": 39,
    "start_time": "2022-01-14T19:49:05.491Z"
   },
   {
    "duration": 10,
    "start_time": "2022-01-14T19:49:05.533Z"
   },
   {
    "duration": 3,
    "start_time": "2022-01-14T19:49:05.545Z"
   },
   {
    "duration": 6,
    "start_time": "2022-01-14T19:49:05.550Z"
   },
   {
    "duration": 5,
    "start_time": "2022-01-14T19:49:05.557Z"
   },
   {
    "duration": 5,
    "start_time": "2022-01-14T19:49:05.563Z"
   },
   {
    "duration": 4,
    "start_time": "2022-01-14T19:49:05.569Z"
   },
   {
    "duration": 5,
    "start_time": "2022-01-14T19:49:05.575Z"
   },
   {
    "duration": 4,
    "start_time": "2022-01-14T19:49:05.581Z"
   },
   {
    "duration": 5,
    "start_time": "2022-01-14T19:49:05.587Z"
   },
   {
    "duration": 10,
    "start_time": "2022-01-14T19:49:05.593Z"
   },
   {
    "duration": 5,
    "start_time": "2022-01-14T19:49:05.604Z"
   },
   {
    "duration": 1,
    "start_time": "2022-01-14T19:49:05.627Z"
   },
   {
    "duration": 4,
    "start_time": "2022-01-14T19:49:05.630Z"
   },
   {
    "duration": 4,
    "start_time": "2022-01-14T19:49:05.635Z"
   },
   {
    "duration": 4,
    "start_time": "2022-01-14T19:49:05.641Z"
   },
   {
    "duration": 4,
    "start_time": "2022-01-14T19:49:05.646Z"
   },
   {
    "duration": 6,
    "start_time": "2022-01-14T19:49:05.651Z"
   },
   {
    "duration": 4,
    "start_time": "2022-01-14T19:49:05.661Z"
   },
   {
    "duration": 3,
    "start_time": "2022-01-14T19:49:05.667Z"
   },
   {
    "duration": 8,
    "start_time": "2022-01-14T19:49:05.672Z"
   },
   {
    "duration": 5,
    "start_time": "2022-01-14T19:49:05.681Z"
   },
   {
    "duration": 8,
    "start_time": "2022-01-14T19:49:05.687Z"
   },
   {
    "duration": 4,
    "start_time": "2022-01-14T19:49:05.696Z"
   },
   {
    "duration": 4,
    "start_time": "2022-01-14T19:49:05.701Z"
   },
   {
    "duration": 20,
    "start_time": "2022-01-14T19:49:05.707Z"
   },
   {
    "duration": 8,
    "start_time": "2022-01-14T19:49:05.728Z"
   },
   {
    "duration": 5,
    "start_time": "2022-01-14T19:49:05.737Z"
   },
   {
    "duration": 5,
    "start_time": "2022-01-14T19:49:05.743Z"
   },
   {
    "duration": 4,
    "start_time": "2022-01-14T19:49:05.750Z"
   },
   {
    "duration": 5,
    "start_time": "2022-01-14T19:49:05.755Z"
   },
   {
    "duration": 5,
    "start_time": "2022-01-14T19:49:05.761Z"
   },
   {
    "duration": 5,
    "start_time": "2022-01-14T19:49:05.767Z"
   },
   {
    "duration": 8,
    "start_time": "2022-01-14T19:49:05.774Z"
   },
   {
    "duration": 5,
    "start_time": "2022-01-14T19:49:05.783Z"
   },
   {
    "duration": 6,
    "start_time": "2022-01-14T19:49:05.789Z"
   },
   {
    "duration": 9,
    "start_time": "2022-01-14T19:49:05.797Z"
   },
   {
    "duration": 6,
    "start_time": "2022-01-14T19:49:05.807Z"
   },
   {
    "duration": 4,
    "start_time": "2022-01-14T19:49:05.815Z"
   },
   {
    "duration": 5,
    "start_time": "2022-01-14T19:49:05.820Z"
   },
   {
    "duration": 5,
    "start_time": "2022-01-14T19:49:05.827Z"
   },
   {
    "duration": 4,
    "start_time": "2022-01-14T19:49:05.834Z"
   },
   {
    "duration": 4,
    "start_time": "2022-01-14T19:49:05.839Z"
   },
   {
    "duration": 4,
    "start_time": "2022-01-14T19:49:05.845Z"
   },
   {
    "duration": 6,
    "start_time": "2022-01-14T19:49:05.851Z"
   },
   {
    "duration": 4,
    "start_time": "2022-01-14T19:49:05.858Z"
   },
   {
    "duration": 4,
    "start_time": "2022-01-14T19:49:05.863Z"
   },
   {
    "duration": 5,
    "start_time": "2022-01-14T19:49:05.869Z"
   },
   {
    "duration": 4,
    "start_time": "2022-01-14T19:49:05.875Z"
   },
   {
    "duration": 4,
    "start_time": "2022-01-14T19:49:05.881Z"
   },
   {
    "duration": 5,
    "start_time": "2022-01-14T19:49:05.886Z"
   },
   {
    "duration": 4,
    "start_time": "2022-01-14T19:49:05.892Z"
   },
   {
    "duration": 4,
    "start_time": "2022-01-14T19:49:05.898Z"
   },
   {
    "duration": 5,
    "start_time": "2022-01-14T19:49:05.903Z"
   },
   {
    "duration": 18,
    "start_time": "2022-01-14T19:49:05.909Z"
   },
   {
    "duration": 4,
    "start_time": "2022-01-14T19:49:05.929Z"
   },
   {
    "duration": 6,
    "start_time": "2022-01-14T19:49:05.935Z"
   },
   {
    "duration": 4,
    "start_time": "2022-01-14T19:49:05.942Z"
   },
   {
    "duration": 7,
    "start_time": "2022-01-14T19:49:05.947Z"
   },
   {
    "duration": 6,
    "start_time": "2022-01-14T19:49:05.955Z"
   },
   {
    "duration": 5,
    "start_time": "2022-01-14T19:49:05.962Z"
   },
   {
    "duration": 5,
    "start_time": "2022-01-14T19:49:05.968Z"
   },
   {
    "duration": 4,
    "start_time": "2022-01-14T19:49:05.975Z"
   },
   {
    "duration": 5,
    "start_time": "2022-01-14T19:49:05.980Z"
   },
   {
    "duration": 4,
    "start_time": "2022-01-14T19:49:05.987Z"
   },
   {
    "duration": 6,
    "start_time": "2022-01-14T19:49:05.993Z"
   },
   {
    "duration": 5,
    "start_time": "2022-01-14T19:49:06.000Z"
   },
   {
    "duration": 4,
    "start_time": "2022-01-14T19:50:36.587Z"
   },
   {
    "duration": 1582,
    "start_time": "2022-01-15T09:30:51.638Z"
   },
   {
    "duration": 17,
    "start_time": "2022-01-15T09:31:20.988Z"
   },
   {
    "duration": 26,
    "start_time": "2022-01-15T09:56:41.278Z"
   },
   {
    "duration": 17,
    "start_time": "2022-01-15T09:56:49.377Z"
   },
   {
    "duration": 17,
    "start_time": "2022-01-15T09:56:55.737Z"
   },
   {
    "duration": 18,
    "start_time": "2022-01-15T09:57:00.496Z"
   },
   {
    "duration": 13,
    "start_time": "2022-01-15T10:02:25.398Z"
   },
   {
    "duration": 76,
    "start_time": "2022-01-15T10:06:29.678Z"
   },
   {
    "duration": 13,
    "start_time": "2022-01-15T10:06:36.229Z"
   },
   {
    "duration": 18,
    "start_time": "2022-01-15T10:06:39.165Z"
   },
   {
    "duration": 14,
    "start_time": "2022-01-15T10:06:44.149Z"
   },
   {
    "duration": 12,
    "start_time": "2022-01-15T10:23:05.202Z"
   },
   {
    "duration": 87,
    "start_time": "2022-01-15T10:26:40.017Z"
   },
   {
    "duration": 84,
    "start_time": "2022-01-15T10:26:51.567Z"
   },
   {
    "duration": 85,
    "start_time": "2022-01-15T10:28:00.287Z"
   },
   {
    "duration": 92,
    "start_time": "2022-01-15T10:28:19.900Z"
   },
   {
    "duration": 404,
    "start_time": "2022-01-15T10:28:33.171Z"
   },
   {
    "duration": 100,
    "start_time": "2022-01-15T10:29:01.788Z"
   },
   {
    "duration": 309,
    "start_time": "2022-01-15T10:29:11.875Z"
   },
   {
    "duration": 93,
    "start_time": "2022-01-15T10:29:56.139Z"
   },
   {
    "duration": 19,
    "start_time": "2022-01-15T10:30:05.036Z"
   },
   {
    "duration": 18,
    "start_time": "2022-01-15T10:31:09.407Z"
   },
   {
    "duration": 11,
    "start_time": "2022-01-15T10:31:21.775Z"
   },
   {
    "duration": 15,
    "start_time": "2022-01-15T10:31:34.504Z"
   },
   {
    "duration": 14,
    "start_time": "2022-01-15T10:45:45.235Z"
   },
   {
    "duration": 9,
    "start_time": "2022-01-15T10:45:47.507Z"
   },
   {
    "duration": 15,
    "start_time": "2022-01-15T10:45:49.016Z"
   },
   {
    "duration": 322,
    "start_time": "2022-01-15T11:18:55.107Z"
   },
   {
    "duration": 343,
    "start_time": "2022-01-15T11:19:50.251Z"
   },
   {
    "duration": 308,
    "start_time": "2022-01-15T11:20:08.234Z"
   },
   {
    "duration": 274,
    "start_time": "2022-01-15T11:20:34.940Z"
   },
   {
    "duration": 248,
    "start_time": "2022-01-15T11:20:48.995Z"
   },
   {
    "duration": 400,
    "start_time": "2022-01-15T11:21:44.745Z"
   },
   {
    "duration": 14,
    "start_time": "2022-01-15T11:21:59.450Z"
   },
   {
    "duration": 279,
    "start_time": "2022-01-15T11:22:01.500Z"
   },
   {
    "duration": 9,
    "start_time": "2022-01-15T11:23:58.489Z"
   },
   {
    "duration": 9,
    "start_time": "2022-01-15T11:25:29.249Z"
   },
   {
    "duration": 8,
    "start_time": "2022-01-15T11:26:18.505Z"
   },
   {
    "duration": 12,
    "start_time": "2022-01-15T11:27:37.278Z"
   },
   {
    "duration": 10,
    "start_time": "2022-01-15T12:34:43.170Z"
   },
   {
    "duration": 7,
    "start_time": "2022-01-15T12:36:46.553Z"
   },
   {
    "duration": 16,
    "start_time": "2022-01-15T12:37:10.359Z"
   },
   {
    "duration": 18,
    "start_time": "2022-01-15T12:37:17.058Z"
   },
   {
    "duration": 273,
    "start_time": "2022-01-15T12:39:56.317Z"
   },
   {
    "duration": 4,
    "start_time": "2022-01-15T12:47:04.352Z"
   },
   {
    "duration": 8,
    "start_time": "2022-01-15T12:48:29.608Z"
   },
   {
    "duration": 6,
    "start_time": "2022-01-15T12:48:40.224Z"
   },
   {
    "duration": 3,
    "start_time": "2022-01-15T12:50:06.860Z"
   },
   {
    "duration": 8,
    "start_time": "2022-01-15T12:50:07.712Z"
   },
   {
    "duration": 4,
    "start_time": "2022-01-15T12:50:08.479Z"
   },
   {
    "duration": 8,
    "start_time": "2022-01-15T12:50:09.252Z"
   },
   {
    "duration": 7,
    "start_time": "2022-01-15T12:51:16.356Z"
   },
   {
    "duration": 973,
    "start_time": "2022-01-15T12:51:19.015Z"
   },
   {
    "duration": 4,
    "start_time": "2022-01-15T12:51:29.448Z"
   },
   {
    "duration": 6,
    "start_time": "2022-01-15T12:51:30.225Z"
   },
   {
    "duration": 1033,
    "start_time": "2022-01-15T12:51:31.433Z"
   },
   {
    "duration": 282,
    "start_time": "2022-01-15T12:52:17.058Z"
   },
   {
    "duration": 8,
    "start_time": "2022-01-15T12:52:17.562Z"
   },
   {
    "duration": 281,
    "start_time": "2022-01-15T12:52:19.411Z"
   },
   {
    "duration": 8,
    "start_time": "2022-01-15T12:52:21.294Z"
   },
   {
    "duration": 270,
    "start_time": "2022-01-15T12:52:34.248Z"
   },
   {
    "duration": 13,
    "start_time": "2022-01-15T12:53:55.392Z"
   },
   {
    "duration": 17,
    "start_time": "2022-01-15T12:53:55.408Z"
   },
   {
    "duration": 270,
    "start_time": "2022-01-15T12:53:56.661Z"
   },
   {
    "duration": 269,
    "start_time": "2022-01-15T12:55:13.858Z"
   },
   {
    "duration": 8,
    "start_time": "2022-01-15T12:55:22.821Z"
   },
   {
    "duration": 17,
    "start_time": "2022-01-15T12:55:24.509Z"
   },
   {
    "duration": 375,
    "start_time": "2022-01-15T12:55:27.357Z"
   },
   {
    "duration": 7,
    "start_time": "2022-01-15T12:57:51.489Z"
   },
   {
    "duration": 56,
    "start_time": "2022-01-15T12:57:59.660Z"
   },
   {
    "duration": 18,
    "start_time": "2022-01-15T12:57:59.719Z"
   },
   {
    "duration": 17,
    "start_time": "2022-01-15T12:57:59.741Z"
   },
   {
    "duration": 18,
    "start_time": "2022-01-15T12:57:59.761Z"
   },
   {
    "duration": 19,
    "start_time": "2022-01-15T12:57:59.817Z"
   },
   {
    "duration": 13,
    "start_time": "2022-01-15T12:57:59.839Z"
   },
   {
    "duration": 111,
    "start_time": "2022-01-15T12:57:59.855Z"
   },
   {
    "duration": 12,
    "start_time": "2022-01-15T12:57:59.970Z"
   },
   {
    "duration": 36,
    "start_time": "2022-01-15T12:57:59.984Z"
   },
   {
    "duration": 13,
    "start_time": "2022-01-15T12:58:00.023Z"
   },
   {
    "duration": 17,
    "start_time": "2022-01-15T12:58:00.038Z"
   },
   {
    "duration": 9,
    "start_time": "2022-01-15T12:58:00.057Z"
   },
   {
    "duration": 56,
    "start_time": "2022-01-15T12:58:00.068Z"
   },
   {
    "duration": 10,
    "start_time": "2022-01-15T12:58:00.128Z"
   },
   {
    "duration": 15,
    "start_time": "2022-01-15T12:58:00.141Z"
   },
   {
    "duration": 25,
    "start_time": "2022-01-15T12:58:00.158Z"
   },
   {
    "duration": 31,
    "start_time": "2022-01-15T12:58:00.186Z"
   },
   {
    "duration": 6,
    "start_time": "2022-01-15T12:58:00.219Z"
   },
   {
    "duration": 25,
    "start_time": "2022-01-15T12:58:00.227Z"
   },
   {
    "duration": 9,
    "start_time": "2022-01-15T12:58:00.255Z"
   },
   {
    "duration": 11,
    "start_time": "2022-01-15T12:58:00.266Z"
   },
   {
    "duration": 16,
    "start_time": "2022-01-15T12:58:00.279Z"
   },
   {
    "duration": 20,
    "start_time": "2022-01-15T12:58:00.297Z"
   },
   {
    "duration": 21,
    "start_time": "2022-01-15T12:58:00.320Z"
   },
   {
    "duration": 16,
    "start_time": "2022-01-15T12:58:00.344Z"
   },
   {
    "duration": 15,
    "start_time": "2022-01-15T12:58:00.363Z"
   },
   {
    "duration": 10,
    "start_time": "2022-01-15T12:58:00.381Z"
   },
   {
    "duration": 10,
    "start_time": "2022-01-15T12:58:00.393Z"
   },
   {
    "duration": 14,
    "start_time": "2022-01-15T12:58:00.405Z"
   },
   {
    "duration": 7,
    "start_time": "2022-01-15T12:58:00.422Z"
   },
   {
    "duration": 9,
    "start_time": "2022-01-15T12:58:00.435Z"
   },
   {
    "duration": 11,
    "start_time": "2022-01-15T12:58:00.448Z"
   },
   {
    "duration": 8,
    "start_time": "2022-01-15T12:58:00.461Z"
   },
   {
    "duration": 11,
    "start_time": "2022-01-15T12:58:00.471Z"
   },
   {
    "duration": 12,
    "start_time": "2022-01-15T12:58:00.485Z"
   },
   {
    "duration": 18,
    "start_time": "2022-01-15T12:58:00.516Z"
   },
   {
    "duration": 7,
    "start_time": "2022-01-15T12:58:00.536Z"
   },
   {
    "duration": 7,
    "start_time": "2022-01-15T12:58:00.545Z"
   },
   {
    "duration": 16,
    "start_time": "2022-01-15T12:58:00.555Z"
   },
   {
    "duration": 27,
    "start_time": "2022-01-15T12:58:00.573Z"
   },
   {
    "duration": 9,
    "start_time": "2022-01-15T12:58:00.602Z"
   },
   {
    "duration": 37,
    "start_time": "2022-01-15T12:58:00.613Z"
   },
   {
    "duration": 7,
    "start_time": "2022-01-15T12:58:00.653Z"
   },
   {
    "duration": 11,
    "start_time": "2022-01-15T12:58:00.662Z"
   },
   {
    "duration": 14,
    "start_time": "2022-01-15T12:58:00.676Z"
   },
   {
    "duration": 26,
    "start_time": "2022-01-15T12:58:00.693Z"
   },
   {
    "duration": 8,
    "start_time": "2022-01-15T12:58:00.721Z"
   },
   {
    "duration": 12,
    "start_time": "2022-01-15T12:58:00.731Z"
   },
   {
    "duration": 26,
    "start_time": "2022-01-15T12:58:00.746Z"
   },
   {
    "duration": 12,
    "start_time": "2022-01-15T12:58:00.774Z"
   },
   {
    "duration": 12,
    "start_time": "2022-01-15T12:58:00.788Z"
   },
   {
    "duration": 9,
    "start_time": "2022-01-15T12:58:00.802Z"
   },
   {
    "duration": 14,
    "start_time": "2022-01-15T12:58:00.813Z"
   },
   {
    "duration": 15,
    "start_time": "2022-01-15T12:58:00.829Z"
   },
   {
    "duration": 32,
    "start_time": "2022-01-15T12:58:00.846Z"
   },
   {
    "duration": 14,
    "start_time": "2022-01-15T12:58:00.880Z"
   },
   {
    "duration": 13,
    "start_time": "2022-01-15T12:58:00.897Z"
   },
   {
    "duration": 14,
    "start_time": "2022-01-15T12:58:00.913Z"
   },
   {
    "duration": 11,
    "start_time": "2022-01-15T12:58:00.930Z"
   },
   {
    "duration": 24,
    "start_time": "2022-01-15T12:58:00.943Z"
   },
   {
    "duration": 50,
    "start_time": "2022-01-15T12:58:00.970Z"
   },
   {
    "duration": 30,
    "start_time": "2022-01-15T12:58:01.024Z"
   },
   {
    "duration": 19,
    "start_time": "2022-01-15T12:58:01.057Z"
   },
   {
    "duration": 17,
    "start_time": "2022-01-15T12:58:01.079Z"
   },
   {
    "duration": 21,
    "start_time": "2022-01-15T12:58:01.099Z"
   },
   {
    "duration": 18,
    "start_time": "2022-01-15T12:58:01.123Z"
   },
   {
    "duration": 8,
    "start_time": "2022-01-15T12:58:01.146Z"
   },
   {
    "duration": 13,
    "start_time": "2022-01-15T12:58:01.157Z"
   },
   {
    "duration": 11,
    "start_time": "2022-01-15T12:58:01.172Z"
   },
   {
    "duration": 15,
    "start_time": "2022-01-15T12:58:01.185Z"
   },
   {
    "duration": 24,
    "start_time": "2022-01-15T12:58:01.202Z"
   },
   {
    "duration": 25,
    "start_time": "2022-01-15T12:58:01.228Z"
   },
   {
    "duration": 27,
    "start_time": "2022-01-15T12:58:01.256Z"
   },
   {
    "duration": 33,
    "start_time": "2022-01-15T12:58:01.285Z"
   },
   {
    "duration": 13,
    "start_time": "2022-01-15T12:58:01.320Z"
   },
   {
    "duration": 12,
    "start_time": "2022-01-15T12:58:01.336Z"
   },
   {
    "duration": 18,
    "start_time": "2022-01-15T12:58:01.350Z"
   },
   {
    "duration": 19,
    "start_time": "2022-01-15T12:58:01.370Z"
   },
   {
    "duration": 42,
    "start_time": "2022-01-15T12:58:01.392Z"
   },
   {
    "duration": 23,
    "start_time": "2022-01-15T12:58:01.436Z"
   },
   {
    "duration": 29,
    "start_time": "2022-01-15T12:58:01.461Z"
   },
   {
    "duration": 85,
    "start_time": "2022-01-15T12:59:27.487Z"
   },
   {
    "duration": 14,
    "start_time": "2022-01-15T12:59:33.304Z"
   },
   {
    "duration": 16,
    "start_time": "2022-01-15T13:02:26.201Z"
   },
   {
    "duration": 15,
    "start_time": "2022-01-15T13:03:03.356Z"
   },
   {
    "duration": 15,
    "start_time": "2022-01-15T13:04:31.224Z"
   },
   {
    "duration": 16,
    "start_time": "2022-01-15T13:04:31.889Z"
   },
   {
    "duration": 14,
    "start_time": "2022-01-15T13:04:32.688Z"
   },
   {
    "duration": 17,
    "start_time": "2022-01-15T13:04:33.481Z"
   },
   {
    "duration": 13,
    "start_time": "2022-01-15T13:04:39.245Z"
   },
   {
    "duration": 15,
    "start_time": "2022-01-15T13:04:40.503Z"
   },
   {
    "duration": 53,
    "start_time": "2022-01-15T13:04:50.903Z"
   },
   {
    "duration": 15,
    "start_time": "2022-01-15T13:04:50.959Z"
   },
   {
    "duration": 18,
    "start_time": "2022-01-15T13:04:50.977Z"
   },
   {
    "duration": 17,
    "start_time": "2022-01-15T13:04:51.017Z"
   },
   {
    "duration": 27,
    "start_time": "2022-01-15T13:04:51.037Z"
   },
   {
    "duration": 24,
    "start_time": "2022-01-15T13:04:51.067Z"
   },
   {
    "duration": 105,
    "start_time": "2022-01-15T13:04:51.093Z"
   },
   {
    "duration": 27,
    "start_time": "2022-01-15T13:04:51.200Z"
   },
   {
    "duration": 13,
    "start_time": "2022-01-15T13:04:51.231Z"
   },
   {
    "duration": 19,
    "start_time": "2022-01-15T13:04:51.247Z"
   },
   {
    "duration": 52,
    "start_time": "2022-01-15T13:04:51.268Z"
   },
   {
    "duration": 9,
    "start_time": "2022-01-15T13:04:51.323Z"
   },
   {
    "duration": 15,
    "start_time": "2022-01-15T13:04:51.335Z"
   },
   {
    "duration": 10,
    "start_time": "2022-01-15T13:04:51.352Z"
   },
   {
    "duration": 54,
    "start_time": "2022-01-15T13:04:51.365Z"
   },
   {
    "duration": 17,
    "start_time": "2022-01-15T13:04:51.421Z"
   },
   {
    "duration": 15,
    "start_time": "2022-01-15T13:04:51.440Z"
   },
   {
    "duration": 9,
    "start_time": "2022-01-15T13:04:51.458Z"
   },
   {
    "duration": 47,
    "start_time": "2022-01-15T13:04:51.470Z"
   },
   {
    "duration": 4,
    "start_time": "2022-01-15T13:04:51.520Z"
   },
   {
    "duration": 13,
    "start_time": "2022-01-15T13:04:51.526Z"
   },
   {
    "duration": 18,
    "start_time": "2022-01-15T13:04:51.541Z"
   },
   {
    "duration": 8,
    "start_time": "2022-01-15T13:04:51.562Z"
   },
   {
    "duration": 19,
    "start_time": "2022-01-15T13:04:51.572Z"
   },
   {
    "duration": 26,
    "start_time": "2022-01-15T13:04:51.594Z"
   },
   {
    "duration": 16,
    "start_time": "2022-01-15T13:04:51.622Z"
   },
   {
    "duration": 32,
    "start_time": "2022-01-15T13:04:51.645Z"
   },
   {
    "duration": 13,
    "start_time": "2022-01-15T13:04:51.681Z"
   },
   {
    "duration": 25,
    "start_time": "2022-01-15T13:04:51.697Z"
   },
   {
    "duration": 8,
    "start_time": "2022-01-15T13:04:51.725Z"
   },
   {
    "duration": 8,
    "start_time": "2022-01-15T13:04:51.735Z"
   },
   {
    "duration": 7,
    "start_time": "2022-01-15T13:04:51.745Z"
   },
   {
    "duration": 7,
    "start_time": "2022-01-15T13:04:51.754Z"
   },
   {
    "duration": 13,
    "start_time": "2022-01-15T13:04:51.763Z"
   },
   {
    "duration": 7,
    "start_time": "2022-01-15T13:04:51.778Z"
   },
   {
    "duration": 6,
    "start_time": "2022-01-15T13:04:51.787Z"
   },
   {
    "duration": 22,
    "start_time": "2022-01-15T13:04:51.795Z"
   },
   {
    "duration": 3,
    "start_time": "2022-01-15T13:04:51.819Z"
   },
   {
    "duration": 9,
    "start_time": "2022-01-15T13:04:51.824Z"
   },
   {
    "duration": 7,
    "start_time": "2022-01-15T13:04:51.836Z"
   },
   {
    "duration": 7,
    "start_time": "2022-01-15T13:04:51.845Z"
   },
   {
    "duration": 7,
    "start_time": "2022-01-15T13:04:51.855Z"
   },
   {
    "duration": 8,
    "start_time": "2022-01-15T13:04:51.864Z"
   },
   {
    "duration": 9,
    "start_time": "2022-01-15T13:04:51.874Z"
   },
   {
    "duration": 6,
    "start_time": "2022-01-15T13:04:51.886Z"
   },
   {
    "duration": 27,
    "start_time": "2022-01-15T13:04:51.894Z"
   },
   {
    "duration": 11,
    "start_time": "2022-01-15T13:04:51.924Z"
   },
   {
    "duration": 12,
    "start_time": "2022-01-15T13:04:51.937Z"
   },
   {
    "duration": 16,
    "start_time": "2022-01-15T13:04:51.952Z"
   },
   {
    "duration": 20,
    "start_time": "2022-01-15T13:04:51.970Z"
   },
   {
    "duration": 13,
    "start_time": "2022-01-15T13:04:51.993Z"
   },
   {
    "duration": 29,
    "start_time": "2022-01-15T13:04:52.008Z"
   },
   {
    "duration": 24,
    "start_time": "2022-01-15T13:04:52.040Z"
   },
   {
    "duration": 18,
    "start_time": "2022-01-15T13:04:52.068Z"
   },
   {
    "duration": 30,
    "start_time": "2022-01-15T13:04:52.088Z"
   },
   {
    "duration": 16,
    "start_time": "2022-01-15T13:04:52.120Z"
   },
   {
    "duration": 19,
    "start_time": "2022-01-15T13:04:52.138Z"
   },
   {
    "duration": 20,
    "start_time": "2022-01-15T13:04:52.160Z"
   },
   {
    "duration": 13,
    "start_time": "2022-01-15T13:04:52.182Z"
   },
   {
    "duration": 11,
    "start_time": "2022-01-15T13:04:52.197Z"
   },
   {
    "duration": 10,
    "start_time": "2022-01-15T13:04:52.211Z"
   },
   {
    "duration": 12,
    "start_time": "2022-01-15T13:04:52.224Z"
   },
   {
    "duration": 14,
    "start_time": "2022-01-15T13:04:52.238Z"
   },
   {
    "duration": 14,
    "start_time": "2022-01-15T13:04:52.255Z"
   },
   {
    "duration": 19,
    "start_time": "2022-01-15T13:04:52.272Z"
   },
   {
    "duration": 16,
    "start_time": "2022-01-15T13:04:52.294Z"
   },
   {
    "duration": 17,
    "start_time": "2022-01-15T13:04:52.312Z"
   },
   {
    "duration": 13,
    "start_time": "2022-01-15T13:04:52.332Z"
   },
   {
    "duration": 7,
    "start_time": "2022-01-15T13:04:52.347Z"
   },
   {
    "duration": 11,
    "start_time": "2022-01-15T13:04:52.357Z"
   },
   {
    "duration": 14,
    "start_time": "2022-01-15T13:04:52.372Z"
   },
   {
    "duration": 16,
    "start_time": "2022-01-15T13:04:52.389Z"
   },
   {
    "duration": 20,
    "start_time": "2022-01-15T13:04:52.407Z"
   },
   {
    "duration": 7,
    "start_time": "2022-01-15T13:04:52.430Z"
   },
   {
    "duration": 10,
    "start_time": "2022-01-15T13:04:52.439Z"
   },
   {
    "duration": 9,
    "start_time": "2022-01-15T13:04:52.452Z"
   },
   {
    "duration": 11,
    "start_time": "2022-01-15T13:04:52.464Z"
   },
   {
    "duration": 12,
    "start_time": "2022-01-15T13:04:52.478Z"
   },
   {
    "duration": 13,
    "start_time": "2022-01-15T13:04:52.492Z"
   },
   {
    "duration": 8,
    "start_time": "2022-01-15T13:04:52.508Z"
   },
   {
    "duration": 3,
    "start_time": "2022-01-15T13:04:52.524Z"
   },
   {
    "duration": 14,
    "start_time": "2022-01-15T13:04:52.530Z"
   },
   {
    "duration": 17,
    "start_time": "2022-01-15T13:04:52.546Z"
   },
   {
    "duration": 5,
    "start_time": "2022-01-15T13:12:13.285Z"
   },
   {
    "duration": 5,
    "start_time": "2022-01-15T13:12:42.014Z"
   },
   {
    "duration": 8,
    "start_time": "2022-01-15T13:13:48.106Z"
   },
   {
    "duration": 6,
    "start_time": "2022-01-15T13:14:12.326Z"
   },
   {
    "duration": 10,
    "start_time": "2022-01-15T13:14:28.837Z"
   },
   {
    "duration": 7,
    "start_time": "2022-01-15T13:15:33.305Z"
   },
   {
    "duration": 8,
    "start_time": "2022-01-15T13:17:45.211Z"
   },
   {
    "duration": 8,
    "start_time": "2022-01-15T13:19:08.257Z"
   },
   {
    "duration": 54,
    "start_time": "2022-01-15T13:20:03.063Z"
   },
   {
    "duration": 15,
    "start_time": "2022-01-15T13:20:03.119Z"
   },
   {
    "duration": 17,
    "start_time": "2022-01-15T13:20:03.137Z"
   },
   {
    "duration": 17,
    "start_time": "2022-01-15T13:20:03.157Z"
   },
   {
    "duration": 54,
    "start_time": "2022-01-15T13:20:03.177Z"
   },
   {
    "duration": 14,
    "start_time": "2022-01-15T13:20:03.234Z"
   },
   {
    "duration": 103,
    "start_time": "2022-01-15T13:20:03.251Z"
   },
   {
    "duration": 13,
    "start_time": "2022-01-15T13:20:03.356Z"
   },
   {
    "duration": 47,
    "start_time": "2022-01-15T13:20:03.373Z"
   },
   {
    "duration": 15,
    "start_time": "2022-01-15T13:20:03.424Z"
   },
   {
    "duration": 16,
    "start_time": "2022-01-15T13:20:03.441Z"
   },
   {
    "duration": 9,
    "start_time": "2022-01-15T13:20:03.459Z"
   },
   {
    "duration": 57,
    "start_time": "2022-01-15T13:20:03.470Z"
   },
   {
    "duration": 10,
    "start_time": "2022-01-15T13:20:03.530Z"
   },
   {
    "duration": 13,
    "start_time": "2022-01-15T13:20:03.542Z"
   },
   {
    "duration": 9,
    "start_time": "2022-01-15T13:20:03.558Z"
   },
   {
    "duration": 57,
    "start_time": "2022-01-15T13:20:03.570Z"
   },
   {
    "duration": 8,
    "start_time": "2022-01-15T13:20:03.630Z"
   },
   {
    "duration": 20,
    "start_time": "2022-01-15T13:20:03.641Z"
   },
   {
    "duration": 6,
    "start_time": "2022-01-15T13:20:03.663Z"
   },
   {
    "duration": 50,
    "start_time": "2022-01-15T13:20:03.671Z"
   },
   {
    "duration": 7,
    "start_time": "2022-01-15T13:20:03.723Z"
   },
   {
    "duration": 10,
    "start_time": "2022-01-15T13:20:03.732Z"
   },
   {
    "duration": 9,
    "start_time": "2022-01-15T13:20:03.745Z"
   },
   {
    "duration": 5,
    "start_time": "2022-01-15T13:20:03.757Z"
   },
   {
    "duration": 6,
    "start_time": "2022-01-15T13:20:03.764Z"
   },
   {
    "duration": 50,
    "start_time": "2022-01-15T13:20:03.777Z"
   },
   {
    "duration": 15,
    "start_time": "2022-01-15T13:20:03.831Z"
   },
   {
    "duration": 13,
    "start_time": "2022-01-15T13:20:03.849Z"
   },
   {
    "duration": 23,
    "start_time": "2022-01-15T13:20:03.864Z"
   },
   {
    "duration": 40,
    "start_time": "2022-01-15T13:20:03.890Z"
   },
   {
    "duration": 15,
    "start_time": "2022-01-15T13:20:03.932Z"
   },
   {
    "duration": 4,
    "start_time": "2022-01-15T13:20:03.949Z"
   },
   {
    "duration": 7,
    "start_time": "2022-01-15T13:20:03.956Z"
   },
   {
    "duration": 5,
    "start_time": "2022-01-15T13:20:03.965Z"
   },
   {
    "duration": 6,
    "start_time": "2022-01-15T13:20:03.972Z"
   },
   {
    "duration": 5,
    "start_time": "2022-01-15T13:20:03.981Z"
   },
   {
    "duration": 12,
    "start_time": "2022-01-15T13:20:04.018Z"
   },
   {
    "duration": 9,
    "start_time": "2022-01-15T13:20:04.033Z"
   },
   {
    "duration": 5,
    "start_time": "2022-01-15T13:20:04.044Z"
   },
   {
    "duration": 5,
    "start_time": "2022-01-15T13:20:04.051Z"
   },
   {
    "duration": 5,
    "start_time": "2022-01-15T13:20:04.059Z"
   },
   {
    "duration": 6,
    "start_time": "2022-01-15T13:20:04.066Z"
   },
   {
    "duration": 6,
    "start_time": "2022-01-15T13:20:04.074Z"
   },
   {
    "duration": 35,
    "start_time": "2022-01-15T13:20:04.082Z"
   },
   {
    "duration": 5,
    "start_time": "2022-01-15T13:20:04.120Z"
   },
   {
    "duration": 6,
    "start_time": "2022-01-15T13:20:04.127Z"
   },
   {
    "duration": 5,
    "start_time": "2022-01-15T13:20:04.135Z"
   },
   {
    "duration": 7,
    "start_time": "2022-01-15T13:20:04.142Z"
   },
   {
    "duration": 6,
    "start_time": "2022-01-15T13:20:04.151Z"
   },
   {
    "duration": 5,
    "start_time": "2022-01-15T13:20:04.159Z"
   },
   {
    "duration": 4,
    "start_time": "2022-01-15T13:20:04.166Z"
   },
   {
    "duration": 5,
    "start_time": "2022-01-15T13:20:04.173Z"
   },
   {
    "duration": 3,
    "start_time": "2022-01-15T13:20:04.218Z"
   },
   {
    "duration": 5,
    "start_time": "2022-01-15T13:20:04.224Z"
   },
   {
    "duration": 8,
    "start_time": "2022-01-15T13:20:04.231Z"
   },
   {
    "duration": 6,
    "start_time": "2022-01-15T13:20:04.241Z"
   },
   {
    "duration": 8,
    "start_time": "2022-01-15T13:20:04.249Z"
   },
   {
    "duration": 6,
    "start_time": "2022-01-15T13:20:04.259Z"
   },
   {
    "duration": 5,
    "start_time": "2022-01-15T13:20:04.267Z"
   },
   {
    "duration": 43,
    "start_time": "2022-01-15T13:20:04.274Z"
   },
   {
    "duration": 6,
    "start_time": "2022-01-15T13:20:04.320Z"
   },
   {
    "duration": 11,
    "start_time": "2022-01-15T13:20:04.329Z"
   },
   {
    "duration": 4,
    "start_time": "2022-01-15T13:20:04.343Z"
   },
   {
    "duration": 4,
    "start_time": "2022-01-15T13:20:04.350Z"
   },
   {
    "duration": 5,
    "start_time": "2022-01-15T13:20:04.357Z"
   },
   {
    "duration": 5,
    "start_time": "2022-01-15T13:20:04.365Z"
   },
   {
    "duration": 46,
    "start_time": "2022-01-15T13:20:04.372Z"
   },
   {
    "duration": 5,
    "start_time": "2022-01-15T13:20:04.421Z"
   },
   {
    "duration": 7,
    "start_time": "2022-01-15T13:20:04.429Z"
   },
   {
    "duration": 6,
    "start_time": "2022-01-15T13:20:04.438Z"
   },
   {
    "duration": 9,
    "start_time": "2022-01-15T13:20:04.446Z"
   },
   {
    "duration": 5,
    "start_time": "2022-01-15T13:20:04.458Z"
   },
   {
    "duration": 6,
    "start_time": "2022-01-15T13:20:04.465Z"
   },
   {
    "duration": 5,
    "start_time": "2022-01-15T13:20:04.474Z"
   },
   {
    "duration": 36,
    "start_time": "2022-01-15T13:20:04.481Z"
   },
   {
    "duration": 5,
    "start_time": "2022-01-15T13:20:04.520Z"
   },
   {
    "duration": 7,
    "start_time": "2022-01-15T13:20:04.528Z"
   },
   {
    "duration": 6,
    "start_time": "2022-01-15T13:20:04.537Z"
   },
   {
    "duration": 5,
    "start_time": "2022-01-15T13:20:04.545Z"
   },
   {
    "duration": 3,
    "start_time": "2022-01-15T13:20:04.558Z"
   },
   {
    "duration": 7,
    "start_time": "2022-01-15T13:20:04.563Z"
   },
   {
    "duration": 7,
    "start_time": "2022-01-15T13:20:04.572Z"
   },
   {
    "duration": 4,
    "start_time": "2022-01-15T13:20:04.618Z"
   },
   {
    "duration": 18,
    "start_time": "2022-01-15T13:20:04.625Z"
   },
   {
    "duration": 6,
    "start_time": "2022-01-15T13:20:04.646Z"
   },
   {
    "duration": 8,
    "start_time": "2022-01-15T13:21:27.887Z"
   },
   {
    "duration": 8,
    "start_time": "2022-01-15T13:23:17.929Z"
   },
   {
    "duration": 279,
    "start_time": "2022-01-15T13:27:36.989Z"
   },
   {
    "duration": 7,
    "start_time": "2022-01-15T13:27:53.739Z"
   },
   {
    "duration": 253,
    "start_time": "2022-01-15T13:29:06.579Z"
   },
   {
    "duration": 6,
    "start_time": "2022-01-15T13:29:24.354Z"
   },
   {
    "duration": 9,
    "start_time": "2022-01-15T13:29:52.166Z"
   },
   {
    "duration": 265,
    "start_time": "2022-01-15T13:44:43.982Z"
   },
   {
    "duration": 356,
    "start_time": "2022-01-15T13:44:58.427Z"
   },
   {
    "duration": 249,
    "start_time": "2022-01-15T13:45:44.143Z"
   },
   {
    "duration": 8,
    "start_time": "2022-01-15T13:45:49.718Z"
   },
   {
    "duration": 307,
    "start_time": "2022-01-15T13:45:51.797Z"
   },
   {
    "duration": 78,
    "start_time": "2022-01-15T13:46:22.629Z"
   },
   {
    "duration": 18,
    "start_time": "2022-01-15T13:46:22.710Z"
   },
   {
    "duration": 24,
    "start_time": "2022-01-15T13:46:22.731Z"
   },
   {
    "duration": 67,
    "start_time": "2022-01-15T13:46:22.759Z"
   },
   {
    "duration": 21,
    "start_time": "2022-01-15T13:46:22.830Z"
   },
   {
    "duration": 14,
    "start_time": "2022-01-15T13:46:22.854Z"
   },
   {
    "duration": 120,
    "start_time": "2022-01-15T13:46:22.871Z"
   },
   {
    "duration": 42,
    "start_time": "2022-01-15T13:46:22.994Z"
   },
   {
    "duration": 16,
    "start_time": "2022-01-15T13:46:23.043Z"
   },
   {
    "duration": 59,
    "start_time": "2022-01-15T13:46:23.064Z"
   },
   {
    "duration": 12,
    "start_time": "2022-01-15T13:46:23.126Z"
   },
   {
    "duration": 17,
    "start_time": "2022-01-15T13:46:23.141Z"
   },
   {
    "duration": 57,
    "start_time": "2022-01-15T13:46:23.161Z"
   },
   {
    "duration": 11,
    "start_time": "2022-01-15T13:46:23.221Z"
   },
   {
    "duration": 15,
    "start_time": "2022-01-15T13:46:23.234Z"
   },
   {
    "duration": 10,
    "start_time": "2022-01-15T13:46:23.251Z"
   },
   {
    "duration": 16,
    "start_time": "2022-01-15T13:46:23.264Z"
   },
   {
    "duration": 37,
    "start_time": "2022-01-15T13:46:23.282Z"
   },
   {
    "duration": 22,
    "start_time": "2022-01-15T13:46:23.322Z"
   },
   {
    "duration": 12,
    "start_time": "2022-01-15T13:46:23.347Z"
   },
   {
    "duration": 9,
    "start_time": "2022-01-15T13:46:23.361Z"
   },
   {
    "duration": 12,
    "start_time": "2022-01-15T13:46:23.372Z"
   },
   {
    "duration": 10,
    "start_time": "2022-01-15T13:46:23.386Z"
   },
   {
    "duration": 28,
    "start_time": "2022-01-15T13:46:23.398Z"
   },
   {
    "duration": 6,
    "start_time": "2022-01-15T13:46:23.429Z"
   },
   {
    "duration": 8,
    "start_time": "2022-01-15T13:46:23.439Z"
   },
   {
    "duration": 8,
    "start_time": "2022-01-15T13:46:23.455Z"
   },
   {
    "duration": 61,
    "start_time": "2022-01-15T13:46:23.467Z"
   },
   {
    "duration": 14,
    "start_time": "2022-01-15T13:46:23.531Z"
   },
   {
    "duration": 14,
    "start_time": "2022-01-15T13:46:23.548Z"
   },
   {
    "duration": 21,
    "start_time": "2022-01-15T13:46:23.565Z"
   },
   {
    "duration": 14,
    "start_time": "2022-01-15T13:46:23.618Z"
   },
   {
    "duration": 16,
    "start_time": "2022-01-15T13:46:23.635Z"
   },
   {
    "duration": 12,
    "start_time": "2022-01-15T13:46:23.654Z"
   },
   {
    "duration": 6,
    "start_time": "2022-01-15T13:46:23.669Z"
   },
   {
    "duration": 43,
    "start_time": "2022-01-15T13:46:23.678Z"
   },
   {
    "duration": 12,
    "start_time": "2022-01-15T13:46:23.724Z"
   },
   {
    "duration": 277,
    "start_time": "2022-01-15T13:46:23.739Z"
   },
   {
    "duration": -370,
    "start_time": "2022-01-15T13:46:24.390Z"
   },
   {
    "duration": -372,
    "start_time": "2022-01-15T13:46:24.394Z"
   },
   {
    "duration": -373,
    "start_time": "2022-01-15T13:46:24.397Z"
   },
   {
    "duration": -377,
    "start_time": "2022-01-15T13:46:24.403Z"
   },
   {
    "duration": -378,
    "start_time": "2022-01-15T13:46:24.406Z"
   },
   {
    "duration": -378,
    "start_time": "2022-01-15T13:46:24.409Z"
   },
   {
    "duration": -378,
    "start_time": "2022-01-15T13:46:24.411Z"
   },
   {
    "duration": -378,
    "start_time": "2022-01-15T13:46:24.414Z"
   },
   {
    "duration": -380,
    "start_time": "2022-01-15T13:46:24.417Z"
   },
   {
    "duration": -381,
    "start_time": "2022-01-15T13:46:24.420Z"
   },
   {
    "duration": -383,
    "start_time": "2022-01-15T13:46:24.423Z"
   },
   {
    "duration": -385,
    "start_time": "2022-01-15T13:46:24.426Z"
   },
   {
    "duration": -385,
    "start_time": "2022-01-15T13:46:24.428Z"
   },
   {
    "duration": -392,
    "start_time": "2022-01-15T13:46:24.437Z"
   },
   {
    "duration": -393,
    "start_time": "2022-01-15T13:46:24.439Z"
   },
   {
    "duration": -394,
    "start_time": "2022-01-15T13:46:24.442Z"
   },
   {
    "duration": -413,
    "start_time": "2022-01-15T13:46:24.462Z"
   },
   {
    "duration": -416,
    "start_time": "2022-01-15T13:46:24.466Z"
   },
   {
    "duration": -425,
    "start_time": "2022-01-15T13:46:24.476Z"
   },
   {
    "duration": -426,
    "start_time": "2022-01-15T13:46:24.479Z"
   },
   {
    "duration": -429,
    "start_time": "2022-01-15T13:46:24.483Z"
   },
   {
    "duration": -431,
    "start_time": "2022-01-15T13:46:24.486Z"
   },
   {
    "duration": -433,
    "start_time": "2022-01-15T13:46:24.489Z"
   },
   {
    "duration": -434,
    "start_time": "2022-01-15T13:46:24.492Z"
   },
   {
    "duration": -445,
    "start_time": "2022-01-15T13:46:24.504Z"
   },
   {
    "duration": -446,
    "start_time": "2022-01-15T13:46:24.507Z"
   },
   {
    "duration": -454,
    "start_time": "2022-01-15T13:46:24.516Z"
   },
   {
    "duration": -401,
    "start_time": "2022-01-15T13:46:24.519Z"
   },
   {
    "duration": -403,
    "start_time": "2022-01-15T13:46:24.522Z"
   },
   {
    "duration": -410,
    "start_time": "2022-01-15T13:46:24.531Z"
   },
   {
    "duration": -412,
    "start_time": "2022-01-15T13:46:24.534Z"
   },
   {
    "duration": -434,
    "start_time": "2022-01-15T13:46:24.557Z"
   },
   {
    "duration": -435,
    "start_time": "2022-01-15T13:46:24.560Z"
   },
   {
    "duration": -437,
    "start_time": "2022-01-15T13:46:24.563Z"
   },
   {
    "duration": -522,
    "start_time": "2022-01-15T13:46:24.649Z"
   },
   {
    "duration": -529,
    "start_time": "2022-01-15T13:46:24.658Z"
   },
   {
    "duration": -594,
    "start_time": "2022-01-15T13:46:24.724Z"
   },
   {
    "duration": -608,
    "start_time": "2022-01-15T13:46:24.740Z"
   },
   {
    "duration": -610,
    "start_time": "2022-01-15T13:46:24.743Z"
   },
   {
    "duration": -610,
    "start_time": "2022-01-15T13:46:24.745Z"
   },
   {
    "duration": -612,
    "start_time": "2022-01-15T13:46:24.748Z"
   },
   {
    "duration": -614,
    "start_time": "2022-01-15T13:46:24.751Z"
   },
   {
    "duration": -615,
    "start_time": "2022-01-15T13:46:24.753Z"
   },
   {
    "duration": -617,
    "start_time": "2022-01-15T13:46:24.757Z"
   },
   {
    "duration": -618,
    "start_time": "2022-01-15T13:46:24.759Z"
   },
   {
    "duration": -619,
    "start_time": "2022-01-15T13:46:24.762Z"
   },
   {
    "duration": -621,
    "start_time": "2022-01-15T13:46:24.765Z"
   },
   {
    "duration": -622,
    "start_time": "2022-01-15T13:46:24.768Z"
   },
   {
    "duration": -623,
    "start_time": "2022-01-15T13:46:24.770Z"
   },
   {
    "duration": -625,
    "start_time": "2022-01-15T13:46:24.773Z"
   },
   {
    "duration": -625,
    "start_time": "2022-01-15T13:46:24.775Z"
   },
   {
    "duration": 254,
    "start_time": "2022-01-15T13:47:07.461Z"
   },
   {
    "duration": 264,
    "start_time": "2022-01-15T13:47:29.272Z"
   },
   {
    "duration": 11,
    "start_time": "2022-01-15T13:48:13.574Z"
   },
   {
    "duration": 89,
    "start_time": "2022-01-15T13:51:36.307Z"
   },
   {
    "duration": 251,
    "start_time": "2022-01-15T14:05:05.229Z"
   },
   {
    "duration": 7081,
    "start_time": "2022-01-15T14:05:26.114Z"
   },
   {
    "duration": -484,
    "start_time": "2022-01-15T14:05:33.682Z"
   },
   {
    "duration": 7410,
    "start_time": "2022-01-15T14:05:33.922Z"
   },
   {
    "duration": 8,
    "start_time": "2022-01-15T14:05:44.863Z"
   },
   {
    "duration": 10,
    "start_time": "2022-01-15T14:05:47.853Z"
   },
   {
    "duration": 8462,
    "start_time": "2022-01-15T14:05:52.333Z"
   },
   {
    "duration": 6624,
    "start_time": "2022-01-15T14:06:03.325Z"
   },
   {
    "duration": 7197,
    "start_time": "2022-01-15T14:06:24.804Z"
   },
   {
    "duration": 10,
    "start_time": "2022-01-15T14:06:32.143Z"
   },
   {
    "duration": 10,
    "start_time": "2022-01-15T14:06:42.447Z"
   },
   {
    "duration": 6749,
    "start_time": "2022-01-15T14:06:44.555Z"
   },
   {
    "duration": 11,
    "start_time": "2022-01-15T14:07:25.511Z"
   },
   {
    "duration": 15,
    "start_time": "2022-01-15T14:07:47.149Z"
   },
   {
    "duration": 22,
    "start_time": "2022-01-15T14:08:11.159Z"
   },
   {
    "duration": 11,
    "start_time": "2022-01-15T14:08:18.619Z"
   },
   {
    "duration": 268,
    "start_time": "2022-01-15T14:08:50.779Z"
   },
   {
    "duration": 13,
    "start_time": "2022-01-15T14:09:12.418Z"
   },
   {
    "duration": 11,
    "start_time": "2022-01-15T14:25:59.603Z"
   },
   {
    "duration": 247,
    "start_time": "2022-01-15T14:29:41.192Z"
   },
   {
    "duration": 272,
    "start_time": "2022-01-15T14:30:02.565Z"
   },
   {
    "duration": 12,
    "start_time": "2022-01-15T14:30:31.480Z"
   },
   {
    "duration": 6,
    "start_time": "2022-01-15T14:31:03.942Z"
   },
   {
    "duration": 255,
    "start_time": "2022-01-15T14:31:40.218Z"
   },
   {
    "duration": 5,
    "start_time": "2022-01-15T14:32:01.077Z"
   },
   {
    "duration": 257,
    "start_time": "2022-01-15T14:32:37.877Z"
   },
   {
    "duration": 23,
    "start_time": "2022-01-15T14:32:53.893Z"
   },
   {
    "duration": 154,
    "start_time": "2022-01-15T14:33:55.424Z"
   },
   {
    "duration": 23,
    "start_time": "2022-01-15T14:35:02.331Z"
   },
   {
    "duration": 5,
    "start_time": "2022-01-15T14:35:15.744Z"
   },
   {
    "duration": 11,
    "start_time": "2022-01-15T14:36:14.140Z"
   },
   {
    "duration": 7,
    "start_time": "2022-01-15T14:41:15.706Z"
   },
   {
    "duration": 93,
    "start_time": "2022-01-15T14:45:20.068Z"
   },
   {
    "duration": 259,
    "start_time": "2022-01-15T14:45:42.528Z"
   },
   {
    "duration": 305,
    "start_time": "2022-01-15T14:46:06.667Z"
   },
   {
    "duration": 1254,
    "start_time": "2022-01-15T14:46:39.047Z"
   },
   {
    "duration": 289,
    "start_time": "2022-01-15T14:47:20.870Z"
   },
   {
    "duration": 279,
    "start_time": "2022-01-15T14:48:24.020Z"
   },
   {
    "duration": 304,
    "start_time": "2022-01-15T14:48:30.213Z"
   },
   {
    "duration": 254,
    "start_time": "2022-01-15T14:48:45.848Z"
   },
   {
    "duration": 297,
    "start_time": "2022-01-15T14:48:54.221Z"
   },
   {
    "duration": 1255,
    "start_time": "2022-01-15T14:49:20.817Z"
   },
   {
    "duration": 1177,
    "start_time": "2022-01-15T14:51:41.181Z"
   },
   {
    "duration": 1500,
    "start_time": "2022-01-15T14:52:47.341Z"
   },
   {
    "duration": 1528,
    "start_time": "2022-01-15T14:54:18.670Z"
   },
   {
    "duration": 15,
    "start_time": "2022-01-15T14:54:20.201Z"
   },
   {
    "duration": 25,
    "start_time": "2022-01-15T14:54:20.219Z"
   },
   {
    "duration": 17,
    "start_time": "2022-01-15T14:54:20.247Z"
   },
   {
    "duration": 19,
    "start_time": "2022-01-15T14:54:20.266Z"
   },
   {
    "duration": 41,
    "start_time": "2022-01-15T14:54:20.287Z"
   },
   {
    "duration": 90,
    "start_time": "2022-01-15T14:54:20.330Z"
   },
   {
    "duration": 12,
    "start_time": "2022-01-15T14:54:20.424Z"
   },
   {
    "duration": 15,
    "start_time": "2022-01-15T14:54:20.439Z"
   },
   {
    "duration": 15,
    "start_time": "2022-01-15T14:54:20.457Z"
   },
   {
    "duration": 49,
    "start_time": "2022-01-15T14:54:20.474Z"
   },
   {
    "duration": 10,
    "start_time": "2022-01-15T14:54:20.526Z"
   },
   {
    "duration": 15,
    "start_time": "2022-01-15T14:54:20.538Z"
   },
   {
    "duration": 10,
    "start_time": "2022-01-15T14:54:20.556Z"
   },
   {
    "duration": 51,
    "start_time": "2022-01-15T14:54:20.569Z"
   },
   {
    "duration": 14,
    "start_time": "2022-01-15T14:54:20.622Z"
   },
   {
    "duration": 11,
    "start_time": "2022-01-15T14:54:20.639Z"
   },
   {
    "duration": 6,
    "start_time": "2022-01-15T14:54:20.652Z"
   },
   {
    "duration": 22,
    "start_time": "2022-01-15T14:54:20.661Z"
   },
   {
    "duration": 34,
    "start_time": "2022-01-15T14:54:20.685Z"
   },
   {
    "duration": 8,
    "start_time": "2022-01-15T14:54:20.722Z"
   },
   {
    "duration": 5,
    "start_time": "2022-01-15T14:54:20.732Z"
   },
   {
    "duration": 5,
    "start_time": "2022-01-15T14:54:20.744Z"
   },
   {
    "duration": 11,
    "start_time": "2022-01-15T14:54:20.752Z"
   },
   {
    "duration": 5,
    "start_time": "2022-01-15T14:54:20.766Z"
   },
   {
    "duration": 5,
    "start_time": "2022-01-15T14:54:20.817Z"
   },
   {
    "duration": 24,
    "start_time": "2022-01-15T14:54:20.824Z"
   },
   {
    "duration": 12,
    "start_time": "2022-01-15T14:54:20.851Z"
   },
   {
    "duration": 14,
    "start_time": "2022-01-15T14:54:20.865Z"
   },
   {
    "duration": 39,
    "start_time": "2022-01-15T14:54:20.882Z"
   },
   {
    "duration": 18,
    "start_time": "2022-01-15T14:54:20.924Z"
   },
   {
    "duration": 27,
    "start_time": "2022-01-15T14:54:20.945Z"
   },
   {
    "duration": 42,
    "start_time": "2022-01-15T14:54:20.976Z"
   },
   {
    "duration": 9,
    "start_time": "2022-01-15T14:54:21.021Z"
   },
   {
    "duration": 7,
    "start_time": "2022-01-15T14:54:21.032Z"
   },
   {
    "duration": 6,
    "start_time": "2022-01-15T14:54:21.041Z"
   },
   {
    "duration": 9,
    "start_time": "2022-01-15T14:54:21.049Z"
   },
   {
    "duration": 10,
    "start_time": "2022-01-15T14:54:21.061Z"
   },
   {
    "duration": 10,
    "start_time": "2022-01-15T14:54:21.117Z"
   },
   {
    "duration": 12,
    "start_time": "2022-01-15T14:54:21.129Z"
   },
   {
    "duration": 13,
    "start_time": "2022-01-15T14:54:21.143Z"
   },
   {
    "duration": 11,
    "start_time": "2022-01-15T14:54:21.159Z"
   },
   {
    "duration": 47,
    "start_time": "2022-01-15T14:54:21.172Z"
   },
   {
    "duration": 5,
    "start_time": "2022-01-15T14:54:21.222Z"
   },
   {
    "duration": 23,
    "start_time": "2022-01-15T14:54:21.229Z"
   },
   {
    "duration": 188,
    "start_time": "2022-01-15T14:54:21.255Z"
   },
   {
    "duration": 27,
    "start_time": "2022-01-15T14:54:21.445Z"
   },
   {
    "duration": 7,
    "start_time": "2022-01-15T14:54:21.474Z"
   },
   {
    "duration": 40,
    "start_time": "2022-01-15T14:54:21.483Z"
   },
   {
    "duration": 10,
    "start_time": "2022-01-15T14:54:21.526Z"
   },
   {
    "duration": 1295,
    "start_time": "2022-01-15T14:54:21.538Z"
   },
   {
    "duration": -521,
    "start_time": "2022-01-15T14:54:23.357Z"
   },
   {
    "duration": -522,
    "start_time": "2022-01-15T14:54:23.360Z"
   },
   {
    "duration": -523,
    "start_time": "2022-01-15T14:54:23.363Z"
   },
   {
    "duration": -523,
    "start_time": "2022-01-15T14:54:23.365Z"
   },
   {
    "duration": -524,
    "start_time": "2022-01-15T14:54:23.368Z"
   },
   {
    "duration": -525,
    "start_time": "2022-01-15T14:54:23.370Z"
   },
   {
    "duration": -525,
    "start_time": "2022-01-15T14:54:23.372Z"
   },
   {
    "duration": -525,
    "start_time": "2022-01-15T14:54:23.374Z"
   },
   {
    "duration": -525,
    "start_time": "2022-01-15T14:54:23.376Z"
   },
   {
    "duration": -525,
    "start_time": "2022-01-15T14:54:23.378Z"
   },
   {
    "duration": -526,
    "start_time": "2022-01-15T14:54:23.381Z"
   },
   {
    "duration": -526,
    "start_time": "2022-01-15T14:54:23.383Z"
   },
   {
    "duration": -527,
    "start_time": "2022-01-15T14:54:23.385Z"
   },
   {
    "duration": 1161,
    "start_time": "2022-01-15T14:54:56.619Z"
   },
   {
    "duration": 1240,
    "start_time": "2022-01-15T14:56:13.769Z"
   },
   {
    "duration": 5367,
    "start_time": "2022-01-15T14:57:14.373Z"
   },
   {
    "duration": 6207,
    "start_time": "2022-01-15T14:58:19.200Z"
   },
   {
    "duration": 4282,
    "start_time": "2022-01-15T14:59:00.686Z"
   },
   {
    "duration": 4333,
    "start_time": "2022-01-15T14:59:49.803Z"
   },
   {
    "duration": 3618,
    "start_time": "2022-01-15T15:00:14.129Z"
   },
   {
    "duration": 3736,
    "start_time": "2022-01-15T15:00:31.018Z"
   },
   {
    "duration": 9,
    "start_time": "2022-01-15T15:00:37.195Z"
   },
   {
    "duration": 19,
    "start_time": "2022-01-15T15:34:29.272Z"
   },
   {
    "duration": 257,
    "start_time": "2022-01-15T15:35:37.012Z"
   },
   {
    "duration": 17,
    "start_time": "2022-01-15T15:36:23.694Z"
   },
   {
    "duration": 16,
    "start_time": "2022-01-15T15:36:34.244Z"
   },
   {
    "duration": 263,
    "start_time": "2022-01-15T15:41:24.966Z"
   },
   {
    "duration": 1283,
    "start_time": "2022-01-15T15:41:45.928Z"
   },
   {
    "duration": 84,
    "start_time": "2022-01-15T15:42:19.721Z"
   },
   {
    "duration": 88,
    "start_time": "2022-01-15T15:42:57.680Z"
   },
   {
    "duration": 1301,
    "start_time": "2022-01-15T15:43:05.600Z"
   },
   {
    "duration": 15,
    "start_time": "2022-01-15T15:43:55.633Z"
   },
   {
    "duration": 1315,
    "start_time": "2022-01-15T15:43:57.408Z"
   },
   {
    "duration": 88,
    "start_time": "2022-01-15T15:44:42.616Z"
   },
   {
    "duration": 92,
    "start_time": "2022-01-15T15:44:51.178Z"
   },
   {
    "duration": 178,
    "start_time": "2022-01-15T15:44:56.538Z"
   },
   {
    "duration": 1825,
    "start_time": "2022-01-15T15:45:01.581Z"
   },
   {
    "duration": 1999,
    "start_time": "2022-01-15T15:45:11.893Z"
   },
   {
    "duration": 19,
    "start_time": "2022-01-15T15:45:38.319Z"
   },
   {
    "duration": 19,
    "start_time": "2022-01-15T15:47:39.321Z"
   },
   {
    "duration": 479,
    "start_time": "2022-01-15T15:47:40.731Z"
   },
   {
    "duration": 11,
    "start_time": "2022-01-15T15:47:57.184Z"
   },
   {
    "duration": 13,
    "start_time": "2022-01-15T15:48:09.079Z"
   },
   {
    "duration": 1381,
    "start_time": "2022-01-15T15:49:28.919Z"
   },
   {
    "duration": 1303,
    "start_time": "2022-01-15T15:49:39.142Z"
   },
   {
    "duration": 14,
    "start_time": "2022-01-15T15:50:53.233Z"
   },
   {
    "duration": 17,
    "start_time": "2022-01-15T15:51:03.189Z"
   },
   {
    "duration": 14,
    "start_time": "2022-01-15T15:51:05.636Z"
   },
   {
    "duration": 10,
    "start_time": "2022-01-15T15:51:07.310Z"
   },
   {
    "duration": 13,
    "start_time": "2022-01-15T15:51:09.338Z"
   },
   {
    "duration": 86,
    "start_time": "2022-01-15T15:52:34.715Z"
   },
   {
    "duration": 11,
    "start_time": "2022-01-15T15:53:18.169Z"
   },
   {
    "duration": 13,
    "start_time": "2022-01-15T15:53:22.975Z"
   },
   {
    "duration": 116,
    "start_time": "2022-01-15T15:54:50.163Z"
   },
   {
    "duration": 10,
    "start_time": "2022-01-15T15:55:00.314Z"
   },
   {
    "duration": 14,
    "start_time": "2022-01-15T15:55:06.694Z"
   },
   {
    "duration": 11,
    "start_time": "2022-01-15T15:55:08.517Z"
   },
   {
    "duration": 13,
    "start_time": "2022-01-15T15:55:09.924Z"
   },
   {
    "duration": 15,
    "start_time": "2022-01-15T15:56:16.296Z"
   },
   {
    "duration": 11,
    "start_time": "2022-01-15T15:56:17.395Z"
   },
   {
    "duration": 14,
    "start_time": "2022-01-15T15:56:18.135Z"
   },
   {
    "duration": 11,
    "start_time": "2022-01-15T15:56:41.760Z"
   },
   {
    "duration": 15,
    "start_time": "2022-01-15T15:56:43.819Z"
   },
   {
    "duration": 16,
    "start_time": "2022-01-15T15:58:36.098Z"
   },
   {
    "duration": 16,
    "start_time": "2022-01-15T15:58:37.174Z"
   },
   {
    "duration": 13,
    "start_time": "2022-01-15T15:58:37.960Z"
   },
   {
    "duration": 10,
    "start_time": "2022-01-15T15:58:39.338Z"
   },
   {
    "duration": 6,
    "start_time": "2022-01-15T15:58:40.452Z"
   },
   {
    "duration": 10,
    "start_time": "2022-01-15T15:58:41.658Z"
   },
   {
    "duration": 6,
    "start_time": "2022-01-15T15:59:43.590Z"
   },
   {
    "duration": 101,
    "start_time": "2022-01-15T16:00:43.354Z"
   },
   {
    "duration": 14,
    "start_time": "2022-01-15T16:00:48.385Z"
   },
   {
    "duration": 20,
    "start_time": "2022-01-15T16:03:11.006Z"
   },
   {
    "duration": 8,
    "start_time": "2022-01-15T16:03:12.759Z"
   },
   {
    "duration": 7,
    "start_time": "2022-01-15T16:03:13.943Z"
   },
   {
    "duration": 6,
    "start_time": "2022-01-15T16:03:47.646Z"
   },
   {
    "duration": 10,
    "start_time": "2022-01-15T16:03:50.349Z"
   },
   {
    "duration": 10,
    "start_time": "2022-01-15T16:04:04.573Z"
   },
   {
    "duration": 86,
    "start_time": "2022-01-15T16:06:49.184Z"
   },
   {
    "duration": 18,
    "start_time": "2022-01-15T16:07:23.342Z"
   },
   {
    "duration": 8,
    "start_time": "2022-01-15T16:07:24.432Z"
   },
   {
    "duration": 7,
    "start_time": "2022-01-15T16:07:25.028Z"
   },
   {
    "duration": 7,
    "start_time": "2022-01-15T16:08:07.718Z"
   },
   {
    "duration": 5,
    "start_time": "2022-01-15T16:08:11.478Z"
   },
   {
    "duration": 12,
    "start_time": "2022-01-15T16:08:12.912Z"
   },
   {
    "duration": 6,
    "start_time": "2022-01-15T16:08:56.861Z"
   },
   {
    "duration": 13,
    "start_time": "2022-01-15T16:08:57.880Z"
   },
   {
    "duration": 6,
    "start_time": "2022-01-15T16:10:01.069Z"
   },
   {
    "duration": 12,
    "start_time": "2022-01-15T16:10:01.623Z"
   },
   {
    "duration": 18,
    "start_time": "2022-01-15T16:10:33.096Z"
   },
   {
    "duration": 8,
    "start_time": "2022-01-15T16:10:33.628Z"
   },
   {
    "duration": 7,
    "start_time": "2022-01-15T16:10:34.211Z"
   },
   {
    "duration": 10,
    "start_time": "2022-01-15T16:10:35.002Z"
   },
   {
    "duration": 267,
    "start_time": "2022-01-15T16:25:13.748Z"
   },
   {
    "duration": 32,
    "start_time": "2022-01-15T16:25:27.047Z"
   },
   {
    "duration": 271,
    "start_time": "2022-01-15T16:27:23.901Z"
   },
   {
    "duration": 27,
    "start_time": "2022-01-15T16:27:46.877Z"
   },
   {
    "duration": 280,
    "start_time": "2022-01-15T16:46:27.337Z"
   },
   {
    "duration": 13,
    "start_time": "2022-01-15T16:47:11.766Z"
   },
   {
    "duration": 34,
    "start_time": "2022-01-15T16:47:19.183Z"
   },
   {
    "duration": 249,
    "start_time": "2022-01-15T16:52:04.384Z"
   },
   {
    "duration": -623,
    "start_time": "2022-01-15T16:53:20.010Z"
   },
   {
    "duration": 6004,
    "start_time": "2022-01-15T16:53:19.751Z"
   },
   {
    "duration": 33,
    "start_time": "2022-01-15T16:54:19.592Z"
   },
   {
    "duration": 37,
    "start_time": "2022-01-15T16:55:37.510Z"
   },
   {
    "duration": 282,
    "start_time": "2022-01-15T17:00:47.723Z"
   },
   {
    "duration": 258,
    "start_time": "2022-01-15T17:00:57.002Z"
   },
   {
    "duration": 267,
    "start_time": "2022-01-15T17:01:27.030Z"
   },
   {
    "duration": 258,
    "start_time": "2022-01-15T17:03:56.667Z"
   },
   {
    "duration": 263,
    "start_time": "2022-01-15T17:04:11.387Z"
   },
   {
    "duration": 270,
    "start_time": "2022-01-15T17:04:28.539Z"
   },
   {
    "duration": 256,
    "start_time": "2022-01-15T17:08:33.806Z"
   },
   {
    "duration": 258,
    "start_time": "2022-01-15T17:10:53.977Z"
   },
   {
    "duration": 271,
    "start_time": "2022-01-15T17:12:07.709Z"
   },
   {
    "duration": 1657,
    "start_time": "2022-01-15T17:12:21.486Z"
   },
   {
    "duration": 16,
    "start_time": "2022-01-15T17:12:23.146Z"
   },
   {
    "duration": 37,
    "start_time": "2022-01-15T17:12:23.165Z"
   },
   {
    "duration": 25,
    "start_time": "2022-01-15T17:12:23.205Z"
   },
   {
    "duration": 19,
    "start_time": "2022-01-15T17:12:23.232Z"
   },
   {
    "duration": 13,
    "start_time": "2022-01-15T17:12:23.254Z"
   },
   {
    "duration": 110,
    "start_time": "2022-01-15T17:12:23.270Z"
   },
   {
    "duration": 12,
    "start_time": "2022-01-15T17:12:23.383Z"
   },
   {
    "duration": 30,
    "start_time": "2022-01-15T17:12:23.399Z"
   },
   {
    "duration": 13,
    "start_time": "2022-01-15T17:12:23.432Z"
   },
   {
    "duration": 11,
    "start_time": "2022-01-15T17:12:23.448Z"
   },
   {
    "duration": 10,
    "start_time": "2022-01-15T17:12:23.461Z"
   },
   {
    "duration": 56,
    "start_time": "2022-01-15T17:12:23.473Z"
   },
   {
    "duration": 9,
    "start_time": "2022-01-15T17:12:23.531Z"
   },
   {
    "duration": 10,
    "start_time": "2022-01-15T17:12:23.542Z"
   },
   {
    "duration": 8,
    "start_time": "2022-01-15T17:12:23.554Z"
   },
   {
    "duration": 55,
    "start_time": "2022-01-15T17:12:23.565Z"
   },
   {
    "duration": 6,
    "start_time": "2022-01-15T17:12:23.623Z"
   },
   {
    "duration": 17,
    "start_time": "2022-01-15T17:12:23.632Z"
   },
   {
    "duration": 5,
    "start_time": "2022-01-15T17:12:23.652Z"
   },
   {
    "duration": 6,
    "start_time": "2022-01-15T17:12:23.660Z"
   },
   {
    "duration": 49,
    "start_time": "2022-01-15T17:12:23.668Z"
   },
   {
    "duration": 6,
    "start_time": "2022-01-15T17:12:23.720Z"
   },
   {
    "duration": 9,
    "start_time": "2022-01-15T17:12:23.729Z"
   },
   {
    "duration": 6,
    "start_time": "2022-01-15T17:12:23.741Z"
   },
   {
    "duration": 7,
    "start_time": "2022-01-15T17:12:23.749Z"
   },
   {
    "duration": 59,
    "start_time": "2022-01-15T17:12:23.764Z"
   },
   {
    "duration": 11,
    "start_time": "2022-01-15T17:12:23.826Z"
   },
   {
    "duration": 13,
    "start_time": "2022-01-15T17:12:23.839Z"
   },
   {
    "duration": 13,
    "start_time": "2022-01-15T17:12:23.855Z"
   },
   {
    "duration": 55,
    "start_time": "2022-01-15T17:12:23.870Z"
   },
   {
    "duration": 14,
    "start_time": "2022-01-15T17:12:23.927Z"
   },
   {
    "duration": 17,
    "start_time": "2022-01-15T17:12:23.944Z"
   },
   {
    "duration": 10,
    "start_time": "2022-01-15T17:12:23.963Z"
   },
   {
    "duration": 5,
    "start_time": "2022-01-15T17:12:23.976Z"
   },
   {
    "duration": 5,
    "start_time": "2022-01-15T17:12:23.984Z"
   },
   {
    "duration": 10,
    "start_time": "2022-01-15T17:12:24.018Z"
   },
   {
    "duration": 12,
    "start_time": "2022-01-15T17:12:24.031Z"
   },
   {
    "duration": 12,
    "start_time": "2022-01-15T17:12:24.046Z"
   },
   {
    "duration": 59,
    "start_time": "2022-01-15T17:12:24.060Z"
   },
   {
    "duration": 13,
    "start_time": "2022-01-15T17:12:24.121Z"
   },
   {
    "duration": 11,
    "start_time": "2022-01-15T17:12:24.137Z"
   },
   {
    "duration": 6,
    "start_time": "2022-01-15T17:12:24.151Z"
   },
   {
    "duration": 5,
    "start_time": "2022-01-15T17:12:24.159Z"
   },
   {
    "duration": 71,
    "start_time": "2022-01-15T17:12:24.166Z"
   },
   {
    "duration": 165,
    "start_time": "2022-01-15T17:12:24.239Z"
   },
   {
    "duration": 28,
    "start_time": "2022-01-15T17:12:24.406Z"
   },
   {
    "duration": 4,
    "start_time": "2022-01-15T17:12:24.437Z"
   },
   {
    "duration": 13,
    "start_time": "2022-01-15T17:12:24.443Z"
   },
   {
    "duration": 8,
    "start_time": "2022-01-15T17:12:24.458Z"
   },
   {
    "duration": 5514,
    "start_time": "2022-01-15T17:12:24.468Z"
   },
   {
    "duration": 10,
    "start_time": "2022-01-15T17:12:29.985Z"
   },
   {
    "duration": 28,
    "start_time": "2022-01-15T17:12:29.997Z"
   },
   {
    "duration": 23,
    "start_time": "2022-01-15T17:12:30.028Z"
   },
   {
    "duration": 24,
    "start_time": "2022-01-15T17:12:30.053Z"
   },
   {
    "duration": 23,
    "start_time": "2022-01-15T17:12:30.079Z"
   },
   {
    "duration": 13,
    "start_time": "2022-01-15T17:12:30.104Z"
   },
   {
    "duration": 20,
    "start_time": "2022-01-15T17:12:30.120Z"
   },
   {
    "duration": 38,
    "start_time": "2022-01-15T17:12:30.143Z"
   },
   {
    "duration": 54,
    "start_time": "2022-01-15T17:12:30.185Z"
   },
   {
    "duration": 15,
    "start_time": "2022-01-15T17:12:30.241Z"
   },
   {
    "duration": 34,
    "start_time": "2022-01-15T17:12:30.258Z"
   },
   {
    "duration": 480,
    "start_time": "2022-01-15T17:12:30.294Z"
   },
   {
    "duration": -540,
    "start_time": "2022-01-15T17:12:31.317Z"
   },
   {
    "duration": -542,
    "start_time": "2022-01-15T17:12:31.321Z"
   },
   {
    "duration": 274,
    "start_time": "2022-01-15T17:13:38.415Z"
   },
   {
    "duration": 267,
    "start_time": "2022-01-15T17:13:56.662Z"
   },
   {
    "duration": 38,
    "start_time": "2022-01-15T17:15:01.607Z"
   },
   {
    "duration": 33,
    "start_time": "2022-01-15T17:17:11.549Z"
   },
   {
    "duration": 33,
    "start_time": "2022-01-15T17:19:53.380Z"
   },
   {
    "duration": 38,
    "start_time": "2022-01-15T17:19:55.295Z"
   },
   {
    "duration": 1543,
    "start_time": "2022-01-15T17:50:10.252Z"
   },
   {
    "duration": 15,
    "start_time": "2022-01-15T17:50:11.798Z"
   },
   {
    "duration": 26,
    "start_time": "2022-01-15T17:50:11.817Z"
   },
   {
    "duration": 18,
    "start_time": "2022-01-15T17:50:11.845Z"
   },
   {
    "duration": 20,
    "start_time": "2022-01-15T17:50:11.865Z"
   },
   {
    "duration": 14,
    "start_time": "2022-01-15T17:50:11.918Z"
   },
   {
    "duration": 100,
    "start_time": "2022-01-15T17:50:11.934Z"
   },
   {
    "duration": 14,
    "start_time": "2022-01-15T17:50:12.036Z"
   },
   {
    "duration": 13,
    "start_time": "2022-01-15T17:50:12.054Z"
   },
   {
    "duration": 50,
    "start_time": "2022-01-15T17:50:12.071Z"
   },
   {
    "duration": 12,
    "start_time": "2022-01-15T17:50:12.124Z"
   },
   {
    "duration": 10,
    "start_time": "2022-01-15T17:50:12.138Z"
   },
   {
    "duration": 17,
    "start_time": "2022-01-15T17:50:12.151Z"
   },
   {
    "duration": 50,
    "start_time": "2022-01-15T17:50:12.170Z"
   },
   {
    "duration": 18,
    "start_time": "2022-01-15T17:50:12.222Z"
   },
   {
    "duration": 9,
    "start_time": "2022-01-15T17:50:12.242Z"
   },
   {
    "duration": 11,
    "start_time": "2022-01-15T17:50:12.253Z"
   },
   {
    "duration": 6,
    "start_time": "2022-01-15T17:50:12.266Z"
   },
   {
    "duration": 60,
    "start_time": "2022-01-15T17:50:12.274Z"
   },
   {
    "duration": 6,
    "start_time": "2022-01-15T17:50:12.336Z"
   },
   {
    "duration": 6,
    "start_time": "2022-01-15T17:50:12.344Z"
   },
   {
    "duration": 4,
    "start_time": "2022-01-15T17:50:12.353Z"
   },
   {
    "duration": 6,
    "start_time": "2022-01-15T17:50:12.360Z"
   },
   {
    "duration": 12,
    "start_time": "2022-01-15T17:50:12.369Z"
   },
   {
    "duration": 38,
    "start_time": "2022-01-15T17:50:12.383Z"
   },
   {
    "duration": 6,
    "start_time": "2022-01-15T17:50:12.424Z"
   },
   {
    "duration": 10,
    "start_time": "2022-01-15T17:50:12.436Z"
   },
   {
    "duration": 17,
    "start_time": "2022-01-15T17:50:12.449Z"
   },
   {
    "duration": 15,
    "start_time": "2022-01-15T17:50:12.468Z"
   },
   {
    "duration": 15,
    "start_time": "2022-01-15T17:50:12.518Z"
   },
   {
    "duration": 19,
    "start_time": "2022-01-15T17:50:12.535Z"
   },
   {
    "duration": 23,
    "start_time": "2022-01-15T17:50:12.557Z"
   },
   {
    "duration": 18,
    "start_time": "2022-01-15T17:50:12.583Z"
   },
   {
    "duration": 16,
    "start_time": "2022-01-15T17:50:12.618Z"
   },
   {
    "duration": 6,
    "start_time": "2022-01-15T17:50:12.637Z"
   },
   {
    "duration": 6,
    "start_time": "2022-01-15T17:50:12.645Z"
   },
   {
    "duration": 9,
    "start_time": "2022-01-15T17:50:12.654Z"
   },
   {
    "duration": 12,
    "start_time": "2022-01-15T17:50:12.666Z"
   },
   {
    "duration": 43,
    "start_time": "2022-01-15T17:50:12.681Z"
   },
   {
    "duration": 13,
    "start_time": "2022-01-15T17:50:12.727Z"
   },
   {
    "duration": 14,
    "start_time": "2022-01-15T17:50:12.742Z"
   },
   {
    "duration": 11,
    "start_time": "2022-01-15T17:50:12.758Z"
   },
   {
    "duration": 47,
    "start_time": "2022-01-15T17:50:12.772Z"
   },
   {
    "duration": 9,
    "start_time": "2022-01-15T17:50:12.822Z"
   },
   {
    "duration": 24,
    "start_time": "2022-01-15T17:50:12.833Z"
   },
   {
    "duration": 187,
    "start_time": "2022-01-15T17:50:12.859Z"
   },
   {
    "duration": 23,
    "start_time": "2022-01-15T17:50:13.048Z"
   },
   {
    "duration": 5,
    "start_time": "2022-01-15T17:50:13.074Z"
   },
   {
    "duration": 37,
    "start_time": "2022-01-15T17:50:13.081Z"
   },
   {
    "duration": 8,
    "start_time": "2022-01-15T17:50:13.121Z"
   },
   {
    "duration": 5445,
    "start_time": "2022-01-15T17:50:13.132Z"
   },
   {
    "duration": 9,
    "start_time": "2022-01-15T17:50:18.580Z"
   },
   {
    "duration": 32,
    "start_time": "2022-01-15T17:50:18.591Z"
   },
   {
    "duration": 14,
    "start_time": "2022-01-15T17:50:18.625Z"
   },
   {
    "duration": 19,
    "start_time": "2022-01-15T17:50:18.641Z"
   },
   {
    "duration": 15,
    "start_time": "2022-01-15T17:50:18.662Z"
   },
   {
    "duration": 38,
    "start_time": "2022-01-15T17:50:18.679Z"
   },
   {
    "duration": 11,
    "start_time": "2022-01-15T17:50:18.719Z"
   },
   {
    "duration": 35,
    "start_time": "2022-01-15T17:50:18.732Z"
   },
   {
    "duration": 49,
    "start_time": "2022-01-15T17:50:18.769Z"
   },
   {
    "duration": 14,
    "start_time": "2022-01-15T17:50:18.821Z"
   },
   {
    "duration": 32,
    "start_time": "2022-01-15T17:50:18.837Z"
   },
   {
    "duration": 73,
    "start_time": "2022-01-15T17:50:18.871Z"
   },
   {
    "duration": 32,
    "start_time": "2022-01-15T17:50:18.947Z"
   },
   {
    "duration": 52,
    "start_time": "2022-01-15T17:50:18.982Z"
   },
   {
    "duration": 34,
    "start_time": "2022-01-15T17:50:19.037Z"
   },
   {
    "duration": 1585,
    "start_time": "2022-01-15T17:56:37.516Z"
   },
   {
    "duration": 15,
    "start_time": "2022-01-15T17:56:39.104Z"
   },
   {
    "duration": 27,
    "start_time": "2022-01-15T17:56:39.122Z"
   },
   {
    "duration": 19,
    "start_time": "2022-01-15T17:56:39.152Z"
   },
   {
    "duration": 54,
    "start_time": "2022-01-15T17:56:39.174Z"
   },
   {
    "duration": 13,
    "start_time": "2022-01-15T17:56:39.230Z"
   },
   {
    "duration": 103,
    "start_time": "2022-01-15T17:56:39.246Z"
   },
   {
    "duration": 12,
    "start_time": "2022-01-15T17:56:39.351Z"
   },
   {
    "duration": 13,
    "start_time": "2022-01-15T17:56:39.367Z"
   },
   {
    "duration": 42,
    "start_time": "2022-01-15T17:56:39.383Z"
   },
   {
    "duration": 12,
    "start_time": "2022-01-15T17:56:39.428Z"
   },
   {
    "duration": 10,
    "start_time": "2022-01-15T17:56:39.443Z"
   },
   {
    "duration": 15,
    "start_time": "2022-01-15T17:56:39.456Z"
   },
   {
    "duration": 55,
    "start_time": "2022-01-15T17:56:39.474Z"
   },
   {
    "duration": 13,
    "start_time": "2022-01-15T17:56:39.532Z"
   },
   {
    "duration": 9,
    "start_time": "2022-01-15T17:56:39.548Z"
   },
   {
    "duration": 10,
    "start_time": "2022-01-15T17:56:39.560Z"
   },
   {
    "duration": 47,
    "start_time": "2022-01-15T17:56:39.573Z"
   },
   {
    "duration": 19,
    "start_time": "2022-01-15T17:56:39.623Z"
   },
   {
    "duration": 5,
    "start_time": "2022-01-15T17:56:39.644Z"
   },
   {
    "duration": 6,
    "start_time": "2022-01-15T17:56:39.651Z"
   },
   {
    "duration": 6,
    "start_time": "2022-01-15T17:56:39.659Z"
   },
   {
    "duration": 12,
    "start_time": "2022-01-15T17:56:39.668Z"
   },
   {
    "duration": 37,
    "start_time": "2022-01-15T17:56:39.683Z"
   },
   {
    "duration": 7,
    "start_time": "2022-01-15T17:56:39.722Z"
   },
   {
    "duration": 6,
    "start_time": "2022-01-15T17:56:39.731Z"
   },
   {
    "duration": 8,
    "start_time": "2022-01-15T17:56:39.743Z"
   },
   {
    "duration": 20,
    "start_time": "2022-01-15T17:56:39.754Z"
   },
   {
    "duration": 47,
    "start_time": "2022-01-15T17:56:39.777Z"
   },
   {
    "duration": 15,
    "start_time": "2022-01-15T17:56:39.826Z"
   },
   {
    "duration": 16,
    "start_time": "2022-01-15T17:56:39.843Z"
   },
   {
    "duration": 15,
    "start_time": "2022-01-15T17:56:39.861Z"
   },
   {
    "duration": 46,
    "start_time": "2022-01-15T17:56:39.879Z"
   },
   {
    "duration": 16,
    "start_time": "2022-01-15T17:56:39.927Z"
   },
   {
    "duration": 6,
    "start_time": "2022-01-15T17:56:39.945Z"
   },
   {
    "duration": 5,
    "start_time": "2022-01-15T17:56:39.954Z"
   },
   {
    "duration": 11,
    "start_time": "2022-01-15T17:56:39.961Z"
   },
   {
    "duration": 45,
    "start_time": "2022-01-15T17:56:39.974Z"
   },
   {
    "duration": 10,
    "start_time": "2022-01-15T17:56:40.021Z"
   },
   {
    "duration": 14,
    "start_time": "2022-01-15T17:56:40.033Z"
   },
   {
    "duration": 15,
    "start_time": "2022-01-15T17:56:40.050Z"
   },
   {
    "duration": 11,
    "start_time": "2022-01-15T17:56:40.067Z"
   },
   {
    "duration": 42,
    "start_time": "2022-01-15T17:56:40.080Z"
   },
   {
    "duration": 7,
    "start_time": "2022-01-15T17:56:40.124Z"
   },
   {
    "duration": 25,
    "start_time": "2022-01-15T17:56:40.133Z"
   },
   {
    "duration": 196,
    "start_time": "2022-01-15T17:56:40.160Z"
   },
   {
    "duration": 25,
    "start_time": "2022-01-15T17:56:40.358Z"
   },
   {
    "duration": 6,
    "start_time": "2022-01-15T17:56:40.386Z"
   },
   {
    "duration": 13,
    "start_time": "2022-01-15T17:56:40.418Z"
   },
   {
    "duration": 9,
    "start_time": "2022-01-15T17:56:40.434Z"
   },
   {
    "duration": 5467,
    "start_time": "2022-01-15T17:56:40.446Z"
   },
   {
    "duration": 9,
    "start_time": "2022-01-15T17:56:45.917Z"
   },
   {
    "duration": 15,
    "start_time": "2022-01-15T17:56:45.929Z"
   },
   {
    "duration": 14,
    "start_time": "2022-01-15T17:56:45.946Z"
   },
   {
    "duration": 19,
    "start_time": "2022-01-15T17:56:45.962Z"
   },
   {
    "duration": 8,
    "start_time": "2022-01-15T17:56:46.018Z"
   },
   {
    "duration": 7,
    "start_time": "2022-01-15T17:56:46.028Z"
   },
   {
    "duration": 15,
    "start_time": "2022-01-15T17:56:46.037Z"
   },
   {
    "duration": 68,
    "start_time": "2022-01-15T17:56:46.054Z"
   },
   {
    "duration": 26,
    "start_time": "2022-01-15T17:56:46.124Z"
   },
   {
    "duration": 14,
    "start_time": "2022-01-15T17:56:46.153Z"
   },
   {
    "duration": 63,
    "start_time": "2022-01-15T17:56:46.169Z"
   },
   {
    "duration": 37,
    "start_time": "2022-01-15T17:56:46.235Z"
   },
   {
    "duration": 53,
    "start_time": "2022-01-15T17:56:46.274Z"
   },
   {
    "duration": 34,
    "start_time": "2022-01-15T17:56:46.330Z"
   },
   {
    "duration": 61,
    "start_time": "2022-01-15T17:56:46.366Z"
   },
   {
    "duration": 1977,
    "start_time": "2022-01-16T14:41:24.226Z"
   },
   {
    "duration": 20,
    "start_time": "2022-01-16T14:41:26.207Z"
   },
   {
    "duration": 47,
    "start_time": "2022-01-16T14:41:26.231Z"
   },
   {
    "duration": 23,
    "start_time": "2022-01-16T14:41:26.282Z"
   },
   {
    "duration": 25,
    "start_time": "2022-01-16T14:41:26.308Z"
   },
   {
    "duration": 14,
    "start_time": "2022-01-16T14:41:26.359Z"
   },
   {
    "duration": 116,
    "start_time": "2022-01-16T14:41:26.376Z"
   },
   {
    "duration": 13,
    "start_time": "2022-01-16T14:41:26.495Z"
   },
   {
    "duration": 19,
    "start_time": "2022-01-16T14:41:26.511Z"
   },
   {
    "duration": 31,
    "start_time": "2022-01-16T14:41:26.533Z"
   },
   {
    "duration": 12,
    "start_time": "2022-01-16T14:41:26.566Z"
   },
   {
    "duration": 12,
    "start_time": "2022-01-16T14:41:26.581Z"
   },
   {
    "duration": 20,
    "start_time": "2022-01-16T14:41:26.596Z"
   },
   {
    "duration": 14,
    "start_time": "2022-01-16T14:41:26.660Z"
   },
   {
    "duration": 10,
    "start_time": "2022-01-16T14:41:26.677Z"
   },
   {
    "duration": 11,
    "start_time": "2022-01-16T14:41:26.690Z"
   },
   {
    "duration": 10,
    "start_time": "2022-01-16T14:41:26.704Z"
   },
   {
    "duration": 7,
    "start_time": "2022-01-16T14:41:26.760Z"
   },
   {
    "duration": 23,
    "start_time": "2022-01-16T14:41:26.770Z"
   },
   {
    "duration": 5,
    "start_time": "2022-01-16T14:41:26.795Z"
   },
   {
    "duration": 6,
    "start_time": "2022-01-16T14:41:26.802Z"
   },
   {
    "duration": 49,
    "start_time": "2022-01-16T14:41:26.810Z"
   },
   {
    "duration": 6,
    "start_time": "2022-01-16T14:41:26.865Z"
   },
   {
    "duration": 8,
    "start_time": "2022-01-16T14:41:26.875Z"
   },
   {
    "duration": 8,
    "start_time": "2022-01-16T14:41:26.885Z"
   },
   {
    "duration": 5,
    "start_time": "2022-01-16T14:41:26.895Z"
   },
   {
    "duration": 9,
    "start_time": "2022-01-16T14:41:26.903Z"
   },
   {
    "duration": 57,
    "start_time": "2022-01-16T14:41:26.914Z"
   },
   {
    "duration": 19,
    "start_time": "2022-01-16T14:41:26.974Z"
   },
   {
    "duration": 18,
    "start_time": "2022-01-16T14:41:26.996Z"
   },
   {
    "duration": 43,
    "start_time": "2022-01-16T14:41:27.016Z"
   },
   {
    "duration": 14,
    "start_time": "2022-01-16T14:41:27.062Z"
   },
   {
    "duration": 17,
    "start_time": "2022-01-16T14:41:27.079Z"
   },
   {
    "duration": 8,
    "start_time": "2022-01-16T14:41:27.099Z"
   },
   {
    "duration": 6,
    "start_time": "2022-01-16T14:41:27.110Z"
   },
   {
    "duration": 5,
    "start_time": "2022-01-16T14:41:27.159Z"
   },
   {
    "duration": 10,
    "start_time": "2022-01-16T14:41:27.168Z"
   },
   {
    "duration": 11,
    "start_time": "2022-01-16T14:41:27.181Z"
   },
   {
    "duration": 11,
    "start_time": "2022-01-16T14:41:27.195Z"
   },
   {
    "duration": 52,
    "start_time": "2022-01-16T14:41:27.209Z"
   },
   {
    "duration": 16,
    "start_time": "2022-01-16T14:41:27.264Z"
   },
   {
    "duration": 18,
    "start_time": "2022-01-16T14:41:27.283Z"
   },
   {
    "duration": 7,
    "start_time": "2022-01-16T14:41:27.303Z"
   },
   {
    "duration": 46,
    "start_time": "2022-01-16T14:41:27.313Z"
   },
   {
    "duration": 24,
    "start_time": "2022-01-16T14:41:27.362Z"
   },
   {
    "duration": 255,
    "start_time": "2022-01-16T14:41:27.389Z"
   },
   {
    "duration": 30,
    "start_time": "2022-01-16T14:41:27.647Z"
   },
   {
    "duration": 6,
    "start_time": "2022-01-16T14:41:27.680Z"
   },
   {
    "duration": 16,
    "start_time": "2022-01-16T14:41:27.689Z"
   },
   {
    "duration": 8,
    "start_time": "2022-01-16T14:41:27.707Z"
   },
   {
    "duration": 6934,
    "start_time": "2022-01-16T14:41:27.718Z"
   },
   {
    "duration": 13,
    "start_time": "2022-01-16T14:41:34.655Z"
   },
   {
    "duration": 15,
    "start_time": "2022-01-16T14:41:34.670Z"
   },
   {
    "duration": 14,
    "start_time": "2022-01-16T14:41:34.687Z"
   },
   {
    "duration": 18,
    "start_time": "2022-01-16T14:41:34.703Z"
   },
   {
    "duration": 8,
    "start_time": "2022-01-16T14:41:34.760Z"
   },
   {
    "duration": 7,
    "start_time": "2022-01-16T14:41:34.770Z"
   },
   {
    "duration": 12,
    "start_time": "2022-01-16T14:41:34.780Z"
   },
   {
    "duration": 75,
    "start_time": "2022-01-16T14:41:34.795Z"
   },
   {
    "duration": 26,
    "start_time": "2022-01-16T14:41:34.873Z"
   },
   {
    "duration": 12,
    "start_time": "2022-01-16T14:41:34.901Z"
   },
   {
    "duration": 64,
    "start_time": "2022-01-16T14:41:34.915Z"
   },
   {
    "duration": 37,
    "start_time": "2022-01-16T14:41:34.982Z"
   },
   {
    "duration": 58,
    "start_time": "2022-01-16T14:41:35.022Z"
   },
   {
    "duration": 33,
    "start_time": "2022-01-16T14:41:35.082Z"
   },
   {
    "duration": 55,
    "start_time": "2022-01-16T14:41:35.117Z"
   },
   {
    "duration": 1782,
    "start_time": "2022-01-16T15:11:27.611Z"
   },
   {
    "duration": 15,
    "start_time": "2022-01-16T15:11:29.397Z"
   },
   {
    "duration": 44,
    "start_time": "2022-01-16T15:11:29.415Z"
   },
   {
    "duration": 17,
    "start_time": "2022-01-16T15:11:29.461Z"
   },
   {
    "duration": 21,
    "start_time": "2022-01-16T15:11:29.480Z"
   },
   {
    "duration": 13,
    "start_time": "2022-01-16T15:11:29.503Z"
   },
   {
    "duration": 116,
    "start_time": "2022-01-16T15:11:29.520Z"
   },
   {
    "duration": 27,
    "start_time": "2022-01-16T15:11:29.639Z"
   },
   {
    "duration": 20,
    "start_time": "2022-01-16T15:11:29.669Z"
   },
   {
    "duration": 20,
    "start_time": "2022-01-16T15:11:29.692Z"
   },
   {
    "duration": 51,
    "start_time": "2022-01-16T15:11:29.715Z"
   },
   {
    "duration": 10,
    "start_time": "2022-01-16T15:11:29.768Z"
   },
   {
    "duration": 15,
    "start_time": "2022-01-16T15:11:29.780Z"
   },
   {
    "duration": 12,
    "start_time": "2022-01-16T15:11:29.797Z"
   },
   {
    "duration": 54,
    "start_time": "2022-01-16T15:11:29.811Z"
   },
   {
    "duration": 10,
    "start_time": "2022-01-16T15:11:29.868Z"
   },
   {
    "duration": 12,
    "start_time": "2022-01-16T15:11:29.881Z"
   },
   {
    "duration": 8,
    "start_time": "2022-01-16T15:11:29.896Z"
   },
   {
    "duration": 63,
    "start_time": "2022-01-16T15:11:29.906Z"
   },
   {
    "duration": 4,
    "start_time": "2022-01-16T15:11:29.972Z"
   },
   {
    "duration": 5,
    "start_time": "2022-01-16T15:11:29.978Z"
   },
   {
    "duration": 4,
    "start_time": "2022-01-16T15:11:29.989Z"
   },
   {
    "duration": 5,
    "start_time": "2022-01-16T15:11:29.996Z"
   },
   {
    "duration": 55,
    "start_time": "2022-01-16T15:11:30.004Z"
   },
   {
    "duration": 5,
    "start_time": "2022-01-16T15:11:30.062Z"
   },
   {
    "duration": 7,
    "start_time": "2022-01-16T15:11:30.069Z"
   },
   {
    "duration": 11,
    "start_time": "2022-01-16T15:11:30.078Z"
   },
   {
    "duration": 14,
    "start_time": "2022-01-16T15:11:30.092Z"
   },
   {
    "duration": 14,
    "start_time": "2022-01-16T15:11:30.108Z"
   },
   {
    "duration": 14,
    "start_time": "2022-01-16T15:11:30.160Z"
   },
   {
    "duration": 19,
    "start_time": "2022-01-16T15:11:30.176Z"
   },
   {
    "duration": 16,
    "start_time": "2022-01-16T15:11:30.198Z"
   },
   {
    "duration": 22,
    "start_time": "2022-01-16T15:11:30.216Z"
   },
   {
    "duration": 27,
    "start_time": "2022-01-16T15:11:30.241Z"
   },
   {
    "duration": 11,
    "start_time": "2022-01-16T15:11:30.271Z"
   },
   {
    "duration": 9,
    "start_time": "2022-01-16T15:11:30.284Z"
   },
   {
    "duration": 18,
    "start_time": "2022-01-16T15:11:30.295Z"
   },
   {
    "duration": 13,
    "start_time": "2022-01-16T15:11:30.315Z"
   },
   {
    "duration": 31,
    "start_time": "2022-01-16T15:11:30.331Z"
   },
   {
    "duration": 16,
    "start_time": "2022-01-16T15:11:30.364Z"
   },
   {
    "duration": 14,
    "start_time": "2022-01-16T15:11:30.382Z"
   },
   {
    "duration": 11,
    "start_time": "2022-01-16T15:11:30.399Z"
   },
   {
    "duration": 16,
    "start_time": "2022-01-16T15:11:30.412Z"
   },
   {
    "duration": 7,
    "start_time": "2022-01-16T15:11:30.460Z"
   },
   {
    "duration": 24,
    "start_time": "2022-01-16T15:11:30.470Z"
   },
   {
    "duration": 191,
    "start_time": "2022-01-16T15:11:30.497Z"
   },
   {
    "duration": 23,
    "start_time": "2022-01-16T15:11:30.690Z"
   },
   {
    "duration": 5,
    "start_time": "2022-01-16T15:11:30.716Z"
   },
   {
    "duration": 40,
    "start_time": "2022-01-16T15:11:30.723Z"
   },
   {
    "duration": 13,
    "start_time": "2022-01-16T15:11:30.766Z"
   },
   {
    "duration": 5838,
    "start_time": "2022-01-16T15:11:30.782Z"
   },
   {
    "duration": 9,
    "start_time": "2022-01-16T15:11:36.623Z"
   },
   {
    "duration": 33,
    "start_time": "2022-01-16T15:11:36.635Z"
   },
   {
    "duration": 14,
    "start_time": "2022-01-16T15:11:36.670Z"
   },
   {
    "duration": 22,
    "start_time": "2022-01-16T15:11:36.686Z"
   },
   {
    "duration": 10,
    "start_time": "2022-01-16T15:11:36.710Z"
   },
   {
    "duration": 7,
    "start_time": "2022-01-16T15:11:36.758Z"
   },
   {
    "duration": 15,
    "start_time": "2022-01-16T15:11:36.767Z"
   },
   {
    "duration": 36,
    "start_time": "2022-01-16T15:11:36.784Z"
   },
   {
    "duration": 50,
    "start_time": "2022-01-16T15:11:36.822Z"
   },
   {
    "duration": 18,
    "start_time": "2022-01-16T15:11:36.875Z"
   },
   {
    "duration": 34,
    "start_time": "2022-01-16T15:11:36.896Z"
   },
   {
    "duration": 39,
    "start_time": "2022-01-16T15:11:36.960Z"
   },
   {
    "duration": 33,
    "start_time": "2022-01-16T15:11:37.001Z"
   },
   {
    "duration": 32,
    "start_time": "2022-01-16T15:11:37.060Z"
   },
   {
    "duration": 36,
    "start_time": "2022-01-16T15:11:37.095Z"
   },
   {
    "duration": 1544,
    "start_time": "2022-01-16T15:16:00.885Z"
   },
   {
    "duration": 16,
    "start_time": "2022-01-16T15:16:02.432Z"
   },
   {
    "duration": 31,
    "start_time": "2022-01-16T15:16:02.450Z"
   },
   {
    "duration": 17,
    "start_time": "2022-01-16T15:16:02.484Z"
   },
   {
    "duration": 18,
    "start_time": "2022-01-16T15:16:02.504Z"
   },
   {
    "duration": 40,
    "start_time": "2022-01-16T15:16:02.524Z"
   },
   {
    "duration": 93,
    "start_time": "2022-01-16T15:16:02.567Z"
   },
   {
    "duration": 12,
    "start_time": "2022-01-16T15:16:02.664Z"
   },
   {
    "duration": 12,
    "start_time": "2022-01-16T15:16:02.679Z"
   },
   {
    "duration": 13,
    "start_time": "2022-01-16T15:16:02.694Z"
   },
   {
    "duration": 50,
    "start_time": "2022-01-16T15:16:02.709Z"
   },
   {
    "duration": 9,
    "start_time": "2022-01-16T15:16:02.762Z"
   },
   {
    "duration": 14,
    "start_time": "2022-01-16T15:16:02.774Z"
   },
   {
    "duration": 8,
    "start_time": "2022-01-16T15:16:02.791Z"
   },
   {
    "duration": 11,
    "start_time": "2022-01-16T15:16:02.801Z"
   },
   {
    "duration": 46,
    "start_time": "2022-01-16T15:16:02.814Z"
   },
   {
    "duration": 11,
    "start_time": "2022-01-16T15:16:02.863Z"
   },
   {
    "duration": 6,
    "start_time": "2022-01-16T15:16:02.876Z"
   },
   {
    "duration": 18,
    "start_time": "2022-01-16T15:16:02.885Z"
   },
   {
    "duration": 4,
    "start_time": "2022-01-16T15:16:02.905Z"
   },
   {
    "duration": 50,
    "start_time": "2022-01-16T15:16:02.912Z"
   },
   {
    "duration": 5,
    "start_time": "2022-01-16T15:16:02.964Z"
   },
   {
    "duration": 6,
    "start_time": "2022-01-16T15:16:02.976Z"
   },
   {
    "duration": 11,
    "start_time": "2022-01-16T15:16:02.985Z"
   },
   {
    "duration": 4,
    "start_time": "2022-01-16T15:16:02.999Z"
   },
   {
    "duration": 5,
    "start_time": "2022-01-16T15:16:03.005Z"
   },
   {
    "duration": 50,
    "start_time": "2022-01-16T15:16:03.012Z"
   },
   {
    "duration": 16,
    "start_time": "2022-01-16T15:16:03.064Z"
   },
   {
    "duration": 14,
    "start_time": "2022-01-16T15:16:03.082Z"
   },
   {
    "duration": 13,
    "start_time": "2022-01-16T15:16:03.099Z"
   },
   {
    "duration": 52,
    "start_time": "2022-01-16T15:16:03.115Z"
   },
   {
    "duration": 13,
    "start_time": "2022-01-16T15:16:03.170Z"
   },
   {
    "duration": 17,
    "start_time": "2022-01-16T15:16:03.185Z"
   },
   {
    "duration": 12,
    "start_time": "2022-01-16T15:16:03.204Z"
   },
   {
    "duration": 7,
    "start_time": "2022-01-16T15:16:03.218Z"
   },
   {
    "duration": 35,
    "start_time": "2022-01-16T15:16:03.227Z"
   },
   {
    "duration": 8,
    "start_time": "2022-01-16T15:16:03.265Z"
   },
   {
    "duration": 10,
    "start_time": "2022-01-16T15:16:03.276Z"
   },
   {
    "duration": 9,
    "start_time": "2022-01-16T15:16:03.288Z"
   },
   {
    "duration": 11,
    "start_time": "2022-01-16T15:16:03.300Z"
   },
   {
    "duration": 54,
    "start_time": "2022-01-16T15:16:03.313Z"
   },
   {
    "duration": 10,
    "start_time": "2022-01-16T15:16:03.369Z"
   },
   {
    "duration": 7,
    "start_time": "2022-01-16T15:16:03.382Z"
   },
   {
    "duration": 5,
    "start_time": "2022-01-16T15:16:03.392Z"
   },
   {
    "duration": 68,
    "start_time": "2022-01-16T15:16:03.399Z"
   },
   {
    "duration": 157,
    "start_time": "2022-01-16T15:16:03.470Z"
   },
   {
    "duration": 39,
    "start_time": "2022-01-16T15:16:03.630Z"
   },
   {
    "duration": 7,
    "start_time": "2022-01-16T15:16:03.672Z"
   },
   {
    "duration": 16,
    "start_time": "2022-01-16T15:16:03.683Z"
   },
   {
    "duration": 9,
    "start_time": "2022-01-16T15:16:03.702Z"
   },
   {
    "duration": 5746,
    "start_time": "2022-01-16T15:16:03.713Z"
   },
   {
    "duration": 9,
    "start_time": "2022-01-16T15:16:09.461Z"
   },
   {
    "duration": 15,
    "start_time": "2022-01-16T15:16:09.472Z"
   },
   {
    "duration": 13,
    "start_time": "2022-01-16T15:16:09.489Z"
   },
   {
    "duration": 17,
    "start_time": "2022-01-16T15:16:09.504Z"
   },
   {
    "duration": 45,
    "start_time": "2022-01-16T15:16:09.523Z"
   },
   {
    "duration": 6,
    "start_time": "2022-01-16T15:16:09.570Z"
   },
   {
    "duration": 12,
    "start_time": "2022-01-16T15:16:09.578Z"
   },
   {
    "duration": 67,
    "start_time": "2022-01-16T15:16:09.592Z"
   },
   {
    "duration": 28,
    "start_time": "2022-01-16T15:16:09.662Z"
   },
   {
    "duration": 15,
    "start_time": "2022-01-16T15:16:09.692Z"
   },
   {
    "duration": 64,
    "start_time": "2022-01-16T15:16:09.709Z"
   },
   {
    "duration": 37,
    "start_time": "2022-01-16T15:16:09.776Z"
   },
   {
    "duration": 54,
    "start_time": "2022-01-16T15:16:09.815Z"
   },
   {
    "duration": 36,
    "start_time": "2022-01-16T15:16:09.872Z"
   },
   {
    "duration": 69,
    "start_time": "2022-01-16T15:16:09.911Z"
   },
   {
    "duration": 370,
    "start_time": "2022-01-16T16:47:28.987Z"
   },
   {
    "duration": 1822,
    "start_time": "2022-01-16T16:47:55.460Z"
   },
   {
    "duration": 60,
    "start_time": "2022-01-16T16:47:57.286Z"
   },
   {
    "duration": 9,
    "start_time": "2022-01-16T17:05:58.724Z"
   },
   {
    "duration": 19,
    "start_time": "2022-01-16T17:06:01.342Z"
   },
   {
    "duration": 20,
    "start_time": "2022-01-16T17:11:09.921Z"
   },
   {
    "duration": 422,
    "start_time": "2022-01-16T17:17:08.276Z"
   },
   {
    "duration": 23,
    "start_time": "2022-01-16T17:17:25.141Z"
   },
   {
    "duration": 247,
    "start_time": "2022-01-16T17:32:56.391Z"
   },
   {
    "duration": 99,
    "start_time": "2022-01-16T17:33:52.517Z"
   },
   {
    "duration": 327,
    "start_time": "2022-01-16T17:34:41.823Z"
   },
   {
    "duration": 50,
    "start_time": "2022-01-16T17:34:55.518Z"
   },
   {
    "duration": 64,
    "start_time": "2022-01-16T17:36:02.339Z"
   },
   {
    "duration": 48,
    "start_time": "2022-01-16T17:37:25.974Z"
   },
   {
    "duration": 48,
    "start_time": "2022-01-16T17:38:24.600Z"
   },
   {
    "duration": 15,
    "start_time": "2022-01-16T17:39:12.740Z"
   },
   {
    "duration": 6,
    "start_time": "2022-01-16T17:42:00.386Z"
   },
   {
    "duration": 21,
    "start_time": "2022-01-16T17:42:01.585Z"
   },
   {
    "duration": 23,
    "start_time": "2022-01-16T17:42:03.216Z"
   },
   {
    "duration": 16,
    "start_time": "2022-01-16T17:42:08.492Z"
   },
   {
    "duration": 15,
    "start_time": "2022-01-16T17:49:38.462Z"
   },
   {
    "duration": 333,
    "start_time": "2022-01-16T17:49:41.896Z"
   },
   {
    "duration": 14,
    "start_time": "2022-01-16T17:51:08.018Z"
   },
   {
    "duration": 45,
    "start_time": "2022-01-16T17:51:10.318Z"
   },
   {
    "duration": 51,
    "start_time": "2022-01-16T17:51:33.250Z"
   },
   {
    "duration": 5,
    "start_time": "2022-01-16T17:51:34.419Z"
   },
   {
    "duration": 5,
    "start_time": "2022-01-16T17:51:35.396Z"
   },
   {
    "duration": 100,
    "start_time": "2022-01-16T18:12:01.366Z"
   },
   {
    "duration": 352,
    "start_time": "2022-01-16T18:12:18.806Z"
   },
   {
    "duration": 279,
    "start_time": "2022-01-16T18:12:51.699Z"
   },
   {
    "duration": 306,
    "start_time": "2022-01-16T18:13:25.614Z"
   },
   {
    "duration": 385,
    "start_time": "2022-01-16T18:17:19.612Z"
   },
   {
    "duration": 892,
    "start_time": "2022-01-16T18:17:30.283Z"
   },
   {
    "duration": 26,
    "start_time": "2022-01-16T18:22:13.446Z"
   },
   {
    "duration": 1558,
    "start_time": "2022-01-16T18:51:47.499Z"
   },
   {
    "duration": 71,
    "start_time": "2022-01-16T18:51:49.061Z"
   },
   {
    "duration": 20,
    "start_time": "2022-01-16T18:51:49.136Z"
   },
   {
    "duration": 31,
    "start_time": "2022-01-16T18:51:49.159Z"
   },
   {
    "duration": 23,
    "start_time": "2022-01-16T18:51:49.193Z"
   },
   {
    "duration": 59,
    "start_time": "2022-01-16T18:51:49.218Z"
   },
   {
    "duration": 21,
    "start_time": "2022-01-16T18:51:49.281Z"
   },
   {
    "duration": 158,
    "start_time": "2022-01-16T18:51:49.306Z"
   },
   {
    "duration": 18,
    "start_time": "2022-01-16T18:51:49.471Z"
   },
   {
    "duration": 39,
    "start_time": "2022-01-16T18:51:49.492Z"
   },
   {
    "duration": 38,
    "start_time": "2022-01-16T18:51:49.535Z"
   },
   {
    "duration": 14,
    "start_time": "2022-01-16T18:51:49.575Z"
   },
   {
    "duration": 14,
    "start_time": "2022-01-16T18:51:49.592Z"
   },
   {
    "duration": 58,
    "start_time": "2022-01-16T18:51:49.609Z"
   },
   {
    "duration": 13,
    "start_time": "2022-01-16T18:51:49.670Z"
   },
   {
    "duration": 17,
    "start_time": "2022-01-16T18:51:49.688Z"
   },
   {
    "duration": 11,
    "start_time": "2022-01-16T18:51:49.710Z"
   },
   {
    "duration": 47,
    "start_time": "2022-01-16T18:51:49.724Z"
   },
   {
    "duration": 12,
    "start_time": "2022-01-16T18:51:49.774Z"
   },
   {
    "duration": 33,
    "start_time": "2022-01-16T18:51:49.789Z"
   },
   {
    "duration": 57,
    "start_time": "2022-01-16T18:51:49.826Z"
   },
   {
    "duration": 20,
    "start_time": "2022-01-16T18:51:49.886Z"
   },
   {
    "duration": 93,
    "start_time": "2022-01-16T18:51:49.910Z"
   },
   {
    "duration": 5,
    "start_time": "2022-01-16T18:51:50.006Z"
   },
   {
    "duration": 13,
    "start_time": "2022-01-16T18:51:50.014Z"
   },
   {
    "duration": 19,
    "start_time": "2022-01-16T18:51:50.030Z"
   },
   {
    "duration": 5,
    "start_time": "2022-01-16T18:51:50.064Z"
   },
   {
    "duration": 14,
    "start_time": "2022-01-16T18:51:50.074Z"
   },
   {
    "duration": 8,
    "start_time": "2022-01-16T18:51:50.090Z"
   },
   {
    "duration": 12,
    "start_time": "2022-01-16T18:51:50.101Z"
   },
   {
    "duration": 51,
    "start_time": "2022-01-16T18:51:50.115Z"
   },
   {
    "duration": 18,
    "start_time": "2022-01-16T18:51:50.168Z"
   },
   {
    "duration": 19,
    "start_time": "2022-01-16T18:51:50.189Z"
   },
   {
    "duration": 54,
    "start_time": "2022-01-16T18:51:50.211Z"
   },
   {
    "duration": 22,
    "start_time": "2022-01-16T18:51:50.268Z"
   },
   {
    "duration": 13,
    "start_time": "2022-01-16T18:51:50.292Z"
   },
   {
    "duration": 8,
    "start_time": "2022-01-16T18:51:50.309Z"
   },
   {
    "duration": 47,
    "start_time": "2022-01-16T18:51:50.320Z"
   },
   {
    "duration": 10,
    "start_time": "2022-01-16T18:51:50.370Z"
   },
   {
    "duration": 15,
    "start_time": "2022-01-16T18:51:50.382Z"
   },
   {
    "duration": 13,
    "start_time": "2022-01-16T18:51:50.400Z"
   },
   {
    "duration": 62,
    "start_time": "2022-01-16T18:51:50.416Z"
   },
   {
    "duration": 15,
    "start_time": "2022-01-16T18:51:50.481Z"
   },
   {
    "duration": 17,
    "start_time": "2022-01-16T18:51:50.499Z"
   },
   {
    "duration": 44,
    "start_time": "2022-01-16T18:51:50.520Z"
   },
   {
    "duration": 8,
    "start_time": "2022-01-16T18:51:50.567Z"
   },
   {
    "duration": 35,
    "start_time": "2022-01-16T18:51:50.577Z"
   },
   {
    "duration": 248,
    "start_time": "2022-01-16T18:51:50.615Z"
   },
   {
    "duration": 37,
    "start_time": "2022-01-16T18:51:50.866Z"
   },
   {
    "duration": 10,
    "start_time": "2022-01-16T18:51:50.906Z"
   },
   {
    "duration": 18,
    "start_time": "2022-01-16T18:51:50.919Z"
   },
   {
    "duration": 7,
    "start_time": "2022-01-16T18:51:50.964Z"
   },
   {
    "duration": 5990,
    "start_time": "2022-01-16T18:51:50.973Z"
   },
   {
    "duration": 13,
    "start_time": "2022-01-16T18:51:56.965Z"
   },
   {
    "duration": 18,
    "start_time": "2022-01-16T18:51:56.980Z"
   },
   {
    "duration": 15,
    "start_time": "2022-01-16T18:51:57.001Z"
   },
   {
    "duration": 62,
    "start_time": "2022-01-16T18:51:57.018Z"
   },
   {
    "duration": 9,
    "start_time": "2022-01-16T18:51:57.083Z"
   },
   {
    "duration": 9,
    "start_time": "2022-01-16T18:51:57.096Z"
   },
   {
    "duration": 57,
    "start_time": "2022-01-16T18:51:57.108Z"
   },
   {
    "duration": 37,
    "start_time": "2022-01-16T18:51:57.168Z"
   },
   {
    "duration": 28,
    "start_time": "2022-01-16T18:51:57.208Z"
   },
   {
    "duration": 36,
    "start_time": "2022-01-16T18:51:57.239Z"
   },
   {
    "duration": 35,
    "start_time": "2022-01-16T18:51:57.278Z"
   },
   {
    "duration": 68,
    "start_time": "2022-01-16T18:51:57.315Z"
   },
   {
    "duration": 35,
    "start_time": "2022-01-16T18:51:57.386Z"
   },
   {
    "duration": 59,
    "start_time": "2022-01-16T18:51:57.423Z"
   },
   {
    "duration": 35,
    "start_time": "2022-01-16T18:51:57.485Z"
   },
   {
    "duration": 12,
    "start_time": "2022-01-16T18:53:18.947Z"
   },
   {
    "duration": 10,
    "start_time": "2022-01-16T18:53:55.213Z"
   },
   {
    "duration": 17,
    "start_time": "2022-01-16T18:54:27.193Z"
   },
   {
    "duration": 13,
    "start_time": "2022-01-16T18:55:59.905Z"
   },
   {
    "duration": 1981,
    "start_time": "2022-01-16T18:56:30.597Z"
   },
   {
    "duration": 78,
    "start_time": "2022-01-16T18:56:32.581Z"
   },
   {
    "duration": 23,
    "start_time": "2022-01-16T18:56:32.663Z"
   },
   {
    "duration": 38,
    "start_time": "2022-01-16T18:56:32.690Z"
   },
   {
    "duration": 52,
    "start_time": "2022-01-16T18:56:32.731Z"
   },
   {
    "duration": 28,
    "start_time": "2022-01-16T18:56:32.786Z"
   },
   {
    "duration": 18,
    "start_time": "2022-01-16T18:56:32.816Z"
   },
   {
    "duration": 99,
    "start_time": "2022-01-16T18:56:32.866Z"
   },
   {
    "duration": 17,
    "start_time": "2022-01-16T18:56:32.969Z"
   },
   {
    "duration": 17,
    "start_time": "2022-01-16T18:56:32.989Z"
   },
   {
    "duration": 54,
    "start_time": "2022-01-16T18:56:33.009Z"
   },
   {
    "duration": 16,
    "start_time": "2022-01-16T18:56:33.066Z"
   },
   {
    "duration": 14,
    "start_time": "2022-01-16T18:56:33.085Z"
   },
   {
    "duration": 14,
    "start_time": "2022-01-16T18:56:33.102Z"
   },
   {
    "duration": 54,
    "start_time": "2022-01-16T18:56:33.119Z"
   },
   {
    "duration": 13,
    "start_time": "2022-01-16T18:56:33.176Z"
   },
   {
    "duration": 8,
    "start_time": "2022-01-16T18:56:33.192Z"
   },
   {
    "duration": 22,
    "start_time": "2022-01-16T18:56:33.204Z"
   },
   {
    "duration": 27,
    "start_time": "2022-01-16T18:56:33.264Z"
   },
   {
    "duration": 17,
    "start_time": "2022-01-16T18:56:33.294Z"
   },
   {
    "duration": 90,
    "start_time": "2022-01-16T18:56:33.314Z"
   },
   {
    "duration": 18,
    "start_time": "2022-01-16T18:56:33.407Z"
   },
   {
    "duration": 32,
    "start_time": "2022-01-16T18:56:33.434Z"
   },
   {
    "duration": 17,
    "start_time": "2022-01-16T18:56:33.471Z"
   },
   {
    "duration": 10,
    "start_time": "2022-01-16T18:56:33.491Z"
   },
   {
    "duration": 6,
    "start_time": "2022-01-16T18:56:33.504Z"
   },
   {
    "duration": 50,
    "start_time": "2022-01-16T18:56:33.513Z"
   },
   {
    "duration": 10,
    "start_time": "2022-01-16T18:56:33.566Z"
   },
   {
    "duration": 590,
    "start_time": "2022-01-16T18:56:33.579Z"
   },
   {
    "duration": -1152,
    "start_time": "2022-01-16T18:56:35.324Z"
   },
   {
    "duration": -1161,
    "start_time": "2022-01-16T18:56:35.335Z"
   },
   {
    "duration": -1163,
    "start_time": "2022-01-16T18:56:35.338Z"
   },
   {
    "duration": -1167,
    "start_time": "2022-01-16T18:56:35.343Z"
   },
   {
    "duration": -1168,
    "start_time": "2022-01-16T18:56:35.345Z"
   },
   {
    "duration": -1169,
    "start_time": "2022-01-16T18:56:35.347Z"
   },
   {
    "duration": -1170,
    "start_time": "2022-01-16T18:56:35.350Z"
   },
   {
    "duration": -1170,
    "start_time": "2022-01-16T18:56:35.352Z"
   },
   {
    "duration": -1173,
    "start_time": "2022-01-16T18:56:35.356Z"
   },
   {
    "duration": -1175,
    "start_time": "2022-01-16T18:56:35.359Z"
   },
   {
    "duration": -1176,
    "start_time": "2022-01-16T18:56:35.362Z"
   },
   {
    "duration": -1177,
    "start_time": "2022-01-16T18:56:35.364Z"
   },
   {
    "duration": -1179,
    "start_time": "2022-01-16T18:56:35.367Z"
   },
   {
    "duration": -1179,
    "start_time": "2022-01-16T18:56:35.369Z"
   },
   {
    "duration": -1181,
    "start_time": "2022-01-16T18:56:35.372Z"
   },
   {
    "duration": -1182,
    "start_time": "2022-01-16T18:56:35.374Z"
   },
   {
    "duration": -1183,
    "start_time": "2022-01-16T18:56:35.377Z"
   },
   {
    "duration": -1185,
    "start_time": "2022-01-16T18:56:35.380Z"
   },
   {
    "duration": -1186,
    "start_time": "2022-01-16T18:56:35.382Z"
   },
   {
    "duration": -1187,
    "start_time": "2022-01-16T18:56:35.385Z"
   },
   {
    "duration": -1187,
    "start_time": "2022-01-16T18:56:35.387Z"
   },
   {
    "duration": -1189,
    "start_time": "2022-01-16T18:56:35.390Z"
   },
   {
    "duration": -1190,
    "start_time": "2022-01-16T18:56:35.393Z"
   },
   {
    "duration": -1229,
    "start_time": "2022-01-16T18:56:35.433Z"
   },
   {
    "duration": -1230,
    "start_time": "2022-01-16T18:56:35.436Z"
   },
   {
    "duration": -1232,
    "start_time": "2022-01-16T18:56:35.440Z"
   },
   {
    "duration": -1235,
    "start_time": "2022-01-16T18:56:35.444Z"
   },
   {
    "duration": -1184,
    "start_time": "2022-01-16T18:56:35.447Z"
   },
   {
    "duration": -1184,
    "start_time": "2022-01-16T18:56:35.449Z"
   },
   {
    "duration": -1185,
    "start_time": "2022-01-16T18:56:35.452Z"
   },
   {
    "duration": -1187,
    "start_time": "2022-01-16T18:56:35.455Z"
   },
   {
    "duration": -1187,
    "start_time": "2022-01-16T18:56:35.457Z"
   },
   {
    "duration": -1201,
    "start_time": "2022-01-16T18:56:35.473Z"
   },
   {
    "duration": -1205,
    "start_time": "2022-01-16T18:56:35.479Z"
   },
   {
    "duration": -1207,
    "start_time": "2022-01-16T18:56:35.483Z"
   },
   {
    "duration": -1209,
    "start_time": "2022-01-16T18:56:35.488Z"
   },
   {
    "duration": -1212,
    "start_time": "2022-01-16T18:56:35.493Z"
   },
   {
    "duration": -1211,
    "start_time": "2022-01-16T18:56:35.495Z"
   },
   {
    "duration": 14,
    "start_time": "2022-01-16T19:00:26.885Z"
   },
   {
    "duration": 105,
    "start_time": "2022-01-16T19:01:19.428Z"
   },
   {
    "duration": 157,
    "start_time": "2022-01-16T19:01:44.703Z"
   },
   {
    "duration": 1842,
    "start_time": "2022-01-16T19:02:14.286Z"
   },
   {
    "duration": 62,
    "start_time": "2022-01-16T19:02:16.132Z"
   },
   {
    "duration": 20,
    "start_time": "2022-01-16T19:02:16.199Z"
   },
   {
    "duration": 56,
    "start_time": "2022-01-16T19:02:16.222Z"
   },
   {
    "duration": 22,
    "start_time": "2022-01-16T19:02:16.280Z"
   },
   {
    "duration": 21,
    "start_time": "2022-01-16T19:02:16.305Z"
   },
   {
    "duration": 22,
    "start_time": "2022-01-16T19:02:16.364Z"
   },
   {
    "duration": 105,
    "start_time": "2022-01-16T19:02:16.390Z"
   },
   {
    "duration": 15,
    "start_time": "2022-01-16T19:02:16.500Z"
   },
   {
    "duration": 46,
    "start_time": "2022-01-16T19:02:16.519Z"
   },
   {
    "duration": 23,
    "start_time": "2022-01-16T19:02:16.568Z"
   },
   {
    "duration": 15,
    "start_time": "2022-01-16T19:02:16.594Z"
   },
   {
    "duration": 49,
    "start_time": "2022-01-16T19:02:16.614Z"
   },
   {
    "duration": 11,
    "start_time": "2022-01-16T19:02:16.666Z"
   },
   {
    "duration": 13,
    "start_time": "2022-01-16T19:02:16.681Z"
   },
   {
    "duration": 16,
    "start_time": "2022-01-16T19:02:16.698Z"
   },
   {
    "duration": 46,
    "start_time": "2022-01-16T19:02:16.717Z"
   },
   {
    "duration": 26,
    "start_time": "2022-01-16T19:02:16.766Z"
   },
   {
    "duration": 67,
    "start_time": "2022-01-16T19:02:16.796Z"
   },
   {
    "duration": 16,
    "start_time": "2022-01-16T19:02:16.866Z"
   },
   {
    "duration": 85,
    "start_time": "2022-01-16T19:02:16.885Z"
   },
   {
    "duration": 13,
    "start_time": "2022-01-16T19:02:16.974Z"
   },
   {
    "duration": 15,
    "start_time": "2022-01-16T19:02:16.994Z"
   },
   {
    "duration": 52,
    "start_time": "2022-01-16T19:02:17.013Z"
   },
   {
    "duration": 22,
    "start_time": "2022-01-16T19:02:17.068Z"
   },
   {
    "duration": 10,
    "start_time": "2022-01-16T19:02:17.094Z"
   },
   {
    "duration": 5,
    "start_time": "2022-01-16T19:02:17.108Z"
   },
   {
    "duration": 45,
    "start_time": "2022-01-16T19:02:17.117Z"
   },
   {
    "duration": 13,
    "start_time": "2022-01-16T19:02:17.165Z"
   },
   {
    "duration": 486,
    "start_time": "2022-01-16T19:02:17.180Z"
   },
   {
    "duration": -1170,
    "start_time": "2022-01-16T19:02:18.840Z"
   },
   {
    "duration": -1173,
    "start_time": "2022-01-16T19:02:18.845Z"
   },
   {
    "duration": -1174,
    "start_time": "2022-01-16T19:02:18.849Z"
   },
   {
    "duration": -1176,
    "start_time": "2022-01-16T19:02:18.853Z"
   },
   {
    "duration": -1178,
    "start_time": "2022-01-16T19:02:18.857Z"
   },
   {
    "duration": -1180,
    "start_time": "2022-01-16T19:02:18.861Z"
   },
   {
    "duration": -1180,
    "start_time": "2022-01-16T19:02:18.864Z"
   },
   {
    "duration": -1181,
    "start_time": "2022-01-16T19:02:18.867Z"
   },
   {
    "duration": -1181,
    "start_time": "2022-01-16T19:02:18.869Z"
   },
   {
    "duration": -1263,
    "start_time": "2022-01-16T19:02:18.954Z"
   },
   {
    "duration": -1266,
    "start_time": "2022-01-16T19:02:18.959Z"
   },
   {
    "duration": -1268,
    "start_time": "2022-01-16T19:02:18.963Z"
   },
   {
    "duration": -1268,
    "start_time": "2022-01-16T19:02:18.965Z"
   },
   {
    "duration": -1269,
    "start_time": "2022-01-16T19:02:18.968Z"
   },
   {
    "duration": -1269,
    "start_time": "2022-01-16T19:02:18.970Z"
   },
   {
    "duration": -1271,
    "start_time": "2022-01-16T19:02:18.973Z"
   },
   {
    "duration": -1273,
    "start_time": "2022-01-16T19:02:18.977Z"
   },
   {
    "duration": -1275,
    "start_time": "2022-01-16T19:02:18.980Z"
   },
   {
    "duration": -1276,
    "start_time": "2022-01-16T19:02:18.982Z"
   },
   {
    "duration": -1277,
    "start_time": "2022-01-16T19:02:18.985Z"
   },
   {
    "duration": -1278,
    "start_time": "2022-01-16T19:02:18.987Z"
   },
   {
    "duration": -1226,
    "start_time": "2022-01-16T19:02:18.990Z"
   },
   {
    "duration": -1228,
    "start_time": "2022-01-16T19:02:18.994Z"
   },
   {
    "duration": -1229,
    "start_time": "2022-01-16T19:02:18.997Z"
   },
   {
    "duration": -1229,
    "start_time": "2022-01-16T19:02:18.999Z"
   },
   {
    "duration": -1230,
    "start_time": "2022-01-16T19:02:19.002Z"
   },
   {
    "duration": -1361,
    "start_time": "2022-01-16T19:02:19.135Z"
   },
   {
    "duration": -1369,
    "start_time": "2022-01-16T19:02:19.145Z"
   },
   {
    "duration": -1370,
    "start_time": "2022-01-16T19:02:19.148Z"
   },
   {
    "duration": -1371,
    "start_time": "2022-01-16T19:02:19.151Z"
   },
   {
    "duration": -1373,
    "start_time": "2022-01-16T19:02:19.154Z"
   },
   {
    "duration": -1374,
    "start_time": "2022-01-16T19:02:19.157Z"
   },
   {
    "duration": -1377,
    "start_time": "2022-01-16T19:02:19.161Z"
   },
   {
    "duration": -1378,
    "start_time": "2022-01-16T19:02:19.164Z"
   },
   {
    "duration": -1379,
    "start_time": "2022-01-16T19:02:19.166Z"
   },
   {
    "duration": -1381,
    "start_time": "2022-01-16T19:02:19.169Z"
   },
   {
    "duration": -1381,
    "start_time": "2022-01-16T19:02:19.171Z"
   },
   {
    "duration": -1383,
    "start_time": "2022-01-16T19:02:19.174Z"
   },
   {
    "duration": 1593,
    "start_time": "2022-01-16T19:04:35.813Z"
   },
   {
    "duration": 60,
    "start_time": "2022-01-16T19:04:37.408Z"
   },
   {
    "duration": 14,
    "start_time": "2022-01-16T19:04:37.472Z"
   },
   {
    "duration": 31,
    "start_time": "2022-01-16T19:04:37.489Z"
   },
   {
    "duration": 41,
    "start_time": "2022-01-16T19:04:37.522Z"
   },
   {
    "duration": 20,
    "start_time": "2022-01-16T19:04:37.565Z"
   },
   {
    "duration": 17,
    "start_time": "2022-01-16T19:04:37.588Z"
   },
   {
    "duration": 120,
    "start_time": "2022-01-16T19:04:37.608Z"
   },
   {
    "duration": 30,
    "start_time": "2022-01-16T19:04:37.734Z"
   },
   {
    "duration": 33,
    "start_time": "2022-01-16T19:04:37.768Z"
   },
   {
    "duration": 20,
    "start_time": "2022-01-16T19:04:37.805Z"
   },
   {
    "duration": 35,
    "start_time": "2022-01-16T19:04:37.828Z"
   },
   {
    "duration": 13,
    "start_time": "2022-01-16T19:04:37.866Z"
   },
   {
    "duration": 10,
    "start_time": "2022-01-16T19:04:37.881Z"
   },
   {
    "duration": 9,
    "start_time": "2022-01-16T19:04:37.893Z"
   },
   {
    "duration": 60,
    "start_time": "2022-01-16T19:04:37.905Z"
   },
   {
    "duration": 9,
    "start_time": "2022-01-16T19:04:37.968Z"
   },
   {
    "duration": 17,
    "start_time": "2022-01-16T19:04:37.979Z"
   },
   {
    "duration": 23,
    "start_time": "2022-01-16T19:04:37.999Z"
   },
   {
    "duration": 15,
    "start_time": "2022-01-16T19:04:38.062Z"
   },
   {
    "duration": 45,
    "start_time": "2022-01-16T19:04:38.079Z"
   },
   {
    "duration": 41,
    "start_time": "2022-01-16T19:04:38.127Z"
   },
   {
    "duration": 12,
    "start_time": "2022-01-16T19:04:38.170Z"
   },
   {
    "duration": 10,
    "start_time": "2022-01-16T19:04:38.184Z"
   },
   {
    "duration": 15,
    "start_time": "2022-01-16T19:04:38.197Z"
   },
   {
    "duration": 50,
    "start_time": "2022-01-16T19:04:38.214Z"
   },
   {
    "duration": 5,
    "start_time": "2022-01-16T19:04:38.273Z"
   },
   {
    "duration": 6,
    "start_time": "2022-01-16T19:04:38.282Z"
   },
   {
    "duration": 8,
    "start_time": "2022-01-16T19:04:38.290Z"
   },
   {
    "duration": 647,
    "start_time": "2022-01-16T19:04:38.301Z"
   },
   {
    "duration": -1061,
    "start_time": "2022-01-16T19:04:40.013Z"
   },
   {
    "duration": -1061,
    "start_time": "2022-01-16T19:04:40.015Z"
   },
   {
    "duration": -1175,
    "start_time": "2022-01-16T19:04:40.131Z"
   },
   {
    "duration": -1185,
    "start_time": "2022-01-16T19:04:40.143Z"
   },
   {
    "duration": -1186,
    "start_time": "2022-01-16T19:04:40.146Z"
   },
   {
    "duration": -1185,
    "start_time": "2022-01-16T19:04:40.148Z"
   },
   {
    "duration": -1187,
    "start_time": "2022-01-16T19:04:40.151Z"
   },
   {
    "duration": -1187,
    "start_time": "2022-01-16T19:04:40.153Z"
   },
   {
    "duration": -1189,
    "start_time": "2022-01-16T19:04:40.156Z"
   },
   {
    "duration": -1192,
    "start_time": "2022-01-16T19:04:40.160Z"
   },
   {
    "duration": -1193,
    "start_time": "2022-01-16T19:04:40.163Z"
   },
   {
    "duration": -1194,
    "start_time": "2022-01-16T19:04:40.165Z"
   },
   {
    "duration": -1196,
    "start_time": "2022-01-16T19:04:40.168Z"
   },
   {
    "duration": -1197,
    "start_time": "2022-01-16T19:04:40.170Z"
   },
   {
    "duration": -1198,
    "start_time": "2022-01-16T19:04:40.173Z"
   },
   {
    "duration": -1201,
    "start_time": "2022-01-16T19:04:40.177Z"
   },
   {
    "duration": -1202,
    "start_time": "2022-01-16T19:04:40.179Z"
   },
   {
    "duration": -1203,
    "start_time": "2022-01-16T19:04:40.182Z"
   },
   {
    "duration": -1205,
    "start_time": "2022-01-16T19:04:40.185Z"
   },
   {
    "duration": -1206,
    "start_time": "2022-01-16T19:04:40.188Z"
   },
   {
    "duration": -1208,
    "start_time": "2022-01-16T19:04:40.191Z"
   },
   {
    "duration": -1210,
    "start_time": "2022-01-16T19:04:40.194Z"
   },
   {
    "duration": -1210,
    "start_time": "2022-01-16T19:04:40.196Z"
   },
   {
    "duration": -1212,
    "start_time": "2022-01-16T19:04:40.199Z"
   },
   {
    "duration": -1212,
    "start_time": "2022-01-16T19:04:40.201Z"
   },
   {
    "duration": -1213,
    "start_time": "2022-01-16T19:04:40.204Z"
   },
   {
    "duration": -1214,
    "start_time": "2022-01-16T19:04:40.206Z"
   },
   {
    "duration": -1216,
    "start_time": "2022-01-16T19:04:40.209Z"
   },
   {
    "duration": -1216,
    "start_time": "2022-01-16T19:04:40.211Z"
   },
   {
    "duration": -1218,
    "start_time": "2022-01-16T19:04:40.215Z"
   },
   {
    "duration": -1220,
    "start_time": "2022-01-16T19:04:40.218Z"
   },
   {
    "duration": -1221,
    "start_time": "2022-01-16T19:04:40.220Z"
   },
   {
    "duration": -1222,
    "start_time": "2022-01-16T19:04:40.223Z"
   },
   {
    "duration": -1224,
    "start_time": "2022-01-16T19:04:40.226Z"
   },
   {
    "duration": -1166,
    "start_time": "2022-01-16T19:04:40.229Z"
   },
   {
    "duration": -1166,
    "start_time": "2022-01-16T19:04:40.231Z"
   },
   {
    "duration": -1168,
    "start_time": "2022-01-16T19:04:40.234Z"
   },
   {
    "duration": -1175,
    "start_time": "2022-01-16T19:04:40.243Z"
   },
   {
    "duration": 429,
    "start_time": "2022-01-16T20:46:25.691Z"
   },
   {
    "duration": 1559,
    "start_time": "2022-01-16T20:46:32.358Z"
   },
   {
    "duration": 56,
    "start_time": "2022-01-16T20:46:33.920Z"
   },
   {
    "duration": 16,
    "start_time": "2022-01-16T20:46:33.980Z"
   },
   {
    "duration": 30,
    "start_time": "2022-01-16T20:46:33.999Z"
   },
   {
    "duration": 42,
    "start_time": "2022-01-16T20:46:34.031Z"
   },
   {
    "duration": 21,
    "start_time": "2022-01-16T20:46:34.076Z"
   },
   {
    "duration": 15,
    "start_time": "2022-01-16T20:46:34.099Z"
   },
   {
    "duration": 112,
    "start_time": "2022-01-16T20:46:34.116Z"
   },
   {
    "duration": 12,
    "start_time": "2022-01-16T20:46:34.232Z"
   },
   {
    "duration": 28,
    "start_time": "2022-01-16T20:46:34.247Z"
   },
   {
    "duration": 16,
    "start_time": "2022-01-16T20:46:34.278Z"
   },
   {
    "duration": 11,
    "start_time": "2022-01-16T20:46:34.297Z"
   },
   {
    "duration": 10,
    "start_time": "2022-01-16T20:46:34.311Z"
   },
   {
    "duration": 51,
    "start_time": "2022-01-16T20:46:34.324Z"
   },
   {
    "duration": 10,
    "start_time": "2022-01-16T20:46:34.377Z"
   },
   {
    "duration": 12,
    "start_time": "2022-01-16T20:46:34.389Z"
   },
   {
    "duration": 7,
    "start_time": "2022-01-16T20:46:34.403Z"
   },
   {
    "duration": 57,
    "start_time": "2022-01-16T20:46:34.412Z"
   },
   {
    "duration": 27,
    "start_time": "2022-01-16T20:46:34.471Z"
   },
   {
    "duration": 14,
    "start_time": "2022-01-16T20:46:34.500Z"
   },
   {
    "duration": 74,
    "start_time": "2022-01-16T20:46:34.516Z"
   },
   {
    "duration": 11,
    "start_time": "2022-01-16T20:46:34.592Z"
   },
   {
    "duration": 12,
    "start_time": "2022-01-16T20:46:34.605Z"
   },
   {
    "duration": 11,
    "start_time": "2022-01-16T20:46:34.619Z"
   },
   {
    "duration": 48,
    "start_time": "2022-01-16T20:46:34.632Z"
   },
   {
    "duration": 11,
    "start_time": "2022-01-16T20:46:34.682Z"
   },
   {
    "duration": 6,
    "start_time": "2022-01-16T20:46:34.700Z"
   },
   {
    "duration": 13,
    "start_time": "2022-01-16T20:46:34.709Z"
   },
   {
    "duration": 43,
    "start_time": "2022-01-16T20:46:34.724Z"
   },
   {
    "duration": 530,
    "start_time": "2022-01-16T20:46:34.770Z"
   },
   {
    "duration": -831,
    "start_time": "2022-01-16T20:46:36.133Z"
   },
   {
    "duration": -832,
    "start_time": "2022-01-16T20:46:36.136Z"
   },
   {
    "duration": -835,
    "start_time": "2022-01-16T20:46:36.140Z"
   },
   {
    "duration": -838,
    "start_time": "2022-01-16T20:46:36.144Z"
   },
   {
    "duration": -839,
    "start_time": "2022-01-16T20:46:36.147Z"
   },
   {
    "duration": -841,
    "start_time": "2022-01-16T20:46:36.150Z"
   },
   {
    "duration": -845,
    "start_time": "2022-01-16T20:46:36.156Z"
   },
   {
    "duration": -851,
    "start_time": "2022-01-16T20:46:36.163Z"
   },
   {
    "duration": -855,
    "start_time": "2022-01-16T20:46:36.168Z"
   },
   {
    "duration": -856,
    "start_time": "2022-01-16T20:46:36.171Z"
   },
   {
    "duration": -858,
    "start_time": "2022-01-16T20:46:36.174Z"
   },
   {
    "duration": -858,
    "start_time": "2022-01-16T20:46:36.176Z"
   },
   {
    "duration": -860,
    "start_time": "2022-01-16T20:46:36.179Z"
   },
   {
    "duration": -861,
    "start_time": "2022-01-16T20:46:36.181Z"
   },
   {
    "duration": -862,
    "start_time": "2022-01-16T20:46:36.184Z"
   },
   {
    "duration": -863,
    "start_time": "2022-01-16T20:46:36.186Z"
   },
   {
    "duration": -866,
    "start_time": "2022-01-16T20:46:36.190Z"
   },
   {
    "duration": -867,
    "start_time": "2022-01-16T20:46:36.193Z"
   },
   {
    "duration": -868,
    "start_time": "2022-01-16T20:46:36.195Z"
   },
   {
    "duration": -868,
    "start_time": "2022-01-16T20:46:36.197Z"
   },
   {
    "duration": -869,
    "start_time": "2022-01-16T20:46:36.199Z"
   },
   {
    "duration": -869,
    "start_time": "2022-01-16T20:46:36.201Z"
   },
   {
    "duration": -871,
    "start_time": "2022-01-16T20:46:36.204Z"
   },
   {
    "duration": -873,
    "start_time": "2022-01-16T20:46:36.207Z"
   },
   {
    "duration": -874,
    "start_time": "2022-01-16T20:46:36.210Z"
   },
   {
    "duration": -875,
    "start_time": "2022-01-16T20:46:36.212Z"
   },
   {
    "duration": -848,
    "start_time": "2022-01-16T20:46:36.215Z"
   },
   {
    "duration": -848,
    "start_time": "2022-01-16T20:46:36.217Z"
   },
   {
    "duration": -848,
    "start_time": "2022-01-16T20:46:36.219Z"
   },
   {
    "duration": -849,
    "start_time": "2022-01-16T20:46:36.221Z"
   },
   {
    "duration": -850,
    "start_time": "2022-01-16T20:46:36.224Z"
   },
   {
    "duration": -851,
    "start_time": "2022-01-16T20:46:36.227Z"
   },
   {
    "duration": -852,
    "start_time": "2022-01-16T20:46:36.229Z"
   },
   {
    "duration": -852,
    "start_time": "2022-01-16T20:46:36.231Z"
   },
   {
    "duration": -893,
    "start_time": "2022-01-16T20:46:36.273Z"
   },
   {
    "duration": -894,
    "start_time": "2022-01-16T20:46:36.276Z"
   },
   {
    "duration": -896,
    "start_time": "2022-01-16T20:46:36.279Z"
   },
   {
    "duration": -897,
    "start_time": "2022-01-16T20:46:36.281Z"
   },
   {
    "duration": 16,
    "start_time": "2022-01-16T20:48:54.603Z"
   },
   {
    "duration": 1682,
    "start_time": "2022-01-16T20:49:00.451Z"
   },
   {
    "duration": 57,
    "start_time": "2022-01-16T20:49:02.136Z"
   },
   {
    "duration": 16,
    "start_time": "2022-01-16T20:49:02.196Z"
   },
   {
    "duration": 55,
    "start_time": "2022-01-16T20:49:02.215Z"
   },
   {
    "duration": 20,
    "start_time": "2022-01-16T20:49:02.273Z"
   },
   {
    "duration": 27,
    "start_time": "2022-01-16T20:49:02.295Z"
   },
   {
    "duration": 43,
    "start_time": "2022-01-16T20:49:02.324Z"
   },
   {
    "duration": 96,
    "start_time": "2022-01-16T20:49:02.371Z"
   },
   {
    "duration": 14,
    "start_time": "2022-01-16T20:49:02.470Z"
   },
   {
    "duration": 20,
    "start_time": "2022-01-16T20:49:02.486Z"
   },
   {
    "duration": 16,
    "start_time": "2022-01-16T20:49:02.508Z"
   },
   {
    "duration": 49,
    "start_time": "2022-01-16T20:49:02.526Z"
   },
   {
    "duration": 21,
    "start_time": "2022-01-16T20:49:02.578Z"
   },
   {
    "duration": 14,
    "start_time": "2022-01-16T20:49:02.602Z"
   },
   {
    "duration": 12,
    "start_time": "2022-01-16T20:49:02.618Z"
   },
   {
    "duration": 44,
    "start_time": "2022-01-16T20:49:02.633Z"
   },
   {
    "duration": 7,
    "start_time": "2022-01-16T20:49:02.679Z"
   },
   {
    "duration": 19,
    "start_time": "2022-01-16T20:49:02.689Z"
   },
   {
    "duration": 26,
    "start_time": "2022-01-16T20:49:02.710Z"
   },
   {
    "duration": 41,
    "start_time": "2022-01-16T20:49:02.738Z"
   },
   {
    "duration": 50,
    "start_time": "2022-01-16T20:49:02.781Z"
   },
   {
    "duration": 41,
    "start_time": "2022-01-16T20:49:02.834Z"
   },
   {
    "duration": 13,
    "start_time": "2022-01-16T20:49:02.882Z"
   },
   {
    "duration": 10,
    "start_time": "2022-01-16T20:49:02.899Z"
   },
   {
    "duration": 57,
    "start_time": "2022-01-16T20:49:02.912Z"
   },
   {
    "duration": 10,
    "start_time": "2022-01-16T20:49:02.972Z"
   },
   {
    "duration": 11,
    "start_time": "2022-01-16T20:49:02.986Z"
   },
   {
    "duration": 8,
    "start_time": "2022-01-16T20:49:03.000Z"
   },
   {
    "duration": 12,
    "start_time": "2022-01-16T20:49:03.011Z"
   },
   {
    "duration": 45,
    "start_time": "2022-01-16T20:49:03.026Z"
   },
   {
    "duration": 19,
    "start_time": "2022-01-16T20:49:03.074Z"
   },
   {
    "duration": 17,
    "start_time": "2022-01-16T20:49:03.096Z"
   },
   {
    "duration": 54,
    "start_time": "2022-01-16T20:49:03.116Z"
   },
   {
    "duration": 18,
    "start_time": "2022-01-16T20:49:03.172Z"
   },
   {
    "duration": 22,
    "start_time": "2022-01-16T20:49:03.194Z"
   },
   {
    "duration": 12,
    "start_time": "2022-01-16T20:49:03.219Z"
   },
   {
    "duration": 36,
    "start_time": "2022-01-16T20:49:03.235Z"
   },
   {
    "duration": 11,
    "start_time": "2022-01-16T20:49:03.274Z"
   },
   {
    "duration": 16,
    "start_time": "2022-01-16T20:49:03.288Z"
   },
   {
    "duration": 11,
    "start_time": "2022-01-16T20:49:03.306Z"
   },
   {
    "duration": 48,
    "start_time": "2022-01-16T20:49:03.319Z"
   },
   {
    "duration": 15,
    "start_time": "2022-01-16T20:49:03.370Z"
   },
   {
    "duration": 20,
    "start_time": "2022-01-16T20:49:03.387Z"
   },
   {
    "duration": 12,
    "start_time": "2022-01-16T20:49:03.409Z"
   },
   {
    "duration": 13,
    "start_time": "2022-01-16T20:49:03.423Z"
   },
   {
    "duration": 32,
    "start_time": "2022-01-16T20:49:03.439Z"
   },
   {
    "duration": 25,
    "start_time": "2022-01-16T20:49:03.474Z"
   },
   {
    "duration": 187,
    "start_time": "2022-01-16T20:49:03.502Z"
   },
   {
    "duration": 27,
    "start_time": "2022-01-16T20:49:03.692Z"
   },
   {
    "duration": 5,
    "start_time": "2022-01-16T20:49:03.722Z"
   },
   {
    "duration": 41,
    "start_time": "2022-01-16T20:49:03.730Z"
   },
   {
    "duration": 13,
    "start_time": "2022-01-16T20:49:03.774Z"
   },
   {
    "duration": 8803,
    "start_time": "2022-01-16T20:49:03.790Z"
   },
   {
    "duration": 11,
    "start_time": "2022-01-16T20:49:12.596Z"
   },
   {
    "duration": 17,
    "start_time": "2022-01-16T20:49:12.610Z"
   },
   {
    "duration": 44,
    "start_time": "2022-01-16T20:49:12.629Z"
   },
   {
    "duration": 34,
    "start_time": "2022-01-16T20:49:12.676Z"
   },
   {
    "duration": 12,
    "start_time": "2022-01-16T20:49:12.713Z"
   },
   {
    "duration": 40,
    "start_time": "2022-01-16T20:49:12.729Z"
   },
   {
    "duration": 18,
    "start_time": "2022-01-16T20:49:12.773Z"
   },
   {
    "duration": 34,
    "start_time": "2022-01-16T20:49:12.794Z"
   },
   {
    "duration": 59,
    "start_time": "2022-01-16T20:49:12.831Z"
   },
   {
    "duration": 14,
    "start_time": "2022-01-16T20:49:12.894Z"
   },
   {
    "duration": 66,
    "start_time": "2022-01-16T20:49:12.911Z"
   },
   {
    "duration": 38,
    "start_time": "2022-01-16T20:49:12.979Z"
   },
   {
    "duration": 59,
    "start_time": "2022-01-16T20:49:13.019Z"
   },
   {
    "duration": 34,
    "start_time": "2022-01-16T20:49:13.080Z"
   },
   {
    "duration": 73,
    "start_time": "2022-01-16T20:49:13.122Z"
   }
  ],
  "kernelspec": {
   "display_name": "Python 3",
   "language": "python",
   "name": "python3"
  },
  "language_info": {
   "codemirror_mode": {
    "name": "ipython",
    "version": 3
   },
   "file_extension": ".py",
   "mimetype": "text/x-python",
   "name": "python",
   "nbconvert_exporter": "python",
   "pygments_lexer": "ipython3",
   "version": "3.7.8"
  },
  "toc": {
   "base_numbering": 1,
   "nav_menu": {},
   "number_sections": true,
   "sideBar": true,
   "skip_h1_title": true,
   "title_cell": "Table of Contents",
   "title_sidebar": "Contents",
   "toc_cell": false,
   "toc_position": {},
   "toc_section_display": true,
   "toc_window_display": false
  }
 },
 "nbformat": 4,
 "nbformat_minor": 2
}
